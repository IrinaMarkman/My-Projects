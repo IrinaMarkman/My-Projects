{
 "cells": [
  {
   "cell_type": "markdown",
   "id": "0a35528d",
   "metadata": {},
   "source": [
    "# 📊 Мини-проект: Анализ заказов с помощью SQLite и Pandas"
   ]
  },
  {
   "cell_type": "code",
   "execution_count": null,
   "id": "2272c038",
   "metadata": {},
   "outputs": [],
   "source": [
    "\n",
    "import sqlite3\n",
    "import pandas as pd\n",
    "import numpy as np\n",
    "import matplotlib.pyplot as plt\n",
    "from IPython.display import display\n"
   ]
  },
  {
   "cell_type": "markdown",
   "id": "ea9b9d84",
   "metadata": {},
   "source": [
    "## Создание базы данных и таблицы"
   ]
  },
  {
   "cell_type": "code",
   "execution_count": null,
   "id": "e34f81b8",
   "metadata": {},
   "outputs": [],
   "source": [
    "\n",
    "conn = sqlite3.connect(':memory:')\n",
    "cursor = conn.cursor()\n",
    "\n",
    "cursor.execute('''\n",
    "CREATE TABLE orders (\n",
    "    id INTEGER PRIMARY KEY AUTOINCREMENT,\n",
    "    user_id INTEGER,\n",
    "    item TEXT,\n",
    "    quantity INTEGER,\n",
    "    price REAL,\n",
    "    order_date TEXT\n",
    ")\n",
    "''')\n"
   ]
  },
  {
   "cell_type": "markdown",
   "id": "032a178f",
   "metadata": {},
   "source": [
    "## Генерация фиктивных данных и вставка в таблицу"
   ]
  },
  {
   "cell_type": "code",
   "execution_count": null,
   "id": "9881cd74",
   "metadata": {},
   "outputs": [],
   "source": [
    "\n",
    "np.random.seed(42)\n",
    "items = ['Book', 'Laptop', 'Pen', 'Headphones', 'Monitor']\n",
    "dates = pd.date_range(start='2023-01-01', end='2023-03-31', freq='D')\n",
    "data = [\n",
    "    (np.random.randint(1, 10), np.random.choice(items),\n",
    "     np.random.randint(1, 5), round(np.random.uniform(5, 500), 2),\n",
    "     pd.to_datetime(np.random.choice(dates)).strftime('%Y-%m-%d'))\n",
    "    for _ in range(100)\n",
    "]\n",
    "cursor.executemany('INSERT INTO orders (user_id, item, quantity, price, order_date) VALUES (?, ?, ?, ?, ?)', data)\n",
    "conn.commit()\n"
   ]
  },
  {
   "cell_type": "markdown",
   "id": "8d01382a",
   "metadata": {},
   "source": [
    "## Выполнение SQL-запросов"
   ]
  },
  {
   "cell_type": "code",
   "execution_count": null,
   "id": "4d785505",
   "metadata": {},
   "outputs": [],
   "source": [
    "\n",
    "queries = {\n",
    "    \"Общее количество заказов\": \"SELECT COUNT(*) FROM orders\",\n",
    "    \"Общий доход\": \"SELECT ROUND(SUM(quantity * price), 2) AS revenue FROM orders\",\n",
    "    \"Средний чек\": \"SELECT ROUND(AVG(quantity * price), 2) AS avg_order FROM orders\",\n",
    "    \"Самый популярный товар\": \"SELECT item, COUNT(*) AS freq FROM orders GROUP BY item ORDER BY freq DESC LIMIT 1\",\n",
    "    \"Доход по дням\": '''\n",
    "        SELECT order_date, ROUND(SUM(quantity * price), 2) as daily_revenue \n",
    "        FROM orders GROUP BY order_date ORDER BY order_date\n",
    "    '''\n",
    "}\n",
    "\n",
    "results = {}\n",
    "for title, q in queries.items():\n",
    "    results[title] = pd.read_sql_query(q, conn)\n",
    "    print(f\"--- {title} ---\")\n",
    "    display(results[title])\n"
   ]
  },
  {
   "cell_type": "markdown",
   "id": "f53cbab9",
   "metadata": {},
   "source": [
    "## Визуализация дохода по дням"
   ]
  },
  {
   "cell_type": "code",
   "execution_count": null,
   "id": "1beb8a4c",
   "metadata": {},
   "outputs": [],
   "source": [
    "\n",
    "daily = results[\"Доход по дням\"]\n",
    "daily['order_date'] = pd.to_datetime(daily['order_date'])\n",
    "plt.figure(figsize=(12, 5))\n",
    "plt.plot(daily['order_date'], daily['daily_revenue'], marker='o')\n",
    "plt.title('Доход по дням')\n",
    "plt.xlabel('Дата')\n",
    "plt.ylabel('Доход')\n",
    "plt.grid(True)\n",
    "plt.tight_layout()\n",
    "plt.show()\n"
   ]
  },
  {
   "cell_type": "markdown",
   "id": "5db5f8fb",
   "metadata": {},
   "source": [
    "## Закрытие соединения с БД"
   ]
  },
  {
   "cell_type": "code",
   "execution_count": null,
   "id": "cadd2dbb",
   "metadata": {},
   "outputs": [],
   "source": [
    "conn.close()"
   ]
  }
 ],
 "metadata": {},
 "nbformat": 4,
 "nbformat_minor": 5
}
