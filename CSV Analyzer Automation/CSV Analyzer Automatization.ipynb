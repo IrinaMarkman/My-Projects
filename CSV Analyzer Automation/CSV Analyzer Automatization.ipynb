{
 "cells": [
  {
   "cell_type": "markdown",
   "id": "08e15111",
   "metadata": {},
   "source": [
    "# 🧪 CSV Analyzer Automation \n",
    "\n",
    "Проект предназначен для автоматизации анализа данных в формате CSV.  \n",
    "Он выполняет:\n",
    "\n",
    "- базовый статистический анализ\n",
    "- поиск пропущенных значений\n",
    "- формирование отчета в формате HTML\n"
   ]
  },
  {
   "cell_type": "markdown",
   "id": "8f256e6e",
   "metadata": {},
   "source": [
    "## 📒 Структура проекта\n",
    "\n",
    "1. 📥 Загрузка данных\n",
    "\n",
    "2. 📊 Обзор данных\n",
    "\n",
    "3. 📈 Основной статистический анализ\n",
    "\n",
    "4. ❓ Поиск пропущенных значений\n",
    "\n",
    "5. 📄 Формирование отчета с DTale"
   ]
  },
  {
   "cell_type": "markdown",
   "id": "e8a425ac",
   "metadata": {},
   "source": [
    "## Шаг 2: Импорт библиотек"
   ]
  },
  {
   "cell_type": "code",
   "execution_count": 1,
   "id": "d6a2e21b",
   "metadata": {},
   "outputs": [],
   "source": [
    "import pandas as pd\n",
    "import dtale\n",
    "from IPython.display import display, HTML"
   ]
  },
  {
   "cell_type": "markdown",
   "id": "51497b05",
   "metadata": {},
   "source": [
    "## Шаг 3: Загрузка и просмотр данных"
   ]
  },
  {
   "cell_type": "code",
   "execution_count": 2,
   "id": "c7613697",
   "metadata": {},
   "outputs": [
    {
     "data": {
      "text/html": [
       "<div>\n",
       "<style scoped>\n",
       "    .dataframe tbody tr th:only-of-type {\n",
       "        vertical-align: middle;\n",
       "    }\n",
       "\n",
       "    .dataframe tbody tr th {\n",
       "        vertical-align: top;\n",
       "    }\n",
       "\n",
       "    .dataframe thead th {\n",
       "        text-align: right;\n",
       "    }\n",
       "</style>\n",
       "<table border=\"1\" class=\"dataframe\">\n",
       "  <thead>\n",
       "    <tr style=\"text-align: right;\">\n",
       "      <th></th>\n",
       "      <th>Название</th>\n",
       "      <th>Цена</th>\n",
       "      <th>Категория</th>\n",
       "    </tr>\n",
       "  </thead>\n",
       "  <tbody>\n",
       "    <tr>\n",
       "      <th>0</th>\n",
       "      <td>Товар 1</td>\n",
       "      <td>100</td>\n",
       "      <td>Электроника</td>\n",
       "    </tr>\n",
       "    <tr>\n",
       "      <th>1</th>\n",
       "      <td>Товар 2</td>\n",
       "      <td>150</td>\n",
       "      <td>Бытовая техника</td>\n",
       "    </tr>\n",
       "    <tr>\n",
       "      <th>2</th>\n",
       "      <td>Товар 3</td>\n",
       "      <td>200</td>\n",
       "      <td>Одежда</td>\n",
       "    </tr>\n",
       "  </tbody>\n",
       "</table>\n",
       "</div>"
      ],
      "text/plain": [
       "  Название  Цена        Категория\n",
       "0  Товар 1   100      Электроника\n",
       "1  Товар 2   150  Бытовая техника\n",
       "2  Товар 3   200           Одежда"
      ]
     },
     "metadata": {},
     "output_type": "display_data"
    }
   ],
   "source": [
    "data = {\n",
    "    \"Название\": [\"Товар 1\", \"Товар 2\", \"Товар 3\"],\n",
    "    \"Цена\": [100, 150, 200],\n",
    "    \"Категория\": [\"Электроника\", \"Бытовая техника\", \"Одежда\"]\n",
    "}\n",
    "\n",
    "df = pd.DataFrame(data)\n",
    "\n",
    "# Сохраняем CSV с кодировкой UTF-8\n",
    "df.to_csv('example_data_utf8.csv', encoding='utf-8', index=False)\n",
    "\n",
    "# Первые строки таблицы\n",
    "display(df.head())"
   ]
  },
  {
   "cell_type": "markdown",
   "id": "649d15d7",
   "metadata": {},
   "source": [
    "## Шаг 4: Статистический анализ"
   ]
  },
  {
   "cell_type": "code",
   "execution_count": 3,
   "id": "9c2cb63c",
   "metadata": {},
   "outputs": [
    {
     "data": {
      "text/html": [
       "<div>\n",
       "<style scoped>\n",
       "    .dataframe tbody tr th:only-of-type {\n",
       "        vertical-align: middle;\n",
       "    }\n",
       "\n",
       "    .dataframe tbody tr th {\n",
       "        vertical-align: top;\n",
       "    }\n",
       "\n",
       "    .dataframe thead th {\n",
       "        text-align: right;\n",
       "    }\n",
       "</style>\n",
       "<table border=\"1\" class=\"dataframe\">\n",
       "  <thead>\n",
       "    <tr style=\"text-align: right;\">\n",
       "      <th></th>\n",
       "      <th>count</th>\n",
       "      <th>unique</th>\n",
       "      <th>top</th>\n",
       "      <th>freq</th>\n",
       "      <th>mean</th>\n",
       "      <th>std</th>\n",
       "      <th>min</th>\n",
       "      <th>25%</th>\n",
       "      <th>50%</th>\n",
       "      <th>75%</th>\n",
       "      <th>max</th>\n",
       "    </tr>\n",
       "  </thead>\n",
       "  <tbody>\n",
       "    <tr>\n",
       "      <th>Название</th>\n",
       "      <td>3</td>\n",
       "      <td>3</td>\n",
       "      <td>Товар 1</td>\n",
       "      <td>1</td>\n",
       "      <td>NaN</td>\n",
       "      <td>NaN</td>\n",
       "      <td>NaN</td>\n",
       "      <td>NaN</td>\n",
       "      <td>NaN</td>\n",
       "      <td>NaN</td>\n",
       "      <td>NaN</td>\n",
       "    </tr>\n",
       "    <tr>\n",
       "      <th>Цена</th>\n",
       "      <td>3.0</td>\n",
       "      <td>NaN</td>\n",
       "      <td>NaN</td>\n",
       "      <td>NaN</td>\n",
       "      <td>150.0</td>\n",
       "      <td>50.0</td>\n",
       "      <td>100.0</td>\n",
       "      <td>125.0</td>\n",
       "      <td>150.0</td>\n",
       "      <td>175.0</td>\n",
       "      <td>200.0</td>\n",
       "    </tr>\n",
       "    <tr>\n",
       "      <th>Категория</th>\n",
       "      <td>3</td>\n",
       "      <td>3</td>\n",
       "      <td>Электроника</td>\n",
       "      <td>1</td>\n",
       "      <td>NaN</td>\n",
       "      <td>NaN</td>\n",
       "      <td>NaN</td>\n",
       "      <td>NaN</td>\n",
       "      <td>NaN</td>\n",
       "      <td>NaN</td>\n",
       "      <td>NaN</td>\n",
       "    </tr>\n",
       "  </tbody>\n",
       "</table>\n",
       "</div>"
      ],
      "text/plain": [
       "          count unique          top freq   mean   std    min    25%    50%  \\\n",
       "Название      3      3      Товар 1    1    NaN   NaN    NaN    NaN    NaN   \n",
       "Цена        3.0    NaN          NaN  NaN  150.0  50.0  100.0  125.0  150.0   \n",
       "Категория     3      3  Электроника    1    NaN   NaN    NaN    NaN    NaN   \n",
       "\n",
       "             75%    max  \n",
       "Название     NaN    NaN  \n",
       "Цена       175.0  200.0  \n",
       "Категория    NaN    NaN  "
      ]
     },
     "metadata": {},
     "output_type": "display_data"
    }
   ],
   "source": [
    "# Основные статистики по числовым и категориальным признакам\n",
    "summary = df.describe(include='all').T\n",
    "display(summary)"
   ]
  },
  {
   "cell_type": "markdown",
   "id": "a6ffd473",
   "metadata": {},
   "source": [
    "## Шаг 5: Поиск пропусков"
   ]
  },
  {
   "cell_type": "code",
   "execution_count": 4,
   "id": "503021cc",
   "metadata": {},
   "outputs": [
    {
     "data": {
      "text/html": [
       "<div>\n",
       "<style scoped>\n",
       "    .dataframe tbody tr th:only-of-type {\n",
       "        vertical-align: middle;\n",
       "    }\n",
       "\n",
       "    .dataframe tbody tr th {\n",
       "        vertical-align: top;\n",
       "    }\n",
       "\n",
       "    .dataframe thead th {\n",
       "        text-align: right;\n",
       "    }\n",
       "</style>\n",
       "<table border=\"1\" class=\"dataframe\">\n",
       "  <thead>\n",
       "    <tr style=\"text-align: right;\">\n",
       "      <th></th>\n",
       "      <th>count</th>\n",
       "      <th>unique</th>\n",
       "      <th>top</th>\n",
       "      <th>freq</th>\n",
       "      <th>mean</th>\n",
       "      <th>std</th>\n",
       "      <th>min</th>\n",
       "      <th>25%</th>\n",
       "      <th>50%</th>\n",
       "      <th>75%</th>\n",
       "      <th>max</th>\n",
       "      <th>Missing Values</th>\n",
       "    </tr>\n",
       "  </thead>\n",
       "  <tbody>\n",
       "    <tr>\n",
       "      <th>Название</th>\n",
       "      <td>3</td>\n",
       "      <td>3</td>\n",
       "      <td>Товар 1</td>\n",
       "      <td>1</td>\n",
       "      <td>NaN</td>\n",
       "      <td>NaN</td>\n",
       "      <td>NaN</td>\n",
       "      <td>NaN</td>\n",
       "      <td>NaN</td>\n",
       "      <td>NaN</td>\n",
       "      <td>NaN</td>\n",
       "      <td>0</td>\n",
       "    </tr>\n",
       "    <tr>\n",
       "      <th>Цена</th>\n",
       "      <td>3.0</td>\n",
       "      <td>NaN</td>\n",
       "      <td>NaN</td>\n",
       "      <td>NaN</td>\n",
       "      <td>150.0</td>\n",
       "      <td>50.0</td>\n",
       "      <td>100.0</td>\n",
       "      <td>125.0</td>\n",
       "      <td>150.0</td>\n",
       "      <td>175.0</td>\n",
       "      <td>200.0</td>\n",
       "      <td>0</td>\n",
       "    </tr>\n",
       "    <tr>\n",
       "      <th>Категория</th>\n",
       "      <td>3</td>\n",
       "      <td>3</td>\n",
       "      <td>Электроника</td>\n",
       "      <td>1</td>\n",
       "      <td>NaN</td>\n",
       "      <td>NaN</td>\n",
       "      <td>NaN</td>\n",
       "      <td>NaN</td>\n",
       "      <td>NaN</td>\n",
       "      <td>NaN</td>\n",
       "      <td>NaN</td>\n",
       "      <td>0</td>\n",
       "    </tr>\n",
       "  </tbody>\n",
       "</table>\n",
       "</div>"
      ],
      "text/plain": [
       "          count unique          top freq   mean   std    min    25%    50%  \\\n",
       "Название      3      3      Товар 1    1    NaN   NaN    NaN    NaN    NaN   \n",
       "Цена        3.0    NaN          NaN  NaN  150.0  50.0  100.0  125.0  150.0   \n",
       "Категория     3      3  Электроника    1    NaN   NaN    NaN    NaN    NaN   \n",
       "\n",
       "             75%    max  Missing Values  \n",
       "Название     NaN    NaN               0  \n",
       "Цена       175.0  200.0               0  \n",
       "Категория    NaN    NaN               0  "
      ]
     },
     "metadata": {},
     "output_type": "display_data"
    }
   ],
   "source": [
    "# Количество пропусков в каждом столбце\n",
    "missing = df.isnull().sum()\n",
    "summary[\"Missing Values\"] = missing\n",
    "display(summary)"
   ]
  },
  {
   "cell_type": "markdown",
   "id": "05bbe253",
   "metadata": {},
   "source": [
    "## Шаг 6: Визуализация и анализ с помощью Dtale"
   ]
  },
  {
   "cell_type": "code",
   "execution_count": 5,
   "id": "9faba6d9",
   "metadata": {},
   "outputs": [],
   "source": [
    "d = dtale.show(df)"
   ]
  },
  {
   "cell_type": "code",
   "execution_count": 6,
   "id": "0d65e94e",
   "metadata": {},
   "outputs": [],
   "source": [
    "d.open_browser()"
   ]
  },
  {
   "cell_type": "markdown",
   "id": "ec53ed82",
   "metadata": {},
   "source": [
    "## Шаг 7: Формирование HTML-отчета c Dtale"
   ]
  },
  {
   "cell_type": "code",
   "execution_count": 7,
   "id": "bc0990c6",
   "metadata": {},
   "outputs": [],
   "source": [
    "with open(\"report.html\", \"w\", encoding=\"utf-8\") as f:\n",
    "    f.write(\"<h2>CSV Report with DTale</h2>\")\n",
    "    f.write(summary.to_html(escape=False))"
   ]
  },
  {
   "cell_type": "code",
   "execution_count": 8,
   "id": "f52268d1",
   "metadata": {},
   "outputs": [
    {
     "data": {
      "text/html": [
       "<h2>CSV Report with DTale</h2><table border=\"1\" class=\"dataframe\">\n",
       "  <thead>\n",
       "    <tr style=\"text-align: right;\">\n",
       "      <th></th>\n",
       "      <th>count</th>\n",
       "      <th>unique</th>\n",
       "      <th>top</th>\n",
       "      <th>freq</th>\n",
       "      <th>mean</th>\n",
       "      <th>std</th>\n",
       "      <th>min</th>\n",
       "      <th>25%</th>\n",
       "      <th>50%</th>\n",
       "      <th>75%</th>\n",
       "      <th>max</th>\n",
       "      <th>Missing Values</th>\n",
       "    </tr>\n",
       "  </thead>\n",
       "  <tbody>\n",
       "    <tr>\n",
       "      <th>Название</th>\n",
       "      <td>3</td>\n",
       "      <td>3</td>\n",
       "      <td>Товар 1</td>\n",
       "      <td>1</td>\n",
       "      <td>NaN</td>\n",
       "      <td>NaN</td>\n",
       "      <td>NaN</td>\n",
       "      <td>NaN</td>\n",
       "      <td>NaN</td>\n",
       "      <td>NaN</td>\n",
       "      <td>NaN</td>\n",
       "      <td>0</td>\n",
       "    </tr>\n",
       "    <tr>\n",
       "      <th>Цена</th>\n",
       "      <td>3.0</td>\n",
       "      <td>NaN</td>\n",
       "      <td>NaN</td>\n",
       "      <td>NaN</td>\n",
       "      <td>150.0</td>\n",
       "      <td>50.0</td>\n",
       "      <td>100.0</td>\n",
       "      <td>125.0</td>\n",
       "      <td>150.0</td>\n",
       "      <td>175.0</td>\n",
       "      <td>200.0</td>\n",
       "      <td>0</td>\n",
       "    </tr>\n",
       "    <tr>\n",
       "      <th>Категория</th>\n",
       "      <td>3</td>\n",
       "      <td>3</td>\n",
       "      <td>Электроника</td>\n",
       "      <td>1</td>\n",
       "      <td>NaN</td>\n",
       "      <td>NaN</td>\n",
       "      <td>NaN</td>\n",
       "      <td>NaN</td>\n",
       "      <td>NaN</td>\n",
       "      <td>NaN</td>\n",
       "      <td>NaN</td>\n",
       "      <td>0</td>\n",
       "    </tr>\n",
       "  </tbody>\n",
       "</table>"
      ],
      "text/plain": [
       "<IPython.core.display.HTML object>"
      ]
     },
     "execution_count": 8,
     "metadata": {},
     "output_type": "execute_result"
    }
   ],
   "source": [
    "HTML(\"report.html\")"
   ]
  },
  {
   "cell_type": "markdown",
   "id": "c8d348d0",
   "metadata": {},
   "source": [
    "## Шаг 8: Итог"
   ]
  },
  {
   "cell_type": "markdown",
   "id": "0c3679d5",
   "metadata": {},
   "source": [
    "✅ Отчет сформирован и сохранен в `report.html`  \n",
    "Можно открыть файл в браузере для просмотра результатов анализа"
   ]
  }
 ],
 "metadata": {
  "kernelspec": {
   "display_name": "Python (newenv)",
   "language": "python",
   "name": "newenv"
  },
  "language_info": {
   "codemirror_mode": {
    "name": "ipython",
    "version": 3
   },
   "file_extension": ".py",
   "mimetype": "text/x-python",
   "name": "python",
   "nbconvert_exporter": "python",
   "pygments_lexer": "ipython3",
   "version": "3.8.20"
  },
  "toc": {
   "base_numbering": 1,
   "nav_menu": {
    "height": "218px",
    "width": "385px"
   },
   "number_sections": true,
   "sideBar": true,
   "skip_h1_title": false,
   "title_cell": "Table of Contents",
   "title_sidebar": "Contents",
   "toc_cell": false,
   "toc_position": {
    "height": "calc(100% - 180px)",
    "left": "10px",
    "top": "150px",
    "width": "307.2px"
   },
   "toc_section_display": true,
   "toc_window_display": true
  }
 },
 "nbformat": 4,
 "nbformat_minor": 5
}
