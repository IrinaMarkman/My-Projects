{
 "cells": [
  {
   "cell_type": "markdown",
   "id": "4bd88c32",
   "metadata": {},
   "source": [
    "\n",
    "# Анализ запросов Яндекс.Картинок по платформам\n",
    "\n",
    "## 🎯 Цель исследования\n",
    "Проверим гипотезу: **интересы пользователей, использующих Яндекс.Картинки на мобильных устройствах и на компьютерах, заметно отличаются**."
   ]
  },
  {
   "cell_type": "markdown",
   "id": "44f4e19d-b928-4dd7-80bd-c713d6d6f938",
   "metadata": {},
   "source": [
    "## 1. 📦 Загрузка и первичный осмотр данных"
   ]
  },
  {
   "cell_type": "code",
   "execution_count": 1,
   "id": "e2f0d4fd-8df9-460c-ae4a-0451e786bb5a",
   "metadata": {},
   "outputs": [],
   "source": [
    "import pandas as pd\n",
    "import matplotlib.pyplot as plt\n",
    "import seaborn as sns\n",
    "from sklearn.feature_extraction.text import TfidfVectorizer\n",
    "from sklearn.cluster import KMeans\n",
    "import plotly.express as px\n",
    "import plotly.graph_objects as go\n",
    "from pandasql import sqldf"
   ]
  },
  {
   "cell_type": "code",
   "execution_count": 2,
   "id": "ea4cc489-c602-4de2-bc07-a15fbc491a43",
   "metadata": {},
   "outputs": [
    {
     "data": {
      "text/html": [
       "<div>\n",
       "<style scoped>\n",
       "    .dataframe tbody tr th:only-of-type {\n",
       "        vertical-align: middle;\n",
       "    }\n",
       "\n",
       "    .dataframe tbody tr th {\n",
       "        vertical-align: top;\n",
       "    }\n",
       "\n",
       "    .dataframe thead th {\n",
       "        text-align: right;\n",
       "    }\n",
       "</style>\n",
       "<table border=\"1\" class=\"dataframe\">\n",
       "  <thead>\n",
       "    <tr style=\"text-align: right;\">\n",
       "      <th></th>\n",
       "      <th>порно фото</th>\n",
       "      <th>1631786697</th>\n",
       "      <th>touch</th>\n",
       "    </tr>\n",
       "  </thead>\n",
       "  <tbody>\n",
       "    <tr>\n",
       "      <th>0</th>\n",
       "      <td>малевич картины</td>\n",
       "      <td>1631806465</td>\n",
       "      <td>desktop</td>\n",
       "    </tr>\n",
       "    <tr>\n",
       "      <th>1</th>\n",
       "      <td>Секс</td>\n",
       "      <td>1631781583</td>\n",
       "      <td>touch</td>\n",
       "    </tr>\n",
       "    <tr>\n",
       "      <th>2</th>\n",
       "      <td>с днём рождения лена</td>\n",
       "      <td>1631771563</td>\n",
       "      <td>touch</td>\n",
       "    </tr>\n",
       "    <tr>\n",
       "      <th>3</th>\n",
       "      <td>зверополис порно</td>\n",
       "      <td>1631787599</td>\n",
       "      <td>touch</td>\n",
       "    </tr>\n",
       "    <tr>\n",
       "      <th>4</th>\n",
       "      <td>алабай собака фото</td>\n",
       "      <td>1631786645</td>\n",
       "      <td>touch</td>\n",
       "    </tr>\n",
       "  </tbody>\n",
       "</table>\n",
       "</div>"
      ],
      "text/plain": [
       "             порно фото  1631786697    touch\n",
       "0       малевич картины  1631806465  desktop\n",
       "1                  Секс  1631781583    touch\n",
       "2  с днём рождения лена  1631771563    touch\n",
       "3      зверополис порно  1631787599    touch\n",
       "4    алабай собака фото  1631786645    touch"
      ]
     },
     "execution_count": 2,
     "metadata": {},
     "output_type": "execute_result"
    }
   ],
   "source": [
    "# Загрузка файла\n",
    "df= pd.read_csv('data.tsv', sep='\\t')\n",
    "\n",
    "# Просомтр первых строк\n",
    "df.head()"
   ]
  },
  {
   "cell_type": "code",
   "execution_count": 3,
   "id": "461181ee-fb4b-4228-938d-b92512bb3e12",
   "metadata": {},
   "outputs": [
    {
     "data": {
      "text/html": [
       "<div>\n",
       "<style scoped>\n",
       "    .dataframe tbody tr th:only-of-type {\n",
       "        vertical-align: middle;\n",
       "    }\n",
       "\n",
       "    .dataframe tbody tr th {\n",
       "        vertical-align: top;\n",
       "    }\n",
       "\n",
       "    .dataframe thead th {\n",
       "        text-align: right;\n",
       "    }\n",
       "</style>\n",
       "<table border=\"1\" class=\"dataframe\">\n",
       "  <thead>\n",
       "    <tr style=\"text-align: right;\">\n",
       "      <th></th>\n",
       "      <th>query</th>\n",
       "      <th>timestamp</th>\n",
       "      <th>platform</th>\n",
       "      <th>date</th>\n",
       "      <th>hour</th>\n",
       "      <th>weekday</th>\n",
       "    </tr>\n",
       "  </thead>\n",
       "  <tbody>\n",
       "    <tr>\n",
       "      <th>0</th>\n",
       "      <td>порно фото</td>\n",
       "      <td>2021-09-16 10:04:57</td>\n",
       "      <td>touch</td>\n",
       "      <td>2021-09-16</td>\n",
       "      <td>10</td>\n",
       "      <td>Thursday</td>\n",
       "    </tr>\n",
       "    <tr>\n",
       "      <th>1</th>\n",
       "      <td>малевич картины</td>\n",
       "      <td>2021-09-16 15:34:25</td>\n",
       "      <td>desktop</td>\n",
       "      <td>2021-09-16</td>\n",
       "      <td>15</td>\n",
       "      <td>Thursday</td>\n",
       "    </tr>\n",
       "    <tr>\n",
       "      <th>2</th>\n",
       "      <td>Секс</td>\n",
       "      <td>2021-09-16 08:39:43</td>\n",
       "      <td>touch</td>\n",
       "      <td>2021-09-16</td>\n",
       "      <td>8</td>\n",
       "      <td>Thursday</td>\n",
       "    </tr>\n",
       "    <tr>\n",
       "      <th>3</th>\n",
       "      <td>с днём рождения лена</td>\n",
       "      <td>2021-09-16 05:52:43</td>\n",
       "      <td>touch</td>\n",
       "      <td>2021-09-16</td>\n",
       "      <td>5</td>\n",
       "      <td>Thursday</td>\n",
       "    </tr>\n",
       "    <tr>\n",
       "      <th>4</th>\n",
       "      <td>зверополис порно</td>\n",
       "      <td>2021-09-16 10:19:59</td>\n",
       "      <td>touch</td>\n",
       "      <td>2021-09-16</td>\n",
       "      <td>10</td>\n",
       "      <td>Thursday</td>\n",
       "    </tr>\n",
       "  </tbody>\n",
       "</table>\n",
       "</div>"
      ],
      "text/plain": [
       "                  query           timestamp platform        date  hour  \\\n",
       "0            порно фото 2021-09-16 10:04:57    touch  2021-09-16    10   \n",
       "1       малевич картины 2021-09-16 15:34:25  desktop  2021-09-16    15   \n",
       "2                  Секс 2021-09-16 08:39:43    touch  2021-09-16     8   \n",
       "3  с днём рождения лена 2021-09-16 05:52:43    touch  2021-09-16     5   \n",
       "4      зверополис порно 2021-09-16 10:19:59    touch  2021-09-16    10   \n",
       "\n",
       "    weekday  \n",
       "0  Thursday  \n",
       "1  Thursday  \n",
       "2  Thursday  \n",
       "3  Thursday  \n",
       "4  Thursday  "
      ]
     },
     "execution_count": 3,
     "metadata": {},
     "output_type": "execute_result"
    }
   ],
   "source": [
    "# Загрузка без заголовка\n",
    "df = pd.read_csv('data.tsv', sep='\\t', header=None, names=['query', 'timestamp', 'platform'])\n",
    "\n",
    "# Преобразуем timestamp в datetime\n",
    "df['timestamp'] = pd.to_datetime(df['timestamp'], unit='s')\n",
    "df['date'] = df['timestamp'].dt.date\n",
    "df['hour'] = df['timestamp'].dt.hour\n",
    "df['weekday'] = df['timestamp'].dt.day_name()\n",
    "\n",
    "# Проверим\n",
    "df.head()"
   ]
  },
  {
   "cell_type": "markdown",
   "id": "b665dbfe-c8ee-4c5c-be04-0474980b37d6",
   "metadata": {},
   "source": [
    "## 2. 🗓 Диапазон дат в выборке"
   ]
  },
  {
   "cell_type": "code",
   "execution_count": 4,
   "id": "2b4563b7-5a10-424e-98d2-3bd06f5129a7",
   "metadata": {},
   "outputs": [
    {
     "name": "stdout",
     "output_type": "stream",
     "text": [
      "Минимальная дата: 2021-08-31\n",
      "Максимальная дата: 2021-09-21\n"
     ]
    }
   ],
   "source": [
    "df['timestamp'] = pd.to_datetime(df['timestamp'], errors='coerce')\n",
    "df['date'] = df['timestamp'].dt.date\n",
    "\n",
    "print(\"Минимальная дата:\", df['date'].min())\n",
    "print(\"Максимальная дата:\", df['date'].max())"
   ]
  },
  {
   "cell_type": "markdown",
   "id": "27887046-4004-47c2-a65b-76c9e31468ed",
   "metadata": {},
   "source": [
    "## 3. 🔎 Частота запросов с упоминанием \"ютуб\""
   ]
  },
  {
   "cell_type": "code",
   "execution_count": 5,
   "id": "0ee46898-231f-4bcb-838d-d0fb356de7cc",
   "metadata": {
    "scrolled": true
   },
   "outputs": [
    {
     "data": {
      "image/png": "[encoded data removed]",
      "text/plain": [
       "<Figure size 640x480 with 1 Axes>"
      ]
     },
     "metadata": {},
     "output_type": "display_data"
    }
   ],
   "source": [
    "df['query_lower'] = df['query'].str.lower()\n",
    "youtube_df = df[df['query_lower'].str.contains('ютуб', na=False)]\n",
    "youtube_counts = youtube_df['platform'].value_counts()\n",
    "\n",
    "# Построим график с подписями\n",
    "ax = youtube_counts.plot(kind='bar', title='Частота запросов \"ютуб\" по платформам', color='skyblue', edgecolor='black')\n",
    "ax.set_xlabel('Платформа')\n",
    "ax.set_ylabel('Количество запросов')\n",
    "plt.xticks(rotation=0)\n",
    "plt.grid(axis='y', linestyle='--', alpha=0.7)\n",
    "plt.tight_layout()\n",
    "plt.show()"
   ]
  },
  {
   "cell_type": "markdown",
   "id": "e0c61266-44c6-40fd-bc89-18ee84b8eb4d",
   "metadata": {},
   "source": [
    "**Вывод ✍️**: Частота запросов, содержащих слово \"ютуб\", оказалась схожей на обеих платформах. Тем не менее, с компьютеров такие запросы совершаются немного чаще (примерно на 10% больше), чем с мобильных устройств."
   ]
  },
  {
   "cell_type": "markdown",
   "id": "322fe9c3-9c7e-457a-868d-e673c390f362",
   "metadata": {},
   "source": [
    "## 4. 🏆 Топ-10 самых частых запросов по платформам"
   ]
  },
  {
   "cell_type": "code",
   "execution_count": 6,
   "id": "5a0c8d7b-0208-4f16-b20f-cdccf5c23d0b",
   "metadata": {
    "scrolled": true
   },
   "outputs": [
    {
     "data": {
      "image/png": "[encoded data removed]",
      "text/plain": [
       "<Figure size 800x500 with 1 Axes>"
      ]
     },
     "metadata": {},
     "output_type": "display_data"
    },
    {
     "data": {
      "image/png": "[encoded data removed]",
      "text/plain": [
       "<Figure size 800x500 with 1 Axes>"
      ]
     },
     "metadata": {},
     "output_type": "display_data"
    }
   ],
   "source": [
    "# Цвета для платформ\n",
    "platform_colors = {\n",
    "    'desktop': 'mediumseagreen',\n",
    "    'touch': 'royalblue'\n",
    "}\n",
    "\n",
    "platforms = df['platform'].unique()\n",
    "\n",
    "for platform in platforms:\n",
    "    top10_platform = df[df['platform'] == platform]['query'].value_counts().nlargest(10)\n",
    "    \n",
    "    plt.figure(figsize=(8, 5))\n",
    "    top10_platform.plot(\n",
    "        kind='barh',\n",
    "        color=platform_colors.get(platform, 'gray'),\n",
    "        edgecolor='black'\n",
    "    )\n",
    "    \n",
    "    plt.title(f'Топ-10 запросов для платформы: {platform}', fontsize=14)\n",
    "    plt.xlabel('Количество запросов')\n",
    "    plt.ylabel('Запросы')\n",
    "    plt.grid(axis='x', linestyle='--', alpha=0.7)\n",
    "    plt.gca().invert_yaxis()  # чтобы самый популярный был сверху\n",
    "    plt.tight_layout()\n",
    "    plt.show()"
   ]
  },
  {
   "cell_type": "markdown",
   "id": "5b26d4a3-a32c-40ff-af4c-bfe1885b44ff",
   "metadata": {},
   "source": [
    "**📱 Мобильные устройства (touch)**:\n",
    "1. Доминируют запросы сексуального и развлекательного характера: «порно», «секс», «хентай», «xxx» — они занимают почти половину топа.\n",
    "2. Много запросов про поздравления — с «днём рождения женщине», мужчине и просто.\n",
    "3. Общий стиль запросов — эмоциональный, личный, быстрый.\n",
    "Люди как будто ищут что-то «по ситуации»: развлечься, поздравить, отреагировать на событие.\n",
    "\n",
    "**🖥 Компьютеры (desktop)**:\n",
    "1. На первом месте — утилитарные и учебные темы: «календарь 2021», «таблица Менделеева», «английский алфавит», «таблица квадратов».\n",
    "2. Присутствуют оформительские и рабочие запросы: «обои на рабочий стол», «одноклассники».\n",
    "3. Темы — образование, оформление, информация. Видно, что пользователь чаще ищет что-то для учебы, офиса, или скачивания.\n",
    "\n",
    "**Вывод ✍️**: \n",
    "Пользователи мобильных устройств чаще делают эмоционально окрашенные и развлекательные запросы, связанные с темами интимного характера и поздравлений.\n",
    "В то время как пользователи компьютеров склонны искать утилитарную и образовательную информацию — таблицы, календари, справочные материалы.\n",
    "Это может отражать различие в контексте использования: мобильные — спонтанный поиск «на ходу», десктоп — более осмысленная работа или учеба."
   ]
  },
  {
   "cell_type": "markdown",
   "id": "7b70267f-4044-48cb-bba1-08e6ed2141a2",
   "metadata": {},
   "source": [
    "## 5. 🕰️ Временная активность пользователей"
   ]
  },
  {
   "cell_type": "code",
   "execution_count": 7,
   "id": "9e023f4a-0580-4dd6-9f6b-771ee1d00b19",
   "metadata": {},
   "outputs": [
    {
     "data": {
      "image/png": "[encoded data removed]",
      "text/plain": [
       "<Figure size 1200x600 with 2 Axes>"
      ]
     },
     "metadata": {},
     "output_type": "display_data"
    }
   ],
   "source": [
    "import seaborn as sns\n",
    "import matplotlib.pyplot as plt\n",
    "\n",
    "# Убедимся, что час и день недели есть\n",
    "df['hour'] = df['timestamp'].dt.hour\n",
    "df['weekday'] = df['timestamp'].dt.day_name()\n",
    "\n",
    "# Пивот-таблица\n",
    "pivot_heat = df.pivot_table(index='hour', columns='weekday', values='query', aggfunc='count')\n",
    "\n",
    "# Порядок дней недели \n",
    "ordered_days = ['Monday', 'Tuesday', 'Wednesday', 'Thursday', 'Friday', 'Saturday', 'Sunday']\n",
    "pivot_heat = pivot_heat[ordered_days]\n",
    "\n",
    "# Построим график\n",
    "plt.figure(figsize=(12, 6))\n",
    "sns.heatmap(pivot_heat.fillna(0), cmap='YlGnBu', linewidths=0.3, linecolor='gray')\n",
    "\n",
    "plt.title('Активность по дням и часам')\n",
    "plt.xlabel('День недели')\n",
    "plt.ylabel('Час дня')\n",
    "plt.yticks(ticks=range(24), labels=[str(h) for h in range(24)], rotation=0)\n",
    "plt.tight_layout()\n",
    "plt.show()"
   ]
  },
  {
   "cell_type": "markdown",
   "id": "8214aef9-f973-4885-92e6-582619a36690",
   "metadata": {},
   "source": [
    "**Вывод ✍️**: \n",
    "1. Наибольшая активность пользователей наблюдается в дневное и вечернее время — с 5:00 до 20:00, причём запросов больше всего поступает во второй половине дня.\n",
    "2. Пиковая нагрузка вне зависимости от дня недели приходится на промежуток с 17:00 до 20:00, что может быть связано с окончанием рабочего дня и активным использованием мобильных устройств в дороге или дома.\n",
    "3. В ночные часы (с 22:00 до 3:00) происходит резкое снижение активности — почти полное затухание потока запросов, что соответствует времени сна основной аудитории.\n",
    "4. Максимальная активность по дням недели наблюдается в понедельник и вторник, особенно в вечерние часы (с 17:00 до 19:00), что может отражать высокую вовлечённость пользователей в начале недели.\n",
    "5. Минимум запросов приходится на пятницу и субботу, что, вероятно, связано с тем, что пользователи в эти дни чаще заняты офлайн-активностями, реже используют поиск по картинкам, особенно с компьютеров.\n",
    "6. Воскресенье показывает умеренный рост активности — возможно, это связано с подготовкой к рабочей неделе и возвращением к регулярным цифровым сценариям."
   ]
  },
  {
   "cell_type": "code",
   "execution_count": 8,
   "id": "34fc8f8b-2495-4a09-b837-90ab3c3357dd",
   "metadata": {
    "scrolled": true
   },
   "outputs": [
    {
     "data": {
      "image/png": "[encoded data removed]",
      "text/plain": [
       "<Figure size 1000x500 with 1 Axes>"
      ]
     },
     "metadata": {},
     "output_type": "display_data"
    }
   ],
   "source": [
    "# Группировка: количество запросов по часу и платформе\n",
    "pivot = df.pivot_table(index='hour', columns='platform', values='query', aggfunc='count')\n",
    "\n",
    "# Построение графика\n",
    "ax = pivot.plot(\n",
    "    kind='line',\n",
    "    figsize=(10, 5),\n",
    "    marker='o',\n",
    "    linewidth=2,\n",
    "    title='Активность пользователей по часам'\n",
    ")\n",
    "\n",
    "# Подписи осей\n",
    "ax.set_xlabel('Час суток (0–23)')\n",
    "ax.set_ylabel('Количество запросов')\n",
    "\n",
    "# Настройки оси X — все часы\n",
    "ax.set_xticks(range(24))\n",
    "ax.set_xticklabels(range(24))\n",
    "plt.grid(axis='y', linestyle='--', alpha=0.7)\n",
    "\n",
    "plt.tight_layout()\n",
    "plt.show()"
   ]
  },
  {
   "cell_type": "markdown",
   "id": "e6f350b8-6b18-440a-9256-8113929fa033",
   "metadata": {},
   "source": [
    "**Вывод ✍️**: \n",
    "Общая динамика активности показывает, что запросы начинают поступать уже с 6–7 часов утра, достигают пика во второй половине дня и постепенно снижаются после 20:00.\n",
    "\n",
    "**Мобильные пользователи (touch)** демонстрируют два выраженных пика активности:\n",
    "\n",
    "1. Утренний — около 6–7 часов, что, вероятно, связано с использованием смартфонов по пути на работу или учёбу.\n",
    "2. Вечерний — с 17 до 19 часов, когда пользователи возвращаются домой или находятся в более расслабленном состоянии.\n",
    "3. Между этими пиками (с 8 до 16 часов) активность остаётся стабильной, что может отражать фоновое использование мобильных устройств в течение дня.\n",
    "\n",
    "**Пользователи компьютеров (desktop)** проявляют более равномерную и продолжительную активность с 6 до 18 часов.\n",
    "1. Наблюдается медленный рост до 13:00, далее — плато с 14 до 17, и плавное снижение к вечеру.\n",
    "2. Это поведение похоже на типичный офисный или учебный график, где компьютеры используются в течение рабочего/учебного дня, а вечером отключаются.\n",
    "\n",
    "**Сравнение платформ**:\n",
    "\n",
    "- Общее количество запросов с мобильных устройств значительно выше, чем с десктопов — это указывает на доминирование мобильного поведения при использовании Яндекс.Картинок.\n",
    "- Активность мобильных пользователей более \"импульсная\", с резкими пиками, тогда как десктоп — более стабильный и предсказуемый канал.\n",
    "\n",
    "**Гипотеза**: различия могут быть связаны с контекстами использования:\n",
    "- Мобильные устройства — для личного и спонтанного поиска, часто в движении или в свободное время.\n",
    "- Десктопы — для целенаправленного поиска в рабочее/учебное время, с меньшей эмоциональной окраской."
   ]
  },
  {
   "cell_type": "markdown",
   "id": "7938be5c-8f21-4912-ae13-8de7d6dfde8a",
   "metadata": {},
   "source": [
    "## 6. 🤖 Кластеризация тематик запросов"
   ]
  },
  {
   "cell_type": "code",
   "execution_count": 9,
   "id": "f2591051-6940-4e94-90fe-b2705318fecf",
   "metadata": {},
   "outputs": [
    {
     "data": {
      "application/vnd.plotly.v1+json": {
       "config": {
        "plotlyServerURL": "https://plot.ly"
       },
       "data": [
        {
         "name": "Cluster 0",
         "text": [
          "83.96%",
          "16.04%"
         ],
         "textposition": "auto",
         "type": "bar",
         "x": [
          "touch",
          "desktop"
         ],
         "y": {
          "bdata": "XAL4PUve6j+Q9h8I04bEPw==",
          "dtype": "f8"
         }
        },
        {
         "name": "Cluster 1",
         "text": [
          "63.82%",
          "36.18%"
         ],
         "textposition": "auto",
         "type": "bar",
         "x": [
          "touch",
          "desktop"
         ],
         "y": {
          "bdata": "lvwKgmVs5D/UBur7NCfXPw==",
          "dtype": "f8"
         }
        },
        {
         "name": "Cluster 2",
         "text": [
          "87.03%",
          "12.97%"
         ],
         "textposition": "auto",
         "type": "bar",
         "x": [
          "touch",
          "desktop"
         ],
         "y": {
          "bdata": "Hzo1JsPZ6z+EFytn85jAPw==",
          "dtype": "f8"
         }
        },
        {
         "name": "Cluster 3",
         "text": [
          "90.75%",
          "9.25%"
         ],
         "textposition": "auto",
         "type": "bar",
         "x": [
          "touch",
          "desktop"
         ],
         "y": {
          "bdata": "2Q40G5AK7T82iV8mf6u3Pw==",
          "dtype": "f8"
         }
        }
       ],
       "layout": {
        "barmode": "group",
        "template": {
         "data": {
          "bar": [
           {
            "error_x": {
             "color": "#2a3f5f"
            },
            "error_y": {
             "color": "#2a3f5f"
            },
            "marker": {
             "line": {
              "color": "#E5ECF6",
              "width": 0.5
             },
             "pattern": {
              "fillmode": "overlay",
              "size": 10,
              "solidity": 0.2
             }
            },
            "type": "bar"
           }
          ],
          "barpolar": [
           {
            "marker": {
             "line": {
              "color": "#E5ECF6",
              "width": 0.5
             },
             "pattern": {
              "fillmode": "overlay",
              "size": 10,
              "solidity": 0.2
             }
            },
            "type": "barpolar"
           }
          ],
          "carpet": [
           {
            "aaxis": {
             "endlinecolor": "#2a3f5f",
             "gridcolor": "white",
             "linecolor": "white",
             "minorgridcolor": "white",
             "startlinecolor": "#2a3f5f"
            },
            "baxis": {
             "endlinecolor": "#2a3f5f",
             "gridcolor": "white",
             "linecolor": "white",
             "minorgridcolor": "white",
             "startlinecolor": "#2a3f5f"
            },
            "type": "carpet"
           }
          ],
          "choropleth": [
           {
            "colorbar": {
             "outlinewidth": 0,
             "ticks": ""
            },
            "type": "choropleth"
           }
          ],
          "contour": [
           {
            "colorbar": {
             "outlinewidth": 0,
             "ticks": ""
            },
            "colorscale": [
             [
              0,
              "#0d0887"
             ],
             [
              0.1111111111111111,
              "#46039f"
             ],
             [
              0.2222222222222222,
              "#7201a8"
             ],
             [
              0.3333333333333333,
              "#9c179e"
             ],
             [
              0.4444444444444444,
              "#bd3786"
             ],
             [
              0.5555555555555556,
              "#d8576b"
             ],
             [
              0.6666666666666666,
              "#ed7953"
             ],
             [
              0.7777777777777778,
              "#fb9f3a"
             ],
             [
              0.8888888888888888,
              "#fdca26"
             ],
             [
              1,
              "#f0f921"
             ]
            ],
            "type": "contour"
           }
          ],
          "contourcarpet": [
           {
            "colorbar": {
             "outlinewidth": 0,
             "ticks": ""
            },
            "type": "contourcarpet"
           }
          ],
          "heatmap": [
           {
            "colorbar": {
             "outlinewidth": 0,
             "ticks": ""
            },
            "colorscale": [
             [
              0,
              "#0d0887"
             ],
             [
              0.1111111111111111,
              "#46039f"
             ],
             [
              0.2222222222222222,
              "#7201a8"
             ],
             [
              0.3333333333333333,
              "#9c179e"
             ],
             [
              0.4444444444444444,
              "#bd3786"
             ],
             [
              0.5555555555555556,
              "#d8576b"
             ],
             [
              0.6666666666666666,
              "#ed7953"
             ],
             [
              0.7777777777777778,
              "#fb9f3a"
             ],
             [
              0.8888888888888888,
              "#fdca26"
             ],
             [
              1,
              "#f0f921"
             ]
            ],
            "type": "heatmap"
           }
          ],
          "histogram": [
           {
            "marker": {
             "pattern": {
              "fillmode": "overlay",
              "size": 10,
              "solidity": 0.2
             }
            },
            "type": "histogram"
           }
          ],
          "histogram2d": [
           {
            "colorbar": {
             "outlinewidth": 0,
             "ticks": ""
            },
            "colorscale": [
             [
              0,
              "#0d0887"
             ],
             [
              0.1111111111111111,
              "#46039f"
             ],
             [
              0.2222222222222222,
              "#7201a8"
             ],
             [
              0.3333333333333333,
              "#9c179e"
             ],
             [
              0.4444444444444444,
              "#bd3786"
             ],
             [
              0.5555555555555556,
              "#d8576b"
             ],
             [
              0.6666666666666666,
              "#ed7953"
             ],
             [
              0.7777777777777778,
              "#fb9f3a"
             ],
             [
              0.8888888888888888,
              "#fdca26"
             ],
             [
              1,
              "#f0f921"
             ]
            ],
            "type": "histogram2d"
           }
          ],
          "histogram2dcontour": [
           {
            "colorbar": {
             "outlinewidth": 0,
             "ticks": ""
            },
            "colorscale": [
             [
              0,
              "#0d0887"
             ],
             [
              0.1111111111111111,
              "#46039f"
             ],
             [
              0.2222222222222222,
              "#7201a8"
             ],
             [
              0.3333333333333333,
              "#9c179e"
             ],
             [
              0.4444444444444444,
              "#bd3786"
             ],
             [
              0.5555555555555556,
              "#d8576b"
             ],
             [
              0.6666666666666666,
              "#ed7953"
             ],
             [
              0.7777777777777778,
              "#fb9f3a"
             ],
             [
              0.8888888888888888,
              "#fdca26"
             ],
             [
              1,
              "#f0f921"
             ]
            ],
            "type": "histogram2dcontour"
           }
          ],
          "mesh3d": [
           {
            "colorbar": {
             "outlinewidth": 0,
             "ticks": ""
            },
            "type": "mesh3d"
           }
          ],
          "parcoords": [
           {
            "line": {
             "colorbar": {
              "outlinewidth": 0,
              "ticks": ""
             }
            },
            "type": "parcoords"
           }
          ],
          "pie": [
           {
            "automargin": true,
            "type": "pie"
           }
          ],
          "scatter": [
           {
            "fillpattern": {
             "fillmode": "overlay",
             "size": 10,
             "solidity": 0.2
            },
            "type": "scatter"
           }
          ],
          "scatter3d": [
           {
            "line": {
             "colorbar": {
              "outlinewidth": 0,
              "ticks": ""
             }
            },
            "marker": {
             "colorbar": {
              "outlinewidth": 0,
              "ticks": ""
             }
            },
            "type": "scatter3d"
           }
          ],
          "scattercarpet": [
           {
            "marker": {
             "colorbar": {
              "outlinewidth": 0,
              "ticks": ""
             }
            },
            "type": "scattercarpet"
           }
          ],
          "scattergeo": [
           {
            "marker": {
             "colorbar": {
              "outlinewidth": 0,
              "ticks": ""
             }
            },
            "type": "scattergeo"
           }
          ],
          "scattergl": [
           {
            "marker": {
             "colorbar": {
              "outlinewidth": 0,
              "ticks": ""
             }
            },
            "type": "scattergl"
           }
          ],
          "scattermap": [
           {
            "marker": {
             "colorbar": {
              "outlinewidth": 0,
              "ticks": ""
             }
            },
            "type": "scattermap"
           }
          ],
          "scattermapbox": [
           {
            "marker": {
             "colorbar": {
              "outlinewidth": 0,
              "ticks": ""
             }
            },
            "type": "scattermapbox"
           }
          ],
          "scatterpolar": [
           {
            "marker": {
             "colorbar": {
              "outlinewidth": 0,
              "ticks": ""
             }
            },
            "type": "scatterpolar"
           }
          ],
          "scatterpolargl": [
           {
            "marker": {
             "colorbar": {
              "outlinewidth": 0,
              "ticks": ""
             }
            },
            "type": "scatterpolargl"
           }
          ],
          "scatterternary": [
           {
            "marker": {
             "colorbar": {
              "outlinewidth": 0,
              "ticks": ""
             }
            },
            "type": "scatterternary"
           }
          ],
          "surface": [
           {
            "colorbar": {
             "outlinewidth": 0,
             "ticks": ""
            },
            "colorscale": [
             [
              0,
              "#0d0887"
             ],
             [
              0.1111111111111111,
              "#46039f"
             ],
             [
              0.2222222222222222,
              "#7201a8"
             ],
             [
              0.3333333333333333,
              "#9c179e"
             ],
             [
              0.4444444444444444,
              "#bd3786"
             ],
             [
              0.5555555555555556,
              "#d8576b"
             ],
             [
              0.6666666666666666,
              "#ed7953"
             ],
             [
              0.7777777777777778,
              "#fb9f3a"
             ],
             [
              0.8888888888888888,
              "#fdca26"
             ],
             [
              1,
              "#f0f921"
             ]
            ],
            "type": "surface"
           }
          ],
          "table": [
           {
            "cells": {
             "fill": {
              "color": "#EBF0F8"
             },
             "line": {
              "color": "white"
             }
            },
            "header": {
             "fill": {
              "color": "#C8D4E3"
             },
             "line": {
              "color": "white"
             }
            },
            "type": "table"
           }
          ]
         },
         "layout": {
          "annotationdefaults": {
           "arrowcolor": "#2a3f5f",
           "arrowhead": 0,
           "arrowwidth": 1
          },
          "autotypenumbers": "strict",
          "coloraxis": {
           "colorbar": {
            "outlinewidth": 0,
            "ticks": ""
           }
          },
          "colorscale": {
           "diverging": [
            [
             0,
             "#8e0152"
            ],
            [
             0.1,
             "#c51b7d"
            ],
            [
             0.2,
             "#de77ae"
            ],
            [
             0.3,
             "#f1b6da"
            ],
            [
             0.4,
             "#fde0ef"
            ],
            [
             0.5,
             "#f7f7f7"
            ],
            [
             0.6,
             "#e6f5d0"
            ],
            [
             0.7,
             "#b8e186"
            ],
            [
             0.8,
             "#7fbc41"
            ],
            [
             0.9,
             "#4d9221"
            ],
            [
             1,
             "#276419"
            ]
           ],
           "sequential": [
            [
             0,
             "#0d0887"
            ],
            [
             0.1111111111111111,
             "#46039f"
            ],
            [
             0.2222222222222222,
             "#7201a8"
            ],
            [
             0.3333333333333333,
             "#9c179e"
            ],
            [
             0.4444444444444444,
             "#bd3786"
            ],
            [
             0.5555555555555556,
             "#d8576b"
            ],
            [
             0.6666666666666666,
             "#ed7953"
            ],
            [
             0.7777777777777778,
             "#fb9f3a"
            ],
            [
             0.8888888888888888,
             "#fdca26"
            ],
            [
             1,
             "#f0f921"
            ]
           ],
           "sequentialminus": [
            [
             0,
             "#0d0887"
            ],
            [
             0.1111111111111111,
             "#46039f"
            ],
            [
             0.2222222222222222,
             "#7201a8"
            ],
            [
             0.3333333333333333,
             "#9c179e"
            ],
            [
             0.4444444444444444,
             "#bd3786"
            ],
            [
             0.5555555555555556,
             "#d8576b"
            ],
            [
             0.6666666666666666,
             "#ed7953"
            ],
            [
             0.7777777777777778,
             "#fb9f3a"
            ],
            [
             0.8888888888888888,
             "#fdca26"
            ],
            [
             1,
             "#f0f921"
            ]
           ]
          },
          "colorway": [
           "#636efa",
           "#EF553B",
           "#00cc96",
           "#ab63fa",
           "#FFA15A",
           "#19d3f3",
           "#FF6692",
           "#B6E880",
           "#FF97FF",
           "#FECB52"
          ],
          "font": {
           "color": "#2a3f5f"
          },
          "geo": {
           "bgcolor": "white",
           "lakecolor": "white",
           "landcolor": "#E5ECF6",
           "showlakes": true,
           "showland": true,
           "subunitcolor": "white"
          },
          "hoverlabel": {
           "align": "left"
          },
          "hovermode": "closest",
          "mapbox": {
           "style": "light"
          },
          "paper_bgcolor": "white",
          "plot_bgcolor": "#E5ECF6",
          "polar": {
           "angularaxis": {
            "gridcolor": "white",
            "linecolor": "white",
            "ticks": ""
           },
           "bgcolor": "#E5ECF6",
           "radialaxis": {
            "gridcolor": "white",
            "linecolor": "white",
            "ticks": ""
           }
          },
          "scene": {
           "xaxis": {
            "backgroundcolor": "#E5ECF6",
            "gridcolor": "white",
            "gridwidth": 2,
            "linecolor": "white",
            "showbackground": true,
            "ticks": "",
            "zerolinecolor": "white"
           },
           "yaxis": {
            "backgroundcolor": "#E5ECF6",
            "gridcolor": "white",
            "gridwidth": 2,
            "linecolor": "white",
            "showbackground": true,
            "ticks": "",
            "zerolinecolor": "white"
           },
           "zaxis": {
            "backgroundcolor": "#E5ECF6",
            "gridcolor": "white",
            "gridwidth": 2,
            "linecolor": "white",
            "showbackground": true,
            "ticks": "",
            "zerolinecolor": "white"
           }
          },
          "shapedefaults": {
           "line": {
            "color": "#2a3f5f"
           }
          },
          "ternary": {
           "aaxis": {
            "gridcolor": "white",
            "linecolor": "white",
            "ticks": ""
           },
           "baxis": {
            "gridcolor": "white",
            "linecolor": "white",
            "ticks": ""
           },
           "bgcolor": "#E5ECF6",
           "caxis": {
            "gridcolor": "white",
            "linecolor": "white",
            "ticks": ""
           }
          },
          "title": {
           "x": 0.05
          },
          "xaxis": {
           "automargin": true,
           "gridcolor": "white",
           "linecolor": "white",
           "ticks": "",
           "title": {
            "standoff": 15
           },
           "zerolinecolor": "white",
           "zerolinewidth": 2
          },
          "yaxis": {
           "automargin": true,
           "gridcolor": "white",
           "linecolor": "white",
           "ticks": "",
           "title": {
            "standoff": 15
           },
           "zerolinecolor": "white",
           "zerolinewidth": 2
          }
         }
        },
        "title": {
         "text": "Доля запросов в кластерах по платформам (с контрастной разницей)"
        },
        "xaxis": {
         "title": {
          "text": "Платформа"
         }
        },
        "yaxis": {
         "title": {
          "text": "Доля запросов"
         }
        }
       }
      },
      "image/png": "[encoded data removed]"
     },
     "metadata": {},
     "output_type": "display_data"
    },
    {
     "name": "stdout",
     "output_type": "stream",
     "text": [
      "Ключевые слова в кластерах с заметной разницей по платформам:\n",
      "\n",
      "Кластер 0:\n",
      "хентай, наруто, лоли, манга, цензуры, без, геншин, яой, аниме, порно\n",
      "\n",
      "Кластер 1:\n",
      "картинки, секс, на, 2021, фото, сентября, для, карта, календарь, таблица\n",
      "\n",
      "Кластер 2:\n",
      "порно, фото, гей, аниме, гиф, гифки, наруто, картинки, лесби, мультики\n",
      "\n",
      "Кластер 3:\n",
      "рождения, днём, женщине, днем, мужчине, открытки, поздравления, девушке, красивые, картинки\n"
     ]
    }
   ],
   "source": [
    "# 1. Векторизация запросов\n",
    "vectorizer = TfidfVectorizer(max_features=1000)\n",
    "X = vectorizer.fit_transform(df['query_lower'])\n",
    "\n",
    "# 2. Кластеризация\n",
    "kmeans = KMeans(n_clusters=5, random_state=42, n_init='auto')\n",
    "df['cluster'] = kmeans.fit_predict(X)\n",
    "\n",
    "# 3. Подсчёт распределения кластеров по платформам\n",
    "cluster_platform_counts = df.groupby(['cluster', 'platform']).size().unstack(fill_value=0)\n",
    "cluster_platform_props = cluster_platform_counts.div(cluster_platform_counts.sum(axis=1), axis=0)\n",
    "\n",
    "# 4. Вычисляем абсолютную разницу в долях\n",
    "cluster_platform_props['diff'] = (cluster_platform_props['touch'] - cluster_platform_props['desktop']).abs()\n",
    "\n",
    "# 5. Фильтруем кластеры с разницей больше порога (например, 0.1)\n",
    "threshold = 0.1\n",
    "significant_diff = cluster_platform_props[cluster_platform_props['diff'] > threshold]\n",
    "\n",
    "# 6. Визуализация в Plotly\n",
    "fig = go.Figure()\n",
    "\n",
    "for cluster_id in significant_diff.index:\n",
    "    fig.add_trace(go.Bar(\n",
    "        name=f'Cluster {cluster_id}',\n",
    "        x=['touch', 'desktop'],\n",
    "        y=significant_diff.loc[cluster_id, ['touch', 'desktop']],\n",
    "        text=significant_diff.loc[cluster_id, ['touch', 'desktop']].apply(lambda x: f'{x:.2%}'),\n",
    "        textposition='auto'\n",
    "    ))\n",
    "\n",
    "fig.update_layout(\n",
    "    barmode='group',\n",
    "    title='Доля запросов в кластерах по платформам (с контрастной разницей)',\n",
    "    yaxis=dict(title='Доля запросов'),\n",
    "    xaxis=dict(title='Платформа')\n",
    ")\n",
    "\n",
    "fig.show()\n",
    "\n",
    "# 7. Вывести ключевые слова топ-10 для таких кластеров\n",
    "terms = vectorizer.get_feature_names_out()\n",
    "order_centroids = kmeans.cluster_centers_.argsort()[:, ::-1]\n",
    "\n",
    "print(\"Ключевые слова в кластерах с заметной разницей по платформам:\")\n",
    "for i in significant_diff.index:\n",
    "    print(f\"\\nКластер {i}:\")\n",
    "    top_words = [terms[ind] for ind in order_centroids[i, :10]]\n",
    "    print(\", \".join(top_words))"
   ]
  },
  {
   "cell_type": "code",
   "execution_count": 10,
   "id": "8b7bb182-b6b2-4712-ad4f-dfa21edc3fea",
   "metadata": {},
   "outputs": [
    {
     "name": "stdout",
     "output_type": "stream",
     "text": [
      "Кластер 0:\n",
      "  Доля мобильных запросов: 83.96%\n",
      "  Доля десктопных запросов: 16.04%\n",
      "  Абсолютная разница: 67.93%\n",
      "  Ключевые слова: хентай, наруто, лоли, манга, цензуры, без, геншин, яой, аниме, порно\n",
      "\n",
      "Кластер 1:\n",
      "  Доля мобильных запросов: 63.82%\n",
      "  Доля десктопных запросов: 36.18%\n",
      "  Абсолютная разница: 27.65%\n",
      "  Ключевые слова: картинки, секс, на, 2021, фото, сентября, для, карта, календарь, таблица\n",
      "\n",
      "Кластер 2:\n",
      "  Доля мобильных запросов: 87.03%\n",
      "  Доля десктопных запросов: 12.97%\n",
      "  Абсолютная разница: 74.07%\n",
      "  Ключевые слова: порно, фото, гей, аниме, гиф, гифки, наруто, картинки, лесби, мультики\n",
      "\n",
      "Кластер 3:\n",
      "  Доля мобильных запросов: 90.75%\n",
      "  Доля десктопных запросов: 9.25%\n",
      "  Абсолютная разница: 81.51%\n",
      "  Ключевые слова: рождения, днём, женщине, днем, мужчине, открытки, поздравления, девушке, красивые, картинки\n",
      "\n"
     ]
    }
   ],
   "source": [
    "# Создадим словарь для хранения результатов\n",
    "results = []\n",
    "\n",
    "for i in significant_diff.index:\n",
    "    top_words = [terms[ind] for ind in order_centroids[i, :10]]\n",
    "    mobile_share = significant_diff.loc[i, 'touch']\n",
    "    desktop_share = significant_diff.loc[i, 'desktop']\n",
    "    diff_val = significant_diff.loc[i, 'diff']\n",
    "    results.append({\n",
    "        'cluster': i,\n",
    "        'touch_share': mobile_share,\n",
    "        'desktop_share': desktop_share,\n",
    "        'diff': diff_val,\n",
    "        'top_words': top_words\n",
    "    })\n",
    "\n",
    "# Превратим в читаемый текстовый формат\n",
    "output_lines = []\n",
    "for r in results:\n",
    "    output_lines.append(f\"Кластер {r['cluster']}:\")\n",
    "    output_lines.append(f\"  Доля мобильных запросов: {r['touch_share']:.2%}\")\n",
    "    output_lines.append(f\"  Доля десктопных запросов: {r['desktop_share']:.2%}\")\n",
    "    output_lines.append(f\"  Абсолютная разница: {r['diff']:.2%}\")\n",
    "    output_lines.append(f\"  Ключевые слова: {', '.join(r['top_words'])}\")\n",
    "    output_lines.append(\"\")  # пустая строка для разделения\n",
    "\n",
    "# Выведем в консоль\n",
    "output_text = \"\\n\".join(output_lines)\n",
    "print(output_text)"
   ]
  },
  {
   "cell_type": "markdown",
   "id": "afaa59d8-12f4-4b67-a00d-2c21ca6a460f",
   "metadata": {},
   "source": [
    "**Вывод ✍️**: \n",
    "\n",
    "**Кластер 0** (мобильные 84%, десктоп 16%)\n",
    "- Тематика: Аниме, хентай, манга, геншин, яой, лоли, цензура, порно.\n",
    "- Вывод: Это явно нишевые развлекательные запросы, которые пользователи предпочитают делать именно с мобильных — возможно, из-за приватности или удобства. На десктопе они встречаются значительно реже.\n",
    "\n",
    "**Кластер 1**(мобильные 64%, десктоп 36%)\n",
    "- Тематика: Картинки, фото, секс, календарь, таблицы — более общий контент, связанный с поиском визуального и информационного материала.\n",
    "- Вывод: Здесь разрыв меньше, но мобильные запросы всё равно преобладают. Вероятно, мобильные пользователи чаще ищут быстрый визуальный или справочный контент.\n",
    "\n",
    "**Кластер 2** (мобильные 87%, десктоп 13%)\n",
    "- Тематика: Порно, гей, аниме, гифки, лесби, мультики — опять тематика взрослого и анимационного контента, очень мобильная.\n",
    "- Вывод: Сильно выраженная мобильная аудитория, скорее всего по тем же причинам, что и в кластере 0 — удобство и приватность.\n",
    "\n",
    "**Кластер 3** (мобильные 91%, десктоп 9%)\n",
    "- Тематика: Поздравления с днём рождения, открытки, пожелания — типичный контент для личного использования.\n",
    "- Вывод: Запросы с поздравлениями сильно мобильные — удобно быстро отправить поздравление с телефона, поэтому здесь тоже большая разница.\n",
    "\n",
    "**Общие выводы:**\n",
    "1. Темы, связанные с личным, развлекательным, иногда приватным контентом (аниме, порно, поздравления), значительно более популярны на мобильных устройствах.\n",
    "2. Более нейтральный или информационный контент (например, картинки, таблицы) менее контрастен, но всё равно мобильный трафик выше.\n",
    "3. На десктопе либо контент более профессиональный, либо менее \"эмоциональный\", однако в целом мобильная аудитория активнее в части визуального и справочного контента."
   ]
  },
  {
   "cell_type": "markdown",
   "id": "4581d9ec-70a8-4d3c-9670-f1a0ac0dd123",
   "metadata": {},
   "source": [
    "## 7. 🧠 SQL-запросы через pandasql"
   ]
  },
  {
   "cell_type": "code",
   "execution_count": 11,
   "id": "f7ff4d7e-7ebe-4046-8a27-146c7b5f9aea",
   "metadata": {},
   "outputs": [
    {
     "data": {
      "text/html": [
       "<div>\n",
       "<style scoped>\n",
       "    .dataframe tbody tr th:only-of-type {\n",
       "        vertical-align: middle;\n",
       "    }\n",
       "\n",
       "    .dataframe tbody tr th {\n",
       "        vertical-align: top;\n",
       "    }\n",
       "\n",
       "    .dataframe thead th {\n",
       "        text-align: right;\n",
       "    }\n",
       "</style>\n",
       "<table border=\"1\" class=\"dataframe\">\n",
       "  <thead>\n",
       "    <tr style=\"text-align: right;\">\n",
       "      <th></th>\n",
       "      <th>platform</th>\n",
       "      <th>cnt</th>\n",
       "    </tr>\n",
       "  </thead>\n",
       "  <tbody>\n",
       "    <tr>\n",
       "      <th>0</th>\n",
       "      <td>desktop</td>\n",
       "      <td>806</td>\n",
       "    </tr>\n",
       "    <tr>\n",
       "      <th>1</th>\n",
       "      <td>touch</td>\n",
       "      <td>732</td>\n",
       "    </tr>\n",
       "  </tbody>\n",
       "</table>\n",
       "</div>"
      ],
      "text/plain": [
       "  platform  cnt\n",
       "0  desktop  806\n",
       "1    touch  732"
      ]
     },
     "execution_count": 11,
     "metadata": {},
     "output_type": "execute_result"
    }
   ],
   "source": [
    "# 1. Сколько запросов с упоминанием \"ютуб\" по платформам\n",
    "query = '''\n",
    "SELECT platform, COUNT(*) as cnt\n",
    "FROM df\n",
    "WHERE query_lower LIKE '%ютуб%'\n",
    "GROUP BY platform\n",
    "'''\n",
    "sqldf(query)"
   ]
  },
  {
   "cell_type": "code",
   "execution_count": 12,
   "id": "4f988cdc-f022-41d0-aeb5-56f99f091683",
   "metadata": {},
   "outputs": [
    {
     "data": {
      "text/html": [
       "<div>\n",
       "<style scoped>\n",
       "    .dataframe tbody tr th:only-of-type {\n",
       "        vertical-align: middle;\n",
       "    }\n",
       "\n",
       "    .dataframe tbody tr th {\n",
       "        vertical-align: top;\n",
       "    }\n",
       "\n",
       "    .dataframe thead th {\n",
       "        text-align: right;\n",
       "    }\n",
       "</style>\n",
       "<table border=\"1\" class=\"dataframe\">\n",
       "  <thead>\n",
       "    <tr style=\"text-align: right;\">\n",
       "      <th></th>\n",
       "      <th>weekday</th>\n",
       "      <th>platform</th>\n",
       "      <th>cnt</th>\n",
       "    </tr>\n",
       "  </thead>\n",
       "  <tbody>\n",
       "    <tr>\n",
       "      <th>0</th>\n",
       "      <td>Wednesday</td>\n",
       "      <td>touch</td>\n",
       "      <td>124037</td>\n",
       "    </tr>\n",
       "    <tr>\n",
       "      <th>1</th>\n",
       "      <td>Tuesday</td>\n",
       "      <td>touch</td>\n",
       "      <td>118307</td>\n",
       "    </tr>\n",
       "    <tr>\n",
       "      <th>2</th>\n",
       "      <td>Monday</td>\n",
       "      <td>touch</td>\n",
       "      <td>114627</td>\n",
       "    </tr>\n",
       "    <tr>\n",
       "      <th>3</th>\n",
       "      <td>Sunday</td>\n",
       "      <td>touch</td>\n",
       "      <td>112629</td>\n",
       "    </tr>\n",
       "    <tr>\n",
       "      <th>4</th>\n",
       "      <td>Thursday</td>\n",
       "      <td>touch</td>\n",
       "      <td>109555</td>\n",
       "    </tr>\n",
       "    <tr>\n",
       "      <th>5</th>\n",
       "      <td>Friday</td>\n",
       "      <td>touch</td>\n",
       "      <td>107569</td>\n",
       "    </tr>\n",
       "    <tr>\n",
       "      <th>6</th>\n",
       "      <td>Saturday</td>\n",
       "      <td>touch</td>\n",
       "      <td>105534</td>\n",
       "    </tr>\n",
       "    <tr>\n",
       "      <th>7</th>\n",
       "      <td>Tuesday</td>\n",
       "      <td>desktop</td>\n",
       "      <td>66687</td>\n",
       "    </tr>\n",
       "    <tr>\n",
       "      <th>8</th>\n",
       "      <td>Monday</td>\n",
       "      <td>desktop</td>\n",
       "      <td>65723</td>\n",
       "    </tr>\n",
       "    <tr>\n",
       "      <th>9</th>\n",
       "      <td>Wednesday</td>\n",
       "      <td>desktop</td>\n",
       "      <td>61970</td>\n",
       "    </tr>\n",
       "    <tr>\n",
       "      <th>10</th>\n",
       "      <td>Thursday</td>\n",
       "      <td>desktop</td>\n",
       "      <td>61636</td>\n",
       "    </tr>\n",
       "    <tr>\n",
       "      <th>11</th>\n",
       "      <td>Friday</td>\n",
       "      <td>desktop</td>\n",
       "      <td>56504</td>\n",
       "    </tr>\n",
       "    <tr>\n",
       "      <th>12</th>\n",
       "      <td>Sunday</td>\n",
       "      <td>desktop</td>\n",
       "      <td>53831</td>\n",
       "    </tr>\n",
       "    <tr>\n",
       "      <th>13</th>\n",
       "      <td>Saturday</td>\n",
       "      <td>desktop</td>\n",
       "      <td>45215</td>\n",
       "    </tr>\n",
       "  </tbody>\n",
       "</table>\n",
       "</div>"
      ],
      "text/plain": [
       "      weekday platform     cnt\n",
       "0   Wednesday    touch  124037\n",
       "1     Tuesday    touch  118307\n",
       "2      Monday    touch  114627\n",
       "3      Sunday    touch  112629\n",
       "4    Thursday    touch  109555\n",
       "5      Friday    touch  107569\n",
       "6    Saturday    touch  105534\n",
       "7     Tuesday  desktop   66687\n",
       "8      Monday  desktop   65723\n",
       "9   Wednesday  desktop   61970\n",
       "10   Thursday  desktop   61636\n",
       "11     Friday  desktop   56504\n",
       "12     Sunday  desktop   53831\n",
       "13   Saturday  desktop   45215"
      ]
     },
     "execution_count": 12,
     "metadata": {},
     "output_type": "execute_result"
    }
   ],
   "source": [
    "# 2. Сколько запросов по каждому дню недели на каждой платформе\n",
    "query = '''\n",
    "SELECT weekday, platform, COUNT(*) as cnt\n",
    "FROM df\n",
    "GROUP BY weekday, platform\n",
    "ORDER BY cnt DESC\n",
    "'''\n",
    "sqldf(query)"
   ]
  },
  {
   "cell_type": "code",
   "execution_count": 13,
   "id": "996b4075-0ba4-4ab2-abb0-57ca2ff16dae",
   "metadata": {
    "scrolled": true
   },
   "outputs": [
    {
     "data": {
      "text/html": [
       "<div>\n",
       "<style scoped>\n",
       "    .dataframe tbody tr th:only-of-type {\n",
       "        vertical-align: middle;\n",
       "    }\n",
       "\n",
       "    .dataframe tbody tr th {\n",
       "        vertical-align: top;\n",
       "    }\n",
       "\n",
       "    .dataframe thead th {\n",
       "        text-align: right;\n",
       "    }\n",
       "</style>\n",
       "<table border=\"1\" class=\"dataframe\">\n",
       "  <thead>\n",
       "    <tr style=\"text-align: right;\">\n",
       "      <th></th>\n",
       "      <th>query_lower</th>\n",
       "      <th>cnt</th>\n",
       "    </tr>\n",
       "  </thead>\n",
       "  <tbody>\n",
       "    <tr>\n",
       "      <th>0</th>\n",
       "      <td>календарь 2021</td>\n",
       "      <td>2810</td>\n",
       "    </tr>\n",
       "    <tr>\n",
       "      <th>1</th>\n",
       "      <td>таблица менделеева</td>\n",
       "      <td>2659</td>\n",
       "    </tr>\n",
       "    <tr>\n",
       "      <th>2</th>\n",
       "      <td>картинки</td>\n",
       "      <td>1720</td>\n",
       "    </tr>\n",
       "    <tr>\n",
       "      <th>3</th>\n",
       "      <td>порно</td>\n",
       "      <td>1408</td>\n",
       "    </tr>\n",
       "    <tr>\n",
       "      <th>4</th>\n",
       "      <td>английский алфавит</td>\n",
       "      <td>1352</td>\n",
       "    </tr>\n",
       "  </tbody>\n",
       "</table>\n",
       "</div>"
      ],
      "text/plain": [
       "          query_lower   cnt\n",
       "0      календарь 2021  2810\n",
       "1  таблица менделеева  2659\n",
       "2            картинки  1720\n",
       "3               порно  1408\n",
       "4  английский алфавит  1352"
      ]
     },
     "execution_count": 13,
     "metadata": {},
     "output_type": "execute_result"
    }
   ],
   "source": [
    "# 3. Топ-5 самых частых запросов на десктопе\n",
    "query = '''\n",
    "SELECT query_lower, COUNT(*) as cnt\n",
    "FROM df\n",
    "WHERE platform = 'desktop'\n",
    "GROUP BY query_lower\n",
    "ORDER BY cnt DESC\n",
    "LIMIT 5\n",
    "'''\n",
    "sqldf(query)"
   ]
  },
  {
   "cell_type": "markdown",
   "id": "215317f8-e39a-4dca-b373-2a2cac013ca5",
   "metadata": {},
   "source": [
    "## 8. 📝 Выводы"
   ]
  },
  {
   "cell_type": "markdown",
   "id": "2c5f0f76-7373-4721-b3df-64384f1c412e",
   "metadata": {},
   "source": [
    "В ходе исследования подтверждена гипотеза о заметных различиях в интересах и поведении пользователей Яндекс.Картинок в зависимости от платформы — мобильной (touch) или десктопной (desktop).\n",
    "\n",
    "**Тематические различия**\n",
    "1. <u>Мобильные пользователи</u> делают акцент на *эмоционально окрашенных, личных и развлекательных запросах*:\n",
    "- Тематики интимного характера (порно, секс, хентай), поздравления, открытки.\n",
    "- Запросы часто «по ситуации» — быстрый поиск для развлечения, поздравления или эмоциональной реакции.\n",
    "- В кластеризации выделены кластеры с преобладанием именно таких тем (до 84-91% на мобильных).\n",
    "\n",
    "2. <u>Пользователи компьютеров</u> преимущественно интересуются *утилитарным, образовательным и справочным контентом*:\n",
    "- Календарь, таблицы, алфавиты, обои, учебные материалы.\n",
    "- Запросы более формальные, связаны с учёбой, работой и оформлением.\n",
    "- На десктопе значительно более выражена доля запросов без эмоциональной составляющей. \n",
    "\n",
    "**Временные паттерны активности**\n",
    "- Активность пользователей распределена неравномерно в течение суток и недели.\n",
    "- Основной пик запросов приходится на дневное и вечернее время — с 5:00 до 20:00, особенно в период с 17:00 до 20:00.\n",
    "- <u>Мобильные пользователи</u> демонстрируют два ярких пика — утренний (6–7 часов) и вечерний (17–19 часов), что, вероятно,  связано с мобильным использованием в пути между работой и домом. \n",
    "- <u>Пользователи десктопов</u> проявляют более равномерную дневную активность, соответствующую офисному или учебному расписанию (с 6 до 18 часов).\n",
    "- Активность снижается в ночные часы (22:00–3:00), а минимумы по дням недели наблюдаются в пятницу и субботу, что, вероятно, связано с офлайн-активностями.\n",
    "\n",
    "**Поведенческие выводы**\n",
    "1. <u>Мобильное использование</u> Яндекс.Картинок — это, в основном, *импульсивный, эмоциональный и спонтанный поиск*, отражающий личные и развлекательные потребности.\n",
    "2. <u>Компьютерное использование</u> — более *осмысленное, целенаправленное, связанное с учёбой, работой и получением справочной информации*.\n",
    "\n",
    "**Рекомендации и значение**\n",
    "При разработке продуктов, контента и маркетинговых стратегий важно учитывать эти различия:\n",
    "- <u>Для мобильных пользователей</u> — упор на развлекательный и личный контент, быструю отдачу и эмоциональную вовлечённость.\n",
    "- <u>Для десктопа</u> — информационный и образовательный контент с более формальной подачей.\n",
    "\n",
    "Временные паттерны активности помогут оптимизировать время публикаций и рекламных кампаний."
   ]
  }
 ],
 "metadata": {
  "kernelspec": {
   "display_name": "Python (test_product1)",
   "language": "python",
   "name": "test_product1"
  },
  "language_info": {
   "codemirror_mode": {
    "name": "ipython",
    "version": 3
   },
   "file_extension": ".py",
   "mimetype": "text/x-python",
   "name": "python",
   "nbconvert_exporter": "python",
   "pygments_lexer": "ipython3",
   "version": "3.10.16"
  }
 },
 "nbformat": 4,
 "nbformat_minor": 5
}
