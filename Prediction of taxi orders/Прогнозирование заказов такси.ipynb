{
 "cells": [
  {
   "cell_type": "markdown",
   "metadata": {
    "toc": true
   },
   "source": [
    "<h1>Содержание<span class=\"tocSkip\"></span></h1>\n",
    "<div class=\"toc\"><ul class=\"toc-item\"><li><span><a href=\"#Подготовка\" data-toc-modified-id=\"Подготовка-1\"><span class=\"toc-item-num\">1&nbsp;&nbsp;</span>Подготовка</a></span></li><li><span><a href=\"#Анализ\" data-toc-modified-id=\"Анализ-2\"><span class=\"toc-item-num\">2&nbsp;&nbsp;</span>Анализ</a></span></li><li><span><a href=\"#Обучение\" data-toc-modified-id=\"Обучение-3\"><span class=\"toc-item-num\">3&nbsp;&nbsp;</span>Обучение</a></span></li><li><span><a href=\"#Тестирование\" data-toc-modified-id=\"Тестирование-4\"><span class=\"toc-item-num\">4&nbsp;&nbsp;</span>Тестирование</a></span></li></ul></div>"
   ]
  },
  {
   "cell_type": "markdown",
   "metadata": {},
   "source": [
    "#  Прогнозирование заказов такси"
   ]
  },
  {
   "cell_type": "markdown",
   "metadata": {},
   "source": [
    "**Задача**\n",
    "\n",
    "Компания «Чётенькое такси» собрала исторические данные о заказах такси в аэропортах. Чтобы привлекать больше водителей в период пиковой нагрузки, нужно спрогнозировать количество заказов такси на следующий час. Нужно модель для такого предсказания.\n",
    "\n",
    "Значение метрики *RMSE* на тестовой выборке должно быть не больше 48.\n",
    "\n",
    "**План работы:**\n",
    "\n",
    "1. Загрузить данные и выполнить их ресемплирование по одному часу.\n",
    "2. Проанализировать данные.\n",
    "3. Обучить разные модели с различными гиперпараметрами. Сделать тестовую выборку размером 10% от исходных данных.\n",
    "4. Проверить данные на тестовой выборке и сделать выводы.\n",
    "\n",
    "\n",
    "Данные лежат в файле `taxi.csv`. Количество заказов находится в столбце `num_orders`."
   ]
  },
  {
   "cell_type": "markdown",
   "metadata": {},
   "source": [
    "## Подготовка"
   ]
  },
  {
   "cell_type": "code",
   "execution_count": 1,
   "metadata": {},
   "outputs": [],
   "source": [
    "import pandas as pd\n",
    "from statsmodels.tsa.seasonal import seasonal_decompose\n",
    "import matplotlib.pyplot as plt\n",
    "from sklearn.model_selection import train_test_split\n",
    "from catboost import CatBoostRegressor\n",
    "from sklearn.linear_model import Ridge\n",
    "from lightgbm import LGBMRegressor\n",
    "from sklearn.model_selection import RandomizedSearchCV\n",
    "from sklearn.metrics import mean_squared_error\n",
    "from sklearn.model_selection import TimeSeriesSplit"
   ]
  },
  {
   "cell_type": "code",
   "execution_count": 2,
   "metadata": {},
   "outputs": [],
   "source": [
    "try:\n",
    "    df = pd.read_csv('/datasets/taxi.csv')\n",
    "except:\n",
    "    df = pd.read_csv(r\"C:\\Users\\Markm\\Downloads\\taxi.csv\")"
   ]
  },
  {
   "cell_type": "code",
   "execution_count": 3,
   "metadata": {},
   "outputs": [
    {
     "name": "stdout",
     "output_type": "stream",
     "text": [
      "<class 'pandas.core.frame.DataFrame'>\n",
      "RangeIndex: 26496 entries, 0 to 26495\n",
      "Data columns (total 2 columns):\n",
      " #   Column      Non-Null Count  Dtype \n",
      "---  ------      --------------  ----- \n",
      " 0   datetime    26496 non-null  object\n",
      " 1   num_orders  26496 non-null  int64 \n",
      "dtypes: int64(1), object(1)\n",
      "memory usage: 414.1+ KB\n"
     ]
    },
    {
     "data": {
      "text/plain": [
       "None"
      ]
     },
     "metadata": {},
     "output_type": "display_data"
    },
    {
     "data": {
      "text/html": [
       "<div>\n",
       "<style scoped>\n",
       "    .dataframe tbody tr th:only-of-type {\n",
       "        vertical-align: middle;\n",
       "    }\n",
       "\n",
       "    .dataframe tbody tr th {\n",
       "        vertical-align: top;\n",
       "    }\n",
       "\n",
       "    .dataframe thead th {\n",
       "        text-align: right;\n",
       "    }\n",
       "</style>\n",
       "<table border=\"1\" class=\"dataframe\">\n",
       "  <thead>\n",
       "    <tr style=\"text-align: right;\">\n",
       "      <th></th>\n",
       "      <th>datetime</th>\n",
       "      <th>num_orders</th>\n",
       "    </tr>\n",
       "  </thead>\n",
       "  <tbody>\n",
       "    <tr>\n",
       "      <th>0</th>\n",
       "      <td>2018-03-01 00:00:00</td>\n",
       "      <td>9</td>\n",
       "    </tr>\n",
       "    <tr>\n",
       "      <th>1</th>\n",
       "      <td>2018-03-01 00:10:00</td>\n",
       "      <td>14</td>\n",
       "    </tr>\n",
       "    <tr>\n",
       "      <th>2</th>\n",
       "      <td>2018-03-01 00:20:00</td>\n",
       "      <td>28</td>\n",
       "    </tr>\n",
       "    <tr>\n",
       "      <th>3</th>\n",
       "      <td>2018-03-01 00:30:00</td>\n",
       "      <td>20</td>\n",
       "    </tr>\n",
       "    <tr>\n",
       "      <th>4</th>\n",
       "      <td>2018-03-01 00:40:00</td>\n",
       "      <td>32</td>\n",
       "    </tr>\n",
       "  </tbody>\n",
       "</table>\n",
       "</div>"
      ],
      "text/plain": [
       "              datetime  num_orders\n",
       "0  2018-03-01 00:00:00           9\n",
       "1  2018-03-01 00:10:00          14\n",
       "2  2018-03-01 00:20:00          28\n",
       "3  2018-03-01 00:30:00          20\n",
       "4  2018-03-01 00:40:00          32"
      ]
     },
     "execution_count": 3,
     "metadata": {},
     "output_type": "execute_result"
    }
   ],
   "source": [
    "display(df.info())\n",
    "df.head()"
   ]
  },
  {
   "cell_type": "code",
   "execution_count": 4,
   "metadata": {},
   "outputs": [
    {
     "name": "stdout",
     "output_type": "stream",
     "text": [
      "<class 'pandas.core.frame.DataFrame'>\n",
      "RangeIndex: 26496 entries, 0 to 26495\n",
      "Data columns (total 2 columns):\n",
      " #   Column      Non-Null Count  Dtype         \n",
      "---  ------      --------------  -----         \n",
      " 0   datetime    26496 non-null  datetime64[ns]\n",
      " 1   num_orders  26496 non-null  int64         \n",
      "dtypes: datetime64[ns](1), int64(1)\n",
      "memory usage: 414.1 KB\n"
     ]
    }
   ],
   "source": [
    "#изменим типа данных столбца datetime на datetime64\n",
    "df['datetime'] = df['datetime'].astype('datetime64')\n",
    "df.info()"
   ]
  },
  {
   "cell_type": "code",
   "execution_count": 5,
   "metadata": {
    "scrolled": true
   },
   "outputs": [
    {
     "data": {
      "text/html": [
       "<div>\n",
       "<style scoped>\n",
       "    .dataframe tbody tr th:only-of-type {\n",
       "        vertical-align: middle;\n",
       "    }\n",
       "\n",
       "    .dataframe tbody tr th {\n",
       "        vertical-align: top;\n",
       "    }\n",
       "\n",
       "    .dataframe thead th {\n",
       "        text-align: right;\n",
       "    }\n",
       "</style>\n",
       "<table border=\"1\" class=\"dataframe\">\n",
       "  <thead>\n",
       "    <tr style=\"text-align: right;\">\n",
       "      <th></th>\n",
       "      <th>num_orders</th>\n",
       "    </tr>\n",
       "    <tr>\n",
       "      <th>datetime</th>\n",
       "      <th></th>\n",
       "    </tr>\n",
       "  </thead>\n",
       "  <tbody>\n",
       "    <tr>\n",
       "      <th>2018-03-01 00:00:00</th>\n",
       "      <td>9</td>\n",
       "    </tr>\n",
       "    <tr>\n",
       "      <th>2018-03-01 00:10:00</th>\n",
       "      <td>14</td>\n",
       "    </tr>\n",
       "    <tr>\n",
       "      <th>2018-03-01 00:20:00</th>\n",
       "      <td>28</td>\n",
       "    </tr>\n",
       "    <tr>\n",
       "      <th>2018-03-01 00:30:00</th>\n",
       "      <td>20</td>\n",
       "    </tr>\n",
       "    <tr>\n",
       "      <th>2018-03-01 00:40:00</th>\n",
       "      <td>32</td>\n",
       "    </tr>\n",
       "  </tbody>\n",
       "</table>\n",
       "</div>"
      ],
      "text/plain": [
       "                     num_orders\n",
       "datetime                       \n",
       "2018-03-01 00:00:00           9\n",
       "2018-03-01 00:10:00          14\n",
       "2018-03-01 00:20:00          28\n",
       "2018-03-01 00:30:00          20\n",
       "2018-03-01 00:40:00          32"
      ]
     },
     "execution_count": 5,
     "metadata": {},
     "output_type": "execute_result"
    }
   ],
   "source": [
    "#сделаем столбец с датой индексом таблицы\n",
    "df = df.set_index('datetime')\n",
    "df.head()"
   ]
  },
  {
   "cell_type": "code",
   "execution_count": 6,
   "metadata": {},
   "outputs": [
    {
     "data": {
      "text/plain": [
       "True"
      ]
     },
     "execution_count": 6,
     "metadata": {},
     "output_type": "execute_result"
    }
   ],
   "source": [
    "#проверим, в хронологическом ли порядке расположены даты и время\n",
    "df.index.is_monotonic"
   ]
  },
  {
   "cell_type": "code",
   "execution_count": 7,
   "metadata": {},
   "outputs": [
    {
     "data": {
      "text/html": [
       "<div>\n",
       "<style scoped>\n",
       "    .dataframe tbody tr th:only-of-type {\n",
       "        vertical-align: middle;\n",
       "    }\n",
       "\n",
       "    .dataframe tbody tr th {\n",
       "        vertical-align: top;\n",
       "    }\n",
       "\n",
       "    .dataframe thead th {\n",
       "        text-align: right;\n",
       "    }\n",
       "</style>\n",
       "<table border=\"1\" class=\"dataframe\">\n",
       "  <thead>\n",
       "    <tr style=\"text-align: right;\">\n",
       "      <th></th>\n",
       "      <th>num_orders</th>\n",
       "    </tr>\n",
       "    <tr>\n",
       "      <th>datetime</th>\n",
       "      <th></th>\n",
       "    </tr>\n",
       "  </thead>\n",
       "  <tbody>\n",
       "    <tr>\n",
       "      <th>2018-03-01 00:00:00</th>\n",
       "      <td>124</td>\n",
       "    </tr>\n",
       "    <tr>\n",
       "      <th>2018-03-01 01:00:00</th>\n",
       "      <td>85</td>\n",
       "    </tr>\n",
       "    <tr>\n",
       "      <th>2018-03-01 02:00:00</th>\n",
       "      <td>71</td>\n",
       "    </tr>\n",
       "    <tr>\n",
       "      <th>2018-03-01 03:00:00</th>\n",
       "      <td>66</td>\n",
       "    </tr>\n",
       "    <tr>\n",
       "      <th>2018-03-01 04:00:00</th>\n",
       "      <td>43</td>\n",
       "    </tr>\n",
       "  </tbody>\n",
       "</table>\n",
       "</div>"
      ],
      "text/plain": [
       "                     num_orders\n",
       "datetime                       \n",
       "2018-03-01 00:00:00         124\n",
       "2018-03-01 01:00:00          85\n",
       "2018-03-01 02:00:00          71\n",
       "2018-03-01 03:00:00          66\n",
       "2018-03-01 04:00:00          43"
      ]
     },
     "execution_count": 7,
     "metadata": {},
     "output_type": "execute_result"
    }
   ],
   "source": [
    "#выаолним ресемплирование данных по одному часу, возьмем среднее за час\n",
    "df = df.resample('1H').sum()\n",
    "df.head()\n",
    "\n",
    "#df.plot()"
   ]
  },
  {
   "cell_type": "markdown",
   "metadata": {},
   "source": [
    "## Анализ"
   ]
  },
  {
   "cell_type": "code",
   "execution_count": 8,
   "metadata": {
    "scrolled": true
   },
   "outputs": [
    {
     "data": {
      "text/html": [
       "<div>\n",
       "<style scoped>\n",
       "    .dataframe tbody tr th:only-of-type {\n",
       "        vertical-align: middle;\n",
       "    }\n",
       "\n",
       "    .dataframe tbody tr th {\n",
       "        vertical-align: top;\n",
       "    }\n",
       "\n",
       "    .dataframe thead th {\n",
       "        text-align: right;\n",
       "    }\n",
       "</style>\n",
       "<table border=\"1\" class=\"dataframe\">\n",
       "  <thead>\n",
       "    <tr style=\"text-align: right;\">\n",
       "      <th></th>\n",
       "      <th>num_orders</th>\n",
       "    </tr>\n",
       "    <tr>\n",
       "      <th>datetime</th>\n",
       "      <th></th>\n",
       "    </tr>\n",
       "  </thead>\n",
       "  <tbody>\n",
       "    <tr>\n",
       "      <th>2018-03-01</th>\n",
       "      <td>124</td>\n",
       "    </tr>\n",
       "  </tbody>\n",
       "</table>\n",
       "</div>"
      ],
      "text/plain": [
       "            num_orders\n",
       "datetime              \n",
       "2018-03-01         124"
      ]
     },
     "metadata": {},
     "output_type": "display_data"
    },
    {
     "data": {
      "text/html": [
       "<div>\n",
       "<style scoped>\n",
       "    .dataframe tbody tr th:only-of-type {\n",
       "        vertical-align: middle;\n",
       "    }\n",
       "\n",
       "    .dataframe tbody tr th {\n",
       "        vertical-align: top;\n",
       "    }\n",
       "\n",
       "    .dataframe thead th {\n",
       "        text-align: right;\n",
       "    }\n",
       "</style>\n",
       "<table border=\"1\" class=\"dataframe\">\n",
       "  <thead>\n",
       "    <tr style=\"text-align: right;\">\n",
       "      <th></th>\n",
       "      <th>num_orders</th>\n",
       "    </tr>\n",
       "    <tr>\n",
       "      <th>datetime</th>\n",
       "      <th></th>\n",
       "    </tr>\n",
       "  </thead>\n",
       "  <tbody>\n",
       "    <tr>\n",
       "      <th>2018-08-31 23:00:00</th>\n",
       "      <td>205</td>\n",
       "    </tr>\n",
       "  </tbody>\n",
       "</table>\n",
       "</div>"
      ],
      "text/plain": [
       "                     num_orders\n",
       "datetime                       \n",
       "2018-08-31 23:00:00         205"
      ]
     },
     "execution_count": 8,
     "metadata": {},
     "output_type": "execute_result"
    }
   ],
   "source": [
    "df.sort_index(inplace=True)\n",
    "display(df.head(1))\n",
    "df.tail(1)\n"
   ]
  },
  {
   "cell_type": "markdown",
   "metadata": {},
   "source": [
    "Мы видим, что у нас имеются данные за период 00:00:00 2018-03-01 до 23:00:00 2018-08-31. Получается, имеем данные с 1 марта по 31 августа 2018 года."
   ]
  },
  {
   "cell_type": "code",
   "execution_count": 9,
   "metadata": {},
   "outputs": [
    {
     "data": {
      "text/plain": [
       "num_orders    0\n",
       "dtype: int64"
      ]
     },
     "execution_count": 9,
     "metadata": {},
     "output_type": "execute_result"
    }
   ],
   "source": [
    "#проверим наличие пропущенных значений\n",
    "df.isna().sum()"
   ]
  },
  {
   "cell_type": "code",
   "execution_count": 10,
   "metadata": {
    "scrolled": false
   },
   "outputs": [
    {
     "data": {
      "image/png": "[encoded data removed]",
      "text/plain": [
       "<Figure size 800x300 with 1 Axes>"
      ]
     },
     "metadata": {},
     "output_type": "display_data"
    }
   ],
   "source": [
    "#посомтрим на тренд в нашем временном ряду\n",
    "decomposed = seasonal_decompose(df)\n",
    "plt.figure(figsize=(8, 3))\n",
    "decomposed.trend.plot(ax=plt.gca())\n",
    "plt.title('Trend')\n",
    "plt.xlabel('Месяц')\n",
    "plt.ylabel('Количество заказов');"
   ]
  },
  {
   "cell_type": "markdown",
   "metadata": {},
   "source": [
    "Мы видим, что с марта по август количество заказов постепенно увеличивается каждый месяц."
   ]
  },
  {
   "cell_type": "code",
   "execution_count": 11,
   "metadata": {
    "scrolled": true
   },
   "outputs": [
    {
     "data": {
      "image/png": "[encoded data removed]",
      "text/plain": [
       "<Figure size 800x300 with 1 Axes>"
      ]
     },
     "metadata": {},
     "output_type": "display_data"
    }
   ],
   "source": [
    "#посомтрим на сезонность в нашем временном ряду\n",
    "plt.figure(figsize=(8, 3))\n",
    "decomposed.seasonal['2018-08-01':\"2018-08-02\"].plot(ax=plt.gca())\n",
    "plt.title('Seasonality')\n",
    "plt.xlabel('Время')\n",
    "plt.ylabel('Количество заказов');"
   ]
  },
  {
   "cell_type": "markdown",
   "metadata": {},
   "source": [
    "Мы видим, что количество заказов падает в утренние часы и увеличивается в ночное время. "
   ]
  },
  {
   "cell_type": "code",
   "execution_count": 12,
   "metadata": {},
   "outputs": [
    {
     "data": {
      "image/png": "[encoded data removed]",
      "text/plain": [
       "<Figure size 640x480 with 1 Axes>"
      ]
     },
     "metadata": {},
     "output_type": "display_data"
    }
   ],
   "source": [
    "#создадим столбец со скользящим средним и отобразим его на графике\n",
    "df['rolling_mean'] = df.rolling(168).mean()\n",
    "df.plot()\n",
    "plt.title('Cкользящее среднее')\n",
    "plt.xlabel('Месяц')\n",
    "plt.ylabel('Количество заказов');"
   ]
  },
  {
   "cell_type": "markdown",
   "metadata": {},
   "source": [
    "По скользящему среднему так же видим постепенное увеличение среднего количества заказов к августу."
   ]
  },
  {
   "cell_type": "code",
   "execution_count": 13,
   "metadata": {},
   "outputs": [
    {
     "data": {
      "image/png": "[encoded data removed]",
      "text/plain": [
       "<Figure size 640x480 with 1 Axes>"
      ]
     },
     "metadata": {},
     "output_type": "display_data"
    }
   ],
   "source": [
    "#найдем скользящее стандартное отклонение\n",
    "df['std'] = df['num_orders'].rolling(50).std()\n",
    "df.plot() \n",
    "plt.title('Скользящее стандартное отклонение')\n",
    "plt.xlabel('Месяц')\n",
    "plt.ylabel('Количество заказов');"
   ]
  },
  {
   "cell_type": "markdown",
   "metadata": {},
   "source": [
    "Временной ряд подходит для прогнозирования, скользящее среднее и скользящее стандартное отклонение невелики."
   ]
  },
  {
   "cell_type": "markdown",
   "metadata": {},
   "source": [
    "**Выводы**\n",
    "1. Имеются данные с 1 марта по 31 августа 2018 года.\n",
    "2. С  марта по август количество заказов постепенно увеличивается каждый месяц.\n",
    "3. Количество заказов падает в утренние часы и увеличивается в ночное время. "
   ]
  },
  {
   "cell_type": "markdown",
   "metadata": {},
   "source": [
    "## Обучение"
   ]
  },
  {
   "cell_type": "code",
   "execution_count": 14,
   "metadata": {},
   "outputs": [],
   "source": [
    "def make_features(data, max_lag, rolling_mean_size):\n",
    "    data['hour'] = data.index.hour\n",
    "    data['dayofweek'] = data.index.dayofweek\n",
    "    \n",
    "    for lag in range(1, max_lag + 1):\n",
    "        data['lag_{}'.format(lag)] = data['num_orders'].shift(lag)\n",
    "\n",
    "    data['rolling_mean'] = data['num_orders'].shift().rolling(rolling_mean_size).mean()\n",
    "make_features(df, 24, 168)"
   ]
  },
  {
   "cell_type": "code",
   "execution_count": 15,
   "metadata": {
    "scrolled": true
   },
   "outputs": [
    {
     "data": {
      "text/html": [
       "<div>\n",
       "<style scoped>\n",
       "    .dataframe tbody tr th:only-of-type {\n",
       "        vertical-align: middle;\n",
       "    }\n",
       "\n",
       "    .dataframe tbody tr th {\n",
       "        vertical-align: top;\n",
       "    }\n",
       "\n",
       "    .dataframe thead th {\n",
       "        text-align: right;\n",
       "    }\n",
       "</style>\n",
       "<table border=\"1\" class=\"dataframe\">\n",
       "  <thead>\n",
       "    <tr style=\"text-align: right;\">\n",
       "      <th></th>\n",
       "      <th>num_orders</th>\n",
       "      <th>rolling_mean</th>\n",
       "      <th>std</th>\n",
       "      <th>hour</th>\n",
       "      <th>dayofweek</th>\n",
       "      <th>lag_1</th>\n",
       "      <th>lag_2</th>\n",
       "      <th>lag_3</th>\n",
       "      <th>lag_4</th>\n",
       "      <th>lag_5</th>\n",
       "      <th>...</th>\n",
       "      <th>lag_15</th>\n",
       "      <th>lag_16</th>\n",
       "      <th>lag_17</th>\n",
       "      <th>lag_18</th>\n",
       "      <th>lag_19</th>\n",
       "      <th>lag_20</th>\n",
       "      <th>lag_21</th>\n",
       "      <th>lag_22</th>\n",
       "      <th>lag_23</th>\n",
       "      <th>lag_24</th>\n",
       "    </tr>\n",
       "    <tr>\n",
       "      <th>datetime</th>\n",
       "      <th></th>\n",
       "      <th></th>\n",
       "      <th></th>\n",
       "      <th></th>\n",
       "      <th></th>\n",
       "      <th></th>\n",
       "      <th></th>\n",
       "      <th></th>\n",
       "      <th></th>\n",
       "      <th></th>\n",
       "      <th></th>\n",
       "      <th></th>\n",
       "      <th></th>\n",
       "      <th></th>\n",
       "      <th></th>\n",
       "      <th></th>\n",
       "      <th></th>\n",
       "      <th></th>\n",
       "      <th></th>\n",
       "      <th></th>\n",
       "      <th></th>\n",
       "    </tr>\n",
       "  </thead>\n",
       "  <tbody>\n",
       "    <tr>\n",
       "      <th>2018-03-01 00:00:00</th>\n",
       "      <td>124</td>\n",
       "      <td>NaN</td>\n",
       "      <td>NaN</td>\n",
       "      <td>0</td>\n",
       "      <td>3</td>\n",
       "      <td>NaN</td>\n",
       "      <td>NaN</td>\n",
       "      <td>NaN</td>\n",
       "      <td>NaN</td>\n",
       "      <td>NaN</td>\n",
       "      <td>...</td>\n",
       "      <td>NaN</td>\n",
       "      <td>NaN</td>\n",
       "      <td>NaN</td>\n",
       "      <td>NaN</td>\n",
       "      <td>NaN</td>\n",
       "      <td>NaN</td>\n",
       "      <td>NaN</td>\n",
       "      <td>NaN</td>\n",
       "      <td>NaN</td>\n",
       "      <td>NaN</td>\n",
       "    </tr>\n",
       "    <tr>\n",
       "      <th>2018-03-01 01:00:00</th>\n",
       "      <td>85</td>\n",
       "      <td>NaN</td>\n",
       "      <td>NaN</td>\n",
       "      <td>1</td>\n",
       "      <td>3</td>\n",
       "      <td>124.0</td>\n",
       "      <td>NaN</td>\n",
       "      <td>NaN</td>\n",
       "      <td>NaN</td>\n",
       "      <td>NaN</td>\n",
       "      <td>...</td>\n",
       "      <td>NaN</td>\n",
       "      <td>NaN</td>\n",
       "      <td>NaN</td>\n",
       "      <td>NaN</td>\n",
       "      <td>NaN</td>\n",
       "      <td>NaN</td>\n",
       "      <td>NaN</td>\n",
       "      <td>NaN</td>\n",
       "      <td>NaN</td>\n",
       "      <td>NaN</td>\n",
       "    </tr>\n",
       "    <tr>\n",
       "      <th>2018-03-01 02:00:00</th>\n",
       "      <td>71</td>\n",
       "      <td>NaN</td>\n",
       "      <td>NaN</td>\n",
       "      <td>2</td>\n",
       "      <td>3</td>\n",
       "      <td>85.0</td>\n",
       "      <td>124.0</td>\n",
       "      <td>NaN</td>\n",
       "      <td>NaN</td>\n",
       "      <td>NaN</td>\n",
       "      <td>...</td>\n",
       "      <td>NaN</td>\n",
       "      <td>NaN</td>\n",
       "      <td>NaN</td>\n",
       "      <td>NaN</td>\n",
       "      <td>NaN</td>\n",
       "      <td>NaN</td>\n",
       "      <td>NaN</td>\n",
       "      <td>NaN</td>\n",
       "      <td>NaN</td>\n",
       "      <td>NaN</td>\n",
       "    </tr>\n",
       "    <tr>\n",
       "      <th>2018-03-01 03:00:00</th>\n",
       "      <td>66</td>\n",
       "      <td>NaN</td>\n",
       "      <td>NaN</td>\n",
       "      <td>3</td>\n",
       "      <td>3</td>\n",
       "      <td>71.0</td>\n",
       "      <td>85.0</td>\n",
       "      <td>124.0</td>\n",
       "      <td>NaN</td>\n",
       "      <td>NaN</td>\n",
       "      <td>...</td>\n",
       "      <td>NaN</td>\n",
       "      <td>NaN</td>\n",
       "      <td>NaN</td>\n",
       "      <td>NaN</td>\n",
       "      <td>NaN</td>\n",
       "      <td>NaN</td>\n",
       "      <td>NaN</td>\n",
       "      <td>NaN</td>\n",
       "      <td>NaN</td>\n",
       "      <td>NaN</td>\n",
       "    </tr>\n",
       "    <tr>\n",
       "      <th>2018-03-01 04:00:00</th>\n",
       "      <td>43</td>\n",
       "      <td>NaN</td>\n",
       "      <td>NaN</td>\n",
       "      <td>4</td>\n",
       "      <td>3</td>\n",
       "      <td>66.0</td>\n",
       "      <td>71.0</td>\n",
       "      <td>85.0</td>\n",
       "      <td>124.0</td>\n",
       "      <td>NaN</td>\n",
       "      <td>...</td>\n",
       "      <td>NaN</td>\n",
       "      <td>NaN</td>\n",
       "      <td>NaN</td>\n",
       "      <td>NaN</td>\n",
       "      <td>NaN</td>\n",
       "      <td>NaN</td>\n",
       "      <td>NaN</td>\n",
       "      <td>NaN</td>\n",
       "      <td>NaN</td>\n",
       "      <td>NaN</td>\n",
       "    </tr>\n",
       "  </tbody>\n",
       "</table>\n",
       "<p>5 rows × 29 columns</p>\n",
       "</div>"
      ],
      "text/plain": [
       "                     num_orders  rolling_mean  std  hour  dayofweek  lag_1  \\\n",
       "datetime                                                                     \n",
       "2018-03-01 00:00:00         124           NaN  NaN     0          3    NaN   \n",
       "2018-03-01 01:00:00          85           NaN  NaN     1          3  124.0   \n",
       "2018-03-01 02:00:00          71           NaN  NaN     2          3   85.0   \n",
       "2018-03-01 03:00:00          66           NaN  NaN     3          3   71.0   \n",
       "2018-03-01 04:00:00          43           NaN  NaN     4          3   66.0   \n",
       "\n",
       "                     lag_2  lag_3  lag_4  lag_5  ...  lag_15  lag_16  lag_17  \\\n",
       "datetime                                         ...                           \n",
       "2018-03-01 00:00:00    NaN    NaN    NaN    NaN  ...     NaN     NaN     NaN   \n",
       "2018-03-01 01:00:00    NaN    NaN    NaN    NaN  ...     NaN     NaN     NaN   \n",
       "2018-03-01 02:00:00  124.0    NaN    NaN    NaN  ...     NaN     NaN     NaN   \n",
       "2018-03-01 03:00:00   85.0  124.0    NaN    NaN  ...     NaN     NaN     NaN   \n",
       "2018-03-01 04:00:00   71.0   85.0  124.0    NaN  ...     NaN     NaN     NaN   \n",
       "\n",
       "                     lag_18  lag_19  lag_20  lag_21  lag_22  lag_23  lag_24  \n",
       "datetime                                                                     \n",
       "2018-03-01 00:00:00     NaN     NaN     NaN     NaN     NaN     NaN     NaN  \n",
       "2018-03-01 01:00:00     NaN     NaN     NaN     NaN     NaN     NaN     NaN  \n",
       "2018-03-01 02:00:00     NaN     NaN     NaN     NaN     NaN     NaN     NaN  \n",
       "2018-03-01 03:00:00     NaN     NaN     NaN     NaN     NaN     NaN     NaN  \n",
       "2018-03-01 04:00:00     NaN     NaN     NaN     NaN     NaN     NaN     NaN  \n",
       "\n",
       "[5 rows x 29 columns]"
      ]
     },
     "execution_count": 15,
     "metadata": {},
     "output_type": "execute_result"
    }
   ],
   "source": [
    "df.head()"
   ]
  },
  {
   "cell_type": "code",
   "execution_count": 16,
   "metadata": {},
   "outputs": [
    {
     "data": {
      "text/html": [
       "<div>\n",
       "<style scoped>\n",
       "    .dataframe tbody tr th:only-of-type {\n",
       "        vertical-align: middle;\n",
       "    }\n",
       "\n",
       "    .dataframe tbody tr th {\n",
       "        vertical-align: top;\n",
       "    }\n",
       "\n",
       "    .dataframe thead th {\n",
       "        text-align: right;\n",
       "    }\n",
       "</style>\n",
       "<table border=\"1\" class=\"dataframe\">\n",
       "  <thead>\n",
       "    <tr style=\"text-align: right;\">\n",
       "      <th></th>\n",
       "      <th>num_orders</th>\n",
       "      <th>rolling_mean</th>\n",
       "      <th>hour</th>\n",
       "      <th>dayofweek</th>\n",
       "      <th>lag_1</th>\n",
       "      <th>lag_2</th>\n",
       "      <th>lag_3</th>\n",
       "      <th>lag_4</th>\n",
       "      <th>lag_5</th>\n",
       "      <th>lag_6</th>\n",
       "      <th>...</th>\n",
       "      <th>lag_15</th>\n",
       "      <th>lag_16</th>\n",
       "      <th>lag_17</th>\n",
       "      <th>lag_18</th>\n",
       "      <th>lag_19</th>\n",
       "      <th>lag_20</th>\n",
       "      <th>lag_21</th>\n",
       "      <th>lag_22</th>\n",
       "      <th>lag_23</th>\n",
       "      <th>lag_24</th>\n",
       "    </tr>\n",
       "    <tr>\n",
       "      <th>datetime</th>\n",
       "      <th></th>\n",
       "      <th></th>\n",
       "      <th></th>\n",
       "      <th></th>\n",
       "      <th></th>\n",
       "      <th></th>\n",
       "      <th></th>\n",
       "      <th></th>\n",
       "      <th></th>\n",
       "      <th></th>\n",
       "      <th></th>\n",
       "      <th></th>\n",
       "      <th></th>\n",
       "      <th></th>\n",
       "      <th></th>\n",
       "      <th></th>\n",
       "      <th></th>\n",
       "      <th></th>\n",
       "      <th></th>\n",
       "      <th></th>\n",
       "      <th></th>\n",
       "    </tr>\n",
       "  </thead>\n",
       "  <tbody>\n",
       "    <tr>\n",
       "      <th>2018-03-01 00:00:00</th>\n",
       "      <td>124</td>\n",
       "      <td>NaN</td>\n",
       "      <td>0</td>\n",
       "      <td>3</td>\n",
       "      <td>NaN</td>\n",
       "      <td>NaN</td>\n",
       "      <td>NaN</td>\n",
       "      <td>NaN</td>\n",
       "      <td>NaN</td>\n",
       "      <td>NaN</td>\n",
       "      <td>...</td>\n",
       "      <td>NaN</td>\n",
       "      <td>NaN</td>\n",
       "      <td>NaN</td>\n",
       "      <td>NaN</td>\n",
       "      <td>NaN</td>\n",
       "      <td>NaN</td>\n",
       "      <td>NaN</td>\n",
       "      <td>NaN</td>\n",
       "      <td>NaN</td>\n",
       "      <td>NaN</td>\n",
       "    </tr>\n",
       "    <tr>\n",
       "      <th>2018-03-01 01:00:00</th>\n",
       "      <td>85</td>\n",
       "      <td>NaN</td>\n",
       "      <td>1</td>\n",
       "      <td>3</td>\n",
       "      <td>124.0</td>\n",
       "      <td>NaN</td>\n",
       "      <td>NaN</td>\n",
       "      <td>NaN</td>\n",
       "      <td>NaN</td>\n",
       "      <td>NaN</td>\n",
       "      <td>...</td>\n",
       "      <td>NaN</td>\n",
       "      <td>NaN</td>\n",
       "      <td>NaN</td>\n",
       "      <td>NaN</td>\n",
       "      <td>NaN</td>\n",
       "      <td>NaN</td>\n",
       "      <td>NaN</td>\n",
       "      <td>NaN</td>\n",
       "      <td>NaN</td>\n",
       "      <td>NaN</td>\n",
       "    </tr>\n",
       "    <tr>\n",
       "      <th>2018-03-01 02:00:00</th>\n",
       "      <td>71</td>\n",
       "      <td>NaN</td>\n",
       "      <td>2</td>\n",
       "      <td>3</td>\n",
       "      <td>85.0</td>\n",
       "      <td>124.0</td>\n",
       "      <td>NaN</td>\n",
       "      <td>NaN</td>\n",
       "      <td>NaN</td>\n",
       "      <td>NaN</td>\n",
       "      <td>...</td>\n",
       "      <td>NaN</td>\n",
       "      <td>NaN</td>\n",
       "      <td>NaN</td>\n",
       "      <td>NaN</td>\n",
       "      <td>NaN</td>\n",
       "      <td>NaN</td>\n",
       "      <td>NaN</td>\n",
       "      <td>NaN</td>\n",
       "      <td>NaN</td>\n",
       "      <td>NaN</td>\n",
       "    </tr>\n",
       "    <tr>\n",
       "      <th>2018-03-01 03:00:00</th>\n",
       "      <td>66</td>\n",
       "      <td>NaN</td>\n",
       "      <td>3</td>\n",
       "      <td>3</td>\n",
       "      <td>71.0</td>\n",
       "      <td>85.0</td>\n",
       "      <td>124.0</td>\n",
       "      <td>NaN</td>\n",
       "      <td>NaN</td>\n",
       "      <td>NaN</td>\n",
       "      <td>...</td>\n",
       "      <td>NaN</td>\n",
       "      <td>NaN</td>\n",
       "      <td>NaN</td>\n",
       "      <td>NaN</td>\n",
       "      <td>NaN</td>\n",
       "      <td>NaN</td>\n",
       "      <td>NaN</td>\n",
       "      <td>NaN</td>\n",
       "      <td>NaN</td>\n",
       "      <td>NaN</td>\n",
       "    </tr>\n",
       "    <tr>\n",
       "      <th>2018-03-01 04:00:00</th>\n",
       "      <td>43</td>\n",
       "      <td>NaN</td>\n",
       "      <td>4</td>\n",
       "      <td>3</td>\n",
       "      <td>66.0</td>\n",
       "      <td>71.0</td>\n",
       "      <td>85.0</td>\n",
       "      <td>124.0</td>\n",
       "      <td>NaN</td>\n",
       "      <td>NaN</td>\n",
       "      <td>...</td>\n",
       "      <td>NaN</td>\n",
       "      <td>NaN</td>\n",
       "      <td>NaN</td>\n",
       "      <td>NaN</td>\n",
       "      <td>NaN</td>\n",
       "      <td>NaN</td>\n",
       "      <td>NaN</td>\n",
       "      <td>NaN</td>\n",
       "      <td>NaN</td>\n",
       "      <td>NaN</td>\n",
       "    </tr>\n",
       "  </tbody>\n",
       "</table>\n",
       "<p>5 rows × 28 columns</p>\n",
       "</div>"
      ],
      "text/plain": [
       "                     num_orders  rolling_mean  hour  dayofweek  lag_1  lag_2  \\\n",
       "datetime                                                                       \n",
       "2018-03-01 00:00:00         124           NaN     0          3    NaN    NaN   \n",
       "2018-03-01 01:00:00          85           NaN     1          3  124.0    NaN   \n",
       "2018-03-01 02:00:00          71           NaN     2          3   85.0  124.0   \n",
       "2018-03-01 03:00:00          66           NaN     3          3   71.0   85.0   \n",
       "2018-03-01 04:00:00          43           NaN     4          3   66.0   71.0   \n",
       "\n",
       "                     lag_3  lag_4  lag_5  lag_6  ...  lag_15  lag_16  lag_17  \\\n",
       "datetime                                         ...                           \n",
       "2018-03-01 00:00:00    NaN    NaN    NaN    NaN  ...     NaN     NaN     NaN   \n",
       "2018-03-01 01:00:00    NaN    NaN    NaN    NaN  ...     NaN     NaN     NaN   \n",
       "2018-03-01 02:00:00    NaN    NaN    NaN    NaN  ...     NaN     NaN     NaN   \n",
       "2018-03-01 03:00:00  124.0    NaN    NaN    NaN  ...     NaN     NaN     NaN   \n",
       "2018-03-01 04:00:00   85.0  124.0    NaN    NaN  ...     NaN     NaN     NaN   \n",
       "\n",
       "                     lag_18  lag_19  lag_20  lag_21  lag_22  lag_23  lag_24  \n",
       "datetime                                                                     \n",
       "2018-03-01 00:00:00     NaN     NaN     NaN     NaN     NaN     NaN     NaN  \n",
       "2018-03-01 01:00:00     NaN     NaN     NaN     NaN     NaN     NaN     NaN  \n",
       "2018-03-01 02:00:00     NaN     NaN     NaN     NaN     NaN     NaN     NaN  \n",
       "2018-03-01 03:00:00     NaN     NaN     NaN     NaN     NaN     NaN     NaN  \n",
       "2018-03-01 04:00:00     NaN     NaN     NaN     NaN     NaN     NaN     NaN  \n",
       "\n",
       "[5 rows x 28 columns]"
      ]
     },
     "execution_count": 16,
     "metadata": {},
     "output_type": "execute_result"
    }
   ],
   "source": [
    "#удалим из данных столбец std, который созадавался с учетом предсказываемого значения\n",
    "df= df.drop('std', axis = 1)\n",
    "df.head()"
   ]
  },
  {
   "cell_type": "code",
   "execution_count": 17,
   "metadata": {},
   "outputs": [],
   "source": [
    "#разделим данные на обучающую и тестовую выборки\n",
    "train, test = train_test_split(df, test_size = 0.1, shuffle = False, random_state = 12)"
   ]
  },
  {
   "cell_type": "code",
   "execution_count": 18,
   "metadata": {},
   "outputs": [
    {
     "data": {
      "text/plain": [
       "Timestamp('2018-03-01 00:00:00', freq='H')"
      ]
     },
     "metadata": {},
     "output_type": "display_data"
    },
    {
     "data": {
      "text/plain": [
       "Timestamp('2018-08-13 13:00:00', freq='H')"
      ]
     },
     "metadata": {},
     "output_type": "display_data"
    },
    {
     "data": {
      "text/plain": [
       "(Timestamp('2018-08-13 14:00:00', freq='H'),\n",
       " Timestamp('2018-08-31 23:00:00', freq='H'))"
      ]
     },
     "execution_count": 18,
     "metadata": {},
     "output_type": "execute_result"
    }
   ],
   "source": [
    "#проверим, что данные разделены правильно\n",
    "display(train.index.min(), train.index.max())\n",
    "test.index.min(), test.index.max()"
   ]
  },
  {
   "cell_type": "code",
   "execution_count": 19,
   "metadata": {},
   "outputs": [],
   "source": [
    "#Удалим пропущенные значения из обучающей выборки\n",
    "train = train.dropna()"
   ]
  },
  {
   "cell_type": "code",
   "execution_count": 20,
   "metadata": {},
   "outputs": [],
   "source": [
    "#созададим features и taarget в обучающей и тестовой выборках\n",
    "train_features = train.drop('num_orders', axis = 1)\n",
    "train_target = train['num_orders']\n",
    "test_features = test.drop('num_orders', axis = 1)\n",
    "test_target = test['num_orders']"
   ]
  },
  {
   "cell_type": "code",
   "execution_count": 21,
   "metadata": {},
   "outputs": [],
   "source": [
    "model1 = Ridge(random_state = 12)\n",
    "model2 = LGBMRegressor(random_state = 12)\n",
    "model3 = CatBoostRegressor(random_state = 12)"
   ]
  },
  {
   "cell_type": "code",
   "execution_count": 22,
   "metadata": {},
   "outputs": [],
   "source": [
    "param1 = {}\n",
    "param1['solver']  = ['auto', 'lsqr', 'cholesky']\n",
    "param1['alpha'] = [0.005, 0.02, 0.03, 0.05, 0.06]\n",
    "\n",
    "param2={}\n",
    "param2['max_depth'] = [ -1, 10, 20]\n",
    "param2['n_estimators'] = [100,150, 200, 50]\n",
    "#param2['num_leaves'] = [500, 50, 100]\n",
    "\n",
    "param3 = {}\n",
    "param3['iterations'] = [i for i in range(10, 15)]\n",
    "param3['depth'] = [i for i in range(7, 10)]"
   ]
  },
  {
   "cell_type": "code",
   "execution_count": 23,
   "metadata": {},
   "outputs": [],
   "source": [
    " tscv = TimeSeriesSplit(n_splits=5)"
   ]
  },
  {
   "cell_type": "code",
   "execution_count": 24,
   "metadata": {},
   "outputs": [],
   "source": [
    "#создадим функцию, которая принимает модель и набор гиперпараметров, подбирает гиперпараметры RandomSearchCV, на выходе выдает лучшие гиперпарамтеры и метрику rmse\n",
    "def randomsearch(model, param):\n",
    "    grid = RandomizedSearchCV(model, param, cv =tscv, scoring = 'neg_root_mean_squared_error', n_jobs = -1, random_state = 12, verbose = False).fit(train_features,train_target)\n",
    "    return grid.best_params_, abs(grid.best_score_)"
   ]
  },
  {
   "cell_type": "code",
   "execution_count": 25,
   "metadata": {
    "scrolled": true
   },
   "outputs": [
    {
     "data": {
      "text/plain": [
       "({'solver': 'auto', 'alpha': 0.06}, 27.07412395094907)"
      ]
     },
     "execution_count": 25,
     "metadata": {},
     "output_type": "execute_result"
    }
   ],
   "source": [
    "#посмотрим лучшие гиперпараметры и rmse для Ridge\n",
    "randomsearch(model1, param1)"
   ]
  },
  {
   "cell_type": "code",
   "execution_count": 26,
   "metadata": {
    "scrolled": true
   },
   "outputs": [
    {
     "name": "stdout",
     "output_type": "stream",
     "text": [
      "[LightGBM] [Warning] Accuracy may be bad since you didn't explicitly set num_leaves OR 2^max_depth > num_leaves. (num_leaves=31).\n",
      "[LightGBM] [Warning] Accuracy may be bad since you didn't explicitly set num_leaves OR 2^max_depth > num_leaves. (num_leaves=31).\n",
      "[LightGBM] [Warning] Auto-choosing col-wise multi-threading, the overhead of testing was 0.000956 seconds.\n",
      "You can set `force_col_wise=true` to remove the overhead.\n",
      "[LightGBM] [Info] Total Bins 4812\n",
      "[LightGBM] [Info] Number of data points in the train set: 3806, number of used features: 27\n",
      "[LightGBM] [Info] Start training from score 79.352864\n",
      "[LightGBM] [Warning] No further splits with positive gain, best gain: -inf\n"
     ]
    },
    {
     "data": {
      "text/plain": [
       "({'n_estimators': 50, 'max_depth': 10}, 24.933332983539106)"
      ]
     },
     "execution_count": 26,
     "metadata": {},
     "output_type": "execute_result"
    }
   ],
   "source": [
    "#посмотрим лучшие гиперпараметры и rmse для LGBMRegressor\n",
    "randomsearch(model2, param2)"
   ]
  },
  {
   "cell_type": "code",
   "execution_count": 27,
   "metadata": {
    "scrolled": true
   },
   "outputs": [
    {
     "name": "stdout",
     "output_type": "stream",
     "text": [
      "Learning rate set to 0.5\n",
      "0:\tlearn: 29.9230065\ttotal: 153ms\tremaining: 1.83s\n",
      "1:\tlearn: 26.6485940\ttotal: 160ms\tremaining: 881ms\n",
      "2:\tlearn: 24.4072970\ttotal: 168ms\tremaining: 561ms\n",
      "3:\tlearn: 23.5407515\ttotal: 176ms\tremaining: 395ms\n",
      "4:\tlearn: 22.7079997\ttotal: 183ms\tremaining: 293ms\n",
      "5:\tlearn: 22.1311089\ttotal: 190ms\tremaining: 222ms\n",
      "6:\tlearn: 21.8002061\ttotal: 199ms\tremaining: 170ms\n",
      "7:\tlearn: 21.7198395\ttotal: 206ms\tremaining: 129ms\n",
      "8:\tlearn: 21.3854717\ttotal: 213ms\tremaining: 94.9ms\n",
      "9:\tlearn: 21.0948919\ttotal: 221ms\tremaining: 66.2ms\n",
      "10:\tlearn: 20.8287688\ttotal: 228ms\tremaining: 41.5ms\n",
      "11:\tlearn: 20.5187630\ttotal: 236ms\tremaining: 19.6ms\n",
      "12:\tlearn: 20.3345976\ttotal: 243ms\tremaining: 0us\n"
     ]
    },
    {
     "data": {
      "text/plain": [
       "({'iterations': 13, 'depth': 7}, 25.953473333411193)"
      ]
     },
     "execution_count": 27,
     "metadata": {},
     "output_type": "execute_result"
    }
   ],
   "source": [
    "#посмотрим лучшие гиперпараметры и rmse для CatBoostRegressor\n",
    "randomsearch(model3, param3)"
   ]
  },
  {
   "cell_type": "markdown",
   "metadata": {},
   "source": [
    "**Выводы**\n",
    "1. Модель LGBMRegressorс параметрами {'n_estimators': 50, 'max_depth': 10} показала метрику rmse 24.93.\n",
    "2. Модель Ridge с гиперпараметрами {'solver': 'lsqr', 'alpha': 0.06} показала метрику rmse 26.97.\n",
    "3. Модель CatBoostRegressor c гиперпараметрами {'iterations': 13, 'depth': 7} показала метрику rmse 25.95.\n",
    "4. Лучшую метрику показала модель LGBMRegressor. Проведем ее тестирование на тестовой выборке. "
   ]
  },
  {
   "cell_type": "markdown",
   "metadata": {},
   "source": [
    "## Тестирование"
   ]
  },
  {
   "cell_type": "code",
   "execution_count": 28,
   "metadata": {},
   "outputs": [],
   "source": [
    "model = LGBMRegressor(n_estimators = 50, max_depth = 10, random_state = 12)"
   ]
  },
  {
   "cell_type": "code",
   "execution_count": 29,
   "metadata": {},
   "outputs": [
    {
     "name": "stdout",
     "output_type": "stream",
     "text": [
      "[LightGBM] [Warning] Accuracy may be bad since you didn't explicitly set num_leaves OR 2^max_depth > num_leaves. (num_leaves=31).\n",
      "[LightGBM] [Warning] Accuracy may be bad since you didn't explicitly set num_leaves OR 2^max_depth > num_leaves. (num_leaves=31).\n",
      "[LightGBM] [Warning] Auto-choosing col-wise multi-threading, the overhead of testing was 0.000769 seconds.\n",
      "You can set `force_col_wise=true` to remove the overhead.\n",
      "[LightGBM] [Info] Total Bins 4812\n",
      "[LightGBM] [Info] Number of data points in the train set: 3806, number of used features: 27\n",
      "[LightGBM] [Info] Start training from score 79.352864\n",
      "[LightGBM] [Warning] No further splits with positive gain, best gain: -inf\n"
     ]
    },
    {
     "data": {
      "text/html": [
       "<style>#sk-container-id-1 {color: black;}#sk-container-id-1 pre{padding: 0;}#sk-container-id-1 div.sk-toggleable {background-color: white;}#sk-container-id-1 label.sk-toggleable__label {cursor: pointer;display: block;width: 100%;margin-bottom: 0;padding: 0.3em;box-sizing: border-box;text-align: center;}#sk-container-id-1 label.sk-toggleable__label-arrow:before {content: \"▸\";float: left;margin-right: 0.25em;color: #696969;}#sk-container-id-1 label.sk-toggleable__label-arrow:hover:before {color: black;}#sk-container-id-1 div.sk-estimator:hover label.sk-toggleable__label-arrow:before {color: black;}#sk-container-id-1 div.sk-toggleable__content {max-height: 0;max-width: 0;overflow: hidden;text-align: left;background-color: #f0f8ff;}#sk-container-id-1 div.sk-toggleable__content pre {margin: 0.2em;color: black;border-radius: 0.25em;background-color: #f0f8ff;}#sk-container-id-1 input.sk-toggleable__control:checked~div.sk-toggleable__content {max-height: 200px;max-width: 100%;overflow: auto;}#sk-container-id-1 input.sk-toggleable__control:checked~label.sk-toggleable__label-arrow:before {content: \"▾\";}#sk-container-id-1 div.sk-estimator input.sk-toggleable__control:checked~label.sk-toggleable__label {background-color: #d4ebff;}#sk-container-id-1 div.sk-label input.sk-toggleable__control:checked~label.sk-toggleable__label {background-color: #d4ebff;}#sk-container-id-1 input.sk-hidden--visually {border: 0;clip: rect(1px 1px 1px 1px);clip: rect(1px, 1px, 1px, 1px);height: 1px;margin: -1px;overflow: hidden;padding: 0;position: absolute;width: 1px;}#sk-container-id-1 div.sk-estimator {font-family: monospace;background-color: #f0f8ff;border: 1px dotted black;border-radius: 0.25em;box-sizing: border-box;margin-bottom: 0.5em;}#sk-container-id-1 div.sk-estimator:hover {background-color: #d4ebff;}#sk-container-id-1 div.sk-parallel-item::after {content: \"\";width: 100%;border-bottom: 1px solid gray;flex-grow: 1;}#sk-container-id-1 div.sk-label:hover label.sk-toggleable__label {background-color: #d4ebff;}#sk-container-id-1 div.sk-serial::before {content: \"\";position: absolute;border-left: 1px solid gray;box-sizing: border-box;top: 0;bottom: 0;left: 50%;z-index: 0;}#sk-container-id-1 div.sk-serial {display: flex;flex-direction: column;align-items: center;background-color: white;padding-right: 0.2em;padding-left: 0.2em;position: relative;}#sk-container-id-1 div.sk-item {position: relative;z-index: 1;}#sk-container-id-1 div.sk-parallel {display: flex;align-items: stretch;justify-content: center;background-color: white;position: relative;}#sk-container-id-1 div.sk-item::before, #sk-container-id-1 div.sk-parallel-item::before {content: \"\";position: absolute;border-left: 1px solid gray;box-sizing: border-box;top: 0;bottom: 0;left: 50%;z-index: -1;}#sk-container-id-1 div.sk-parallel-item {display: flex;flex-direction: column;z-index: 1;position: relative;background-color: white;}#sk-container-id-1 div.sk-parallel-item:first-child::after {align-self: flex-end;width: 50%;}#sk-container-id-1 div.sk-parallel-item:last-child::after {align-self: flex-start;width: 50%;}#sk-container-id-1 div.sk-parallel-item:only-child::after {width: 0;}#sk-container-id-1 div.sk-dashed-wrapped {border: 1px dashed gray;margin: 0 0.4em 0.5em 0.4em;box-sizing: border-box;padding-bottom: 0.4em;background-color: white;}#sk-container-id-1 div.sk-label label {font-family: monospace;font-weight: bold;display: inline-block;line-height: 1.2em;}#sk-container-id-1 div.sk-label-container {text-align: center;}#sk-container-id-1 div.sk-container {/* jupyter's `normalize.less` sets `[hidden] { display: none; }` but bootstrap.min.css set `[hidden] { display: none !important; }` so we also need the `!important` here to be able to override the default hidden behavior on the sphinx rendered scikit-learn.org. See: https://github.com/scikit-learn/scikit-learn/issues/21755 */display: inline-block !important;position: relative;}#sk-container-id-1 div.sk-text-repr-fallback {display: none;}</style><div id=\"sk-container-id-1\" class=\"sk-top-container\"><div class=\"sk-text-repr-fallback\"><pre>LGBMRegressor(max_depth=10, n_estimators=50, random_state=12)</pre><b>In a Jupyter environment, please rerun this cell to show the HTML representation or trust the notebook. <br />On GitHub, the HTML representation is unable to render, please try loading this page with nbviewer.org.</b></div><div class=\"sk-container\" hidden><div class=\"sk-item\"><div class=\"sk-estimator sk-toggleable\"><input class=\"sk-toggleable__control sk-hidden--visually\" id=\"sk-estimator-id-1\" type=\"checkbox\" checked><label for=\"sk-estimator-id-1\" class=\"sk-toggleable__label sk-toggleable__label-arrow\">LGBMRegressor</label><div class=\"sk-toggleable__content\"><pre>LGBMRegressor(max_depth=10, n_estimators=50, random_state=12)</pre></div></div></div></div></div>"
      ],
      "text/plain": [
       "LGBMRegressor(max_depth=10, n_estimators=50, random_state=12)"
      ]
     },
     "execution_count": 29,
     "metadata": {},
     "output_type": "execute_result"
    }
   ],
   "source": [
    "model.fit(train_features, train_target)"
   ]
  },
  {
   "cell_type": "code",
   "execution_count": 30,
   "metadata": {},
   "outputs": [
    {
     "name": "stdout",
     "output_type": "stream",
     "text": [
      "[LightGBM] [Warning] Accuracy may be bad since you didn't explicitly set num_leaves OR 2^max_depth > num_leaves. (num_leaves=31).\n"
     ]
    }
   ],
   "source": [
    "pred = model.predict(test_features)"
   ]
  },
  {
   "cell_type": "code",
   "execution_count": 31,
   "metadata": {},
   "outputs": [
    {
     "data": {
      "text/plain": [
       "40.51407702077217"
      ]
     },
     "execution_count": 31,
     "metadata": {},
     "output_type": "execute_result"
    }
   ],
   "source": [
    "rmse = mean_squared_error(test_target, pred, squared= False)\n",
    "rmse"
   ]
  },
  {
   "cell_type": "code",
   "execution_count": 32,
   "metadata": {},
   "outputs": [],
   "source": [
    "#проверим нашу модель на адекватность с помощью прогнозирования предыдущим значением, то есть количеством поездок за предыдущий час\n",
    "pred_previous = test_target.shift()\n",
    "pred_previous.iloc[0] = train_target.iloc[-1]"
   ]
  },
  {
   "cell_type": "code",
   "execution_count": 33,
   "metadata": {},
   "outputs": [
    {
     "data": {
      "text/plain": [
       "58.856486242815066"
      ]
     },
     "execution_count": 33,
     "metadata": {},
     "output_type": "execute_result"
    }
   ],
   "source": [
    "rmse_prev = mean_squared_error(test_target, pred_previous, squared = False)\n",
    "rmse_prev"
   ]
  },
  {
   "cell_type": "markdown",
   "metadata": {},
   "source": [
    "**Выводы**\n",
    "1. Метрика RMSE нашей модели на тестовой выборке 40.5, что удовлетворяет условиям задачи.\n",
    "2. Лучшая модель LGBMRegressor c гиперпараметрами max_depth = 10, n_estimators = 50.\n",
    "3. Проверили модель на адекватность, rmse, полученная прогнозировнаием предыдущим значением - 58.85, что хуже, чем у нашей модели. Наша модель адекватна. "
   ]
  }
 ],
 "metadata": {
  "ExecuteTimeLog": [
   {
    "duration": 4833,
    "start_time": "2023-08-23T13:12:32.410Z"
   },
   {
    "duration": 127,
    "start_time": "2023-08-23T13:12:37.245Z"
   },
   {
    "duration": 74,
    "start_time": "2023-08-23T13:12:37.374Z"
   },
   {
    "duration": 83,
    "start_time": "2023-08-23T13:12:37.451Z"
   },
   {
    "duration": 39,
    "start_time": "2023-08-23T13:12:37.536Z"
   },
   {
    "duration": 58,
    "start_time": "2023-08-23T13:12:37.577Z"
   },
   {
    "duration": 28,
    "start_time": "2023-08-23T13:12:37.638Z"
   },
   {
    "duration": 63,
    "start_time": "2023-08-23T13:12:37.668Z"
   },
   {
    "duration": 37,
    "start_time": "2023-08-23T13:12:37.733Z"
   },
   {
    "duration": 666,
    "start_time": "2023-08-23T13:12:37.774Z"
   },
   {
    "duration": 684,
    "start_time": "2023-08-23T13:12:38.442Z"
   },
   {
    "duration": 1032,
    "start_time": "2023-08-23T13:12:39.128Z"
   },
   {
    "duration": 982,
    "start_time": "2023-08-23T13:12:40.162Z"
   },
   {
    "duration": 1094,
    "start_time": "2023-08-23T13:12:41.146Z"
   },
   {
    "duration": 17,
    "start_time": "2023-08-23T13:12:42.242Z"
   },
   {
    "duration": 93,
    "start_time": "2023-08-23T13:12:42.262Z"
   },
   {
    "duration": 7,
    "start_time": "2023-08-23T13:12:42.358Z"
   },
   {
    "duration": 12,
    "start_time": "2023-08-23T13:12:42.424Z"
   },
   {
    "duration": 14,
    "start_time": "2023-08-23T13:12:42.438Z"
   },
   {
    "duration": 7,
    "start_time": "2023-08-23T13:12:42.454Z"
   },
   {
    "duration": 62,
    "start_time": "2023-08-23T13:12:42.463Z"
   },
   {
    "duration": 56,
    "start_time": "2023-08-23T13:12:42.527Z"
   },
   {
    "duration": 2846,
    "start_time": "2023-08-23T13:12:42.585Z"
   },
   {
    "duration": 7,
    "start_time": "2023-08-23T13:12:45.434Z"
   },
   {
    "duration": 184,
    "start_time": "2023-08-23T13:12:45.443Z"
   },
   {
    "duration": 3700,
    "start_time": "2023-08-23T13:12:45.629Z"
   },
   {
    "duration": 5568294,
    "start_time": "2023-08-23T13:12:49.332Z"
   },
   {
    "duration": 28356,
    "start_time": "2023-08-23T14:45:37.633Z"
   },
   {
    "duration": 4,
    "start_time": "2023-08-23T14:46:05.991Z"
   },
   {
    "duration": 34357,
    "start_time": "2023-08-23T14:46:05.997Z"
   },
   {
    "duration": 75,
    "start_time": "2023-08-23T14:46:40.356Z"
   },
   {
    "duration": 8,
    "start_time": "2023-08-23T14:46:40.436Z"
   },
   {
    "duration": 53,
    "start_time": "2023-08-24T05:40:23.072Z"
   },
   {
    "duration": 1633,
    "start_time": "2023-08-24T05:40:34.235Z"
   },
   {
    "duration": 205,
    "start_time": "2023-08-24T05:40:35.870Z"
   },
   {
    "duration": 20,
    "start_time": "2023-08-24T05:40:36.076Z"
   },
   {
    "duration": 16,
    "start_time": "2023-08-24T05:40:36.098Z"
   },
   {
    "duration": 12,
    "start_time": "2023-08-24T05:40:36.120Z"
   },
   {
    "duration": 8,
    "start_time": "2023-08-24T05:40:36.133Z"
   },
   {
    "duration": 14,
    "start_time": "2023-08-24T05:40:36.142Z"
   },
   {
    "duration": 7,
    "start_time": "2023-08-24T05:40:36.157Z"
   },
   {
    "duration": 8,
    "start_time": "2023-08-24T05:40:36.166Z"
   },
   {
    "duration": 255,
    "start_time": "2023-08-24T05:40:36.176Z"
   },
   {
    "duration": 305,
    "start_time": "2023-08-24T05:40:36.432Z"
   },
   {
    "duration": 248,
    "start_time": "2023-08-24T05:40:36.739Z"
   },
   {
    "duration": 262,
    "start_time": "2023-08-24T05:40:36.989Z"
   },
   {
    "duration": 356,
    "start_time": "2023-08-24T05:40:37.253Z"
   },
   {
    "duration": 17,
    "start_time": "2023-08-24T05:40:37.611Z"
   },
   {
    "duration": 21,
    "start_time": "2023-08-24T05:40:37.630Z"
   },
   {
    "duration": 4,
    "start_time": "2023-08-24T05:40:37.653Z"
   },
   {
    "duration": 8,
    "start_time": "2023-08-24T05:40:37.659Z"
   },
   {
    "duration": 6,
    "start_time": "2023-08-24T05:40:37.668Z"
   },
   {
    "duration": 38,
    "start_time": "2023-08-24T05:40:37.675Z"
   },
   {
    "duration": 14,
    "start_time": "2023-08-24T05:40:37.715Z"
   },
   {
    "duration": 5,
    "start_time": "2023-08-24T05:40:37.730Z"
   },
   {
    "duration": 3097,
    "start_time": "2023-08-24T05:40:37.737Z"
   },
   {
    "duration": 76,
    "start_time": "2023-08-24T05:40:40.843Z"
   },
   {
    "duration": 14,
    "start_time": "2023-08-24T05:40:40.940Z"
   },
   {
    "duration": 2262,
    "start_time": "2023-08-24T05:40:40.956Z"
   },
   {
    "duration": 1562,
    "start_time": "2023-08-24T05:42:46.852Z"
   },
   {
    "duration": 43,
    "start_time": "2023-08-24T05:42:48.416Z"
   },
   {
    "duration": 21,
    "start_time": "2023-08-24T05:42:48.461Z"
   },
   {
    "duration": 15,
    "start_time": "2023-08-24T05:42:48.483Z"
   },
   {
    "duration": 18,
    "start_time": "2023-08-24T05:42:48.500Z"
   },
   {
    "duration": 5,
    "start_time": "2023-08-24T05:42:48.522Z"
   },
   {
    "duration": 24,
    "start_time": "2023-08-24T05:42:48.529Z"
   },
   {
    "duration": 16,
    "start_time": "2023-08-24T05:42:48.555Z"
   },
   {
    "duration": 7,
    "start_time": "2023-08-24T05:42:48.572Z"
   },
   {
    "duration": 292,
    "start_time": "2023-08-24T05:42:48.583Z"
   },
   {
    "duration": 256,
    "start_time": "2023-08-24T05:42:48.877Z"
   },
   {
    "duration": 347,
    "start_time": "2023-08-24T05:42:49.135Z"
   },
   {
    "duration": 310,
    "start_time": "2023-08-24T05:42:49.484Z"
   },
   {
    "duration": 386,
    "start_time": "2023-08-24T05:42:49.796Z"
   },
   {
    "duration": 12,
    "start_time": "2023-08-24T05:42:50.183Z"
   },
   {
    "duration": 41,
    "start_time": "2023-08-24T05:42:50.196Z"
   },
   {
    "duration": 5,
    "start_time": "2023-08-24T05:42:50.240Z"
   },
   {
    "duration": 21,
    "start_time": "2023-08-24T05:42:50.246Z"
   },
   {
    "duration": 11,
    "start_time": "2023-08-24T05:42:50.269Z"
   },
   {
    "duration": 6,
    "start_time": "2023-08-24T05:42:50.282Z"
   },
   {
    "duration": 6,
    "start_time": "2023-08-24T05:42:50.290Z"
   },
   {
    "duration": 14,
    "start_time": "2023-08-24T05:42:50.298Z"
   },
   {
    "duration": 3794,
    "start_time": "2023-08-24T05:42:50.316Z"
   },
   {
    "duration": 5,
    "start_time": "2023-08-24T05:42:54.111Z"
   },
   {
    "duration": 8,
    "start_time": "2023-08-24T05:42:54.118Z"
   },
   {
    "duration": 3686,
    "start_time": "2023-08-24T05:42:54.127Z"
   },
   {
    "duration": 1459,
    "start_time": "2023-08-24T05:50:42.956Z"
   },
   {
    "duration": 47,
    "start_time": "2023-08-24T05:50:46.182Z"
   },
   {
    "duration": 21,
    "start_time": "2023-08-24T05:50:48.670Z"
   },
   {
    "duration": 16,
    "start_time": "2023-08-24T05:50:51.660Z"
   },
   {
    "duration": 8,
    "start_time": "2023-08-24T05:50:53.788Z"
   },
   {
    "duration": 4,
    "start_time": "2023-08-24T05:50:56.133Z"
   },
   {
    "duration": 14,
    "start_time": "2023-08-24T05:50:58.196Z"
   },
   {
    "duration": 118,
    "start_time": "2023-08-24T05:51:08.365Z"
   },
   {
    "duration": 10,
    "start_time": "2023-08-24T05:51:16.037Z"
   },
   {
    "duration": 10,
    "start_time": "2023-08-24T05:51:19.828Z"
   },
   {
    "duration": 7,
    "start_time": "2023-08-24T05:51:32.685Z"
   },
   {
    "duration": 243,
    "start_time": "2023-08-24T05:51:35.347Z"
   },
   {
    "duration": 216,
    "start_time": "2023-08-24T05:53:07.898Z"
   },
   {
    "duration": 144,
    "start_time": "2023-08-24T05:54:32.500Z"
   },
   {
    "duration": 164,
    "start_time": "2023-08-24T05:54:43.181Z"
   },
   {
    "duration": 222,
    "start_time": "2023-08-24T05:54:59.324Z"
   },
   {
    "duration": 171,
    "start_time": "2023-08-24T05:55:12.546Z"
   },
   {
    "duration": 145,
    "start_time": "2023-08-24T05:55:27.497Z"
   },
   {
    "duration": 153,
    "start_time": "2023-08-24T05:57:55.932Z"
   },
   {
    "duration": 149,
    "start_time": "2023-08-24T05:58:00.957Z"
   },
   {
    "duration": 252,
    "start_time": "2023-08-24T05:58:18.873Z"
   },
   {
    "duration": 257,
    "start_time": "2023-08-24T06:00:00.606Z"
   },
   {
    "duration": 241,
    "start_time": "2023-08-24T06:00:34.416Z"
   },
   {
    "duration": 354,
    "start_time": "2023-08-24T06:00:48.810Z"
   },
   {
    "duration": 244,
    "start_time": "2023-08-24T06:04:09.417Z"
   },
   {
    "duration": 254,
    "start_time": "2023-08-24T06:06:43.605Z"
   },
   {
    "duration": 277,
    "start_time": "2023-08-24T06:06:48.479Z"
   },
   {
    "duration": 393,
    "start_time": "2023-08-24T06:07:02.855Z"
   },
   {
    "duration": 355,
    "start_time": "2023-08-24T06:10:47.230Z"
   },
   {
    "duration": 158,
    "start_time": "2023-08-24T06:10:56.819Z"
   },
   {
    "duration": 107,
    "start_time": "2023-08-24T06:12:56.790Z"
   },
   {
    "duration": 33,
    "start_time": "2023-08-24T06:14:51.421Z"
   },
   {
    "duration": 30,
    "start_time": "2023-08-24T06:15:02.544Z"
   },
   {
    "duration": 11,
    "start_time": "2023-08-24T06:15:37.316Z"
   },
   {
    "duration": 22,
    "start_time": "2023-08-24T06:15:40.876Z"
   },
   {
    "duration": 31,
    "start_time": "2023-08-24T06:19:48.628Z"
   },
   {
    "duration": 19,
    "start_time": "2023-08-24T06:20:58.925Z"
   },
   {
    "duration": 8,
    "start_time": "2023-08-24T06:21:03.183Z"
   },
   {
    "duration": 8,
    "start_time": "2023-08-24T06:21:05.763Z"
   },
   {
    "duration": 10,
    "start_time": "2023-08-24T06:21:09.450Z"
   },
   {
    "duration": 8,
    "start_time": "2023-08-24T06:21:11.644Z"
   },
   {
    "duration": 3,
    "start_time": "2023-08-24T06:21:14.616Z"
   },
   {
    "duration": 4,
    "start_time": "2023-08-24T06:21:56.079Z"
   },
   {
    "duration": 4,
    "start_time": "2023-08-24T06:23:35.101Z"
   },
   {
    "duration": 3,
    "start_time": "2023-08-24T06:24:10.644Z"
   },
   {
    "duration": 4,
    "start_time": "2023-08-24T06:24:21.071Z"
   },
   {
    "duration": 11640,
    "start_time": "2023-08-24T06:25:08.068Z"
   },
   {
    "duration": 215657,
    "start_time": "2023-08-24T06:25:43.354Z"
   },
   {
    "duration": 106865,
    "start_time": "2023-08-24T06:31:24.707Z"
   },
   {
    "duration": 11,
    "start_time": "2023-08-24T06:35:44.166Z"
   },
   {
    "duration": 3,
    "start_time": "2023-08-24T06:35:54.279Z"
   },
   {
    "duration": 47,
    "start_time": "2023-08-24T06:36:02.564Z"
   },
   {
    "duration": 6,
    "start_time": "2023-08-24T06:36:11.979Z"
   },
   {
    "duration": 7,
    "start_time": "2023-08-24T06:36:14.103Z"
   },
   {
    "duration": 5,
    "start_time": "2023-08-24T06:38:25.786Z"
   },
   {
    "duration": 20,
    "start_time": "2023-08-24T06:54:29.993Z"
   },
   {
    "duration": 5,
    "start_time": "2023-08-24T06:54:49.539Z"
   },
   {
    "duration": 5,
    "start_time": "2023-08-24T06:55:28.534Z"
   },
   {
    "duration": 6,
    "start_time": "2023-08-24T06:55:41.207Z"
   },
   {
    "duration": 1574,
    "start_time": "2023-08-24T06:59:23.502Z"
   },
   {
    "duration": 43,
    "start_time": "2023-08-24T06:59:25.078Z"
   },
   {
    "duration": 25,
    "start_time": "2023-08-24T06:59:25.123Z"
   },
   {
    "duration": 39,
    "start_time": "2023-08-24T06:59:25.150Z"
   },
   {
    "duration": 29,
    "start_time": "2023-08-24T06:59:25.191Z"
   },
   {
    "duration": 38,
    "start_time": "2023-08-24T06:59:25.222Z"
   },
   {
    "duration": 45,
    "start_time": "2023-08-24T06:59:25.262Z"
   },
   {
    "duration": 27,
    "start_time": "2023-08-24T06:59:25.309Z"
   },
   {
    "duration": 36,
    "start_time": "2023-08-24T06:59:25.338Z"
   },
   {
    "duration": 257,
    "start_time": "2023-08-24T06:59:25.377Z"
   },
   {
    "duration": 159,
    "start_time": "2023-08-24T06:59:25.636Z"
   },
   {
    "duration": 266,
    "start_time": "2023-08-24T06:59:25.797Z"
   },
   {
    "duration": 354,
    "start_time": "2023-08-24T06:59:26.065Z"
   },
   {
    "duration": 22,
    "start_time": "2023-08-24T06:59:26.421Z"
   },
   {
    "duration": 24,
    "start_time": "2023-08-24T06:59:26.445Z"
   },
   {
    "duration": 66,
    "start_time": "2023-08-24T06:59:26.471Z"
   },
   {
    "duration": 6,
    "start_time": "2023-08-24T06:59:26.538Z"
   },
   {
    "duration": 9,
    "start_time": "2023-08-24T06:59:26.546Z"
   },
   {
    "duration": 8,
    "start_time": "2023-08-24T06:59:26.556Z"
   },
   {
    "duration": 6,
    "start_time": "2023-08-24T06:59:26.565Z"
   },
   {
    "duration": 15,
    "start_time": "2023-08-24T06:59:26.573Z"
   },
   {
    "duration": 12,
    "start_time": "2023-08-24T06:59:26.610Z"
   },
   {
    "duration": 9,
    "start_time": "2023-08-24T06:59:26.624Z"
   },
   {
    "duration": 9,
    "start_time": "2023-08-24T06:59:26.636Z"
   },
   {
    "duration": 5774,
    "start_time": "2023-08-24T06:59:26.648Z"
   },
   {
    "duration": 1593,
    "start_time": "2023-08-24T07:00:59.266Z"
   },
   {
    "duration": 43,
    "start_time": "2023-08-24T07:01:00.861Z"
   },
   {
    "duration": 62,
    "start_time": "2023-08-24T07:01:00.906Z"
   },
   {
    "duration": 73,
    "start_time": "2023-08-24T07:01:00.970Z"
   },
   {
    "duration": 24,
    "start_time": "2023-08-24T07:01:01.045Z"
   },
   {
    "duration": 59,
    "start_time": "2023-08-24T07:01:01.071Z"
   },
   {
    "duration": 54,
    "start_time": "2023-08-24T07:01:01.132Z"
   },
   {
    "duration": 36,
    "start_time": "2023-08-24T07:01:01.188Z"
   },
   {
    "duration": 43,
    "start_time": "2023-08-24T07:01:01.226Z"
   },
   {
    "duration": 437,
    "start_time": "2023-08-24T07:01:01.272Z"
   },
   {
    "duration": 168,
    "start_time": "2023-08-24T07:01:01.711Z"
   },
   {
    "duration": 270,
    "start_time": "2023-08-24T07:01:01.880Z"
   },
   {
    "duration": 413,
    "start_time": "2023-08-24T07:01:02.152Z"
   },
   {
    "duration": 28,
    "start_time": "2023-08-24T07:01:02.567Z"
   },
   {
    "duration": 330,
    "start_time": "2023-08-24T07:01:02.609Z"
   },
   {
    "duration": 28,
    "start_time": "2023-08-24T07:01:02.942Z"
   },
   {
    "duration": 7,
    "start_time": "2023-08-24T07:01:02.972Z"
   },
   {
    "duration": 30,
    "start_time": "2023-08-24T07:01:02.981Z"
   },
   {
    "duration": 16,
    "start_time": "2023-08-24T07:01:03.012Z"
   },
   {
    "duration": 22,
    "start_time": "2023-08-24T07:01:03.030Z"
   },
   {
    "duration": 7,
    "start_time": "2023-08-24T07:01:03.054Z"
   },
   {
    "duration": 7,
    "start_time": "2023-08-24T07:01:03.063Z"
   },
   {
    "duration": 5,
    "start_time": "2023-08-24T07:01:03.071Z"
   },
   {
    "duration": 24,
    "start_time": "2023-08-24T07:01:03.078Z"
   },
   {
    "duration": 5113,
    "start_time": "2023-08-24T07:01:03.104Z"
   },
   {
    "duration": 1614,
    "start_time": "2023-08-24T07:01:42.866Z"
   },
   {
    "duration": 43,
    "start_time": "2023-08-24T07:01:44.483Z"
   },
   {
    "duration": 33,
    "start_time": "2023-08-24T07:01:44.528Z"
   },
   {
    "duration": 46,
    "start_time": "2023-08-24T07:01:44.565Z"
   },
   {
    "duration": 12,
    "start_time": "2023-08-24T07:01:44.613Z"
   },
   {
    "duration": 6,
    "start_time": "2023-08-24T07:01:44.627Z"
   },
   {
    "duration": 21,
    "start_time": "2023-08-24T07:01:44.636Z"
   },
   {
    "duration": 11,
    "start_time": "2023-08-24T07:01:44.659Z"
   },
   {
    "duration": 39,
    "start_time": "2023-08-24T07:01:44.672Z"
   },
   {
    "duration": 258,
    "start_time": "2023-08-24T07:01:44.714Z"
   },
   {
    "duration": 180,
    "start_time": "2023-08-24T07:01:44.973Z"
   },
   {
    "duration": 285,
    "start_time": "2023-08-24T07:01:45.155Z"
   },
   {
    "duration": 393,
    "start_time": "2023-08-24T07:01:45.442Z"
   },
   {
    "duration": 20,
    "start_time": "2023-08-24T07:01:45.837Z"
   },
   {
    "duration": 52,
    "start_time": "2023-08-24T07:01:45.859Z"
   },
   {
    "duration": 45,
    "start_time": "2023-08-24T07:01:45.912Z"
   },
   {
    "duration": 24,
    "start_time": "2023-08-24T07:01:45.960Z"
   },
   {
    "duration": 16,
    "start_time": "2023-08-24T07:01:45.987Z"
   },
   {
    "duration": 14,
    "start_time": "2023-08-24T07:01:46.005Z"
   },
   {
    "duration": 5,
    "start_time": "2023-08-24T07:01:46.022Z"
   },
   {
    "duration": 17,
    "start_time": "2023-08-24T07:01:46.029Z"
   },
   {
    "duration": 24,
    "start_time": "2023-08-24T07:01:46.047Z"
   },
   {
    "duration": 14,
    "start_time": "2023-08-24T07:01:46.073Z"
   },
   {
    "duration": 8,
    "start_time": "2023-08-24T07:01:46.089Z"
   },
   {
    "duration": 3817,
    "start_time": "2023-08-24T07:01:46.098Z"
   },
   {
    "duration": 1589,
    "start_time": "2023-08-24T07:02:18.564Z"
   },
   {
    "duration": 44,
    "start_time": "2023-08-24T07:02:20.155Z"
   },
   {
    "duration": 26,
    "start_time": "2023-08-24T07:02:20.200Z"
   },
   {
    "duration": 19,
    "start_time": "2023-08-24T07:02:20.228Z"
   },
   {
    "duration": 12,
    "start_time": "2023-08-24T07:02:20.250Z"
   },
   {
    "duration": 12,
    "start_time": "2023-08-24T07:02:20.264Z"
   },
   {
    "duration": 40,
    "start_time": "2023-08-24T07:02:20.278Z"
   },
   {
    "duration": 13,
    "start_time": "2023-08-24T07:02:20.320Z"
   },
   {
    "duration": 18,
    "start_time": "2023-08-24T07:02:20.334Z"
   },
   {
    "duration": 276,
    "start_time": "2023-08-24T07:02:20.356Z"
   },
   {
    "duration": 179,
    "start_time": "2023-08-24T07:02:20.635Z"
   },
   {
    "duration": 268,
    "start_time": "2023-08-24T07:02:20.815Z"
   },
   {
    "duration": 368,
    "start_time": "2023-08-24T07:02:21.085Z"
   },
   {
    "duration": 28,
    "start_time": "2023-08-24T07:02:21.455Z"
   },
   {
    "duration": 45,
    "start_time": "2023-08-24T07:02:21.485Z"
   },
   {
    "duration": 31,
    "start_time": "2023-08-24T07:02:21.533Z"
   },
   {
    "duration": 5,
    "start_time": "2023-08-24T07:02:21.566Z"
   },
   {
    "duration": 39,
    "start_time": "2023-08-24T07:02:21.574Z"
   },
   {
    "duration": 9,
    "start_time": "2023-08-24T07:02:21.615Z"
   },
   {
    "duration": 9,
    "start_time": "2023-08-24T07:02:21.626Z"
   },
   {
    "duration": 22,
    "start_time": "2023-08-24T07:02:21.638Z"
   },
   {
    "duration": 30,
    "start_time": "2023-08-24T07:02:21.663Z"
   },
   {
    "duration": 20,
    "start_time": "2023-08-24T07:02:21.696Z"
   },
   {
    "duration": 30,
    "start_time": "2023-08-24T07:02:21.718Z"
   },
   {
    "duration": 7465,
    "start_time": "2023-08-24T07:02:21.751Z"
   },
   {
    "duration": 1504,
    "start_time": "2023-08-24T07:03:15.930Z"
   },
   {
    "duration": 44,
    "start_time": "2023-08-24T07:03:17.436Z"
   },
   {
    "duration": 23,
    "start_time": "2023-08-24T07:03:17.481Z"
   },
   {
    "duration": 20,
    "start_time": "2023-08-24T07:03:17.507Z"
   },
   {
    "duration": 39,
    "start_time": "2023-08-24T07:03:17.530Z"
   },
   {
    "duration": 11,
    "start_time": "2023-08-24T07:03:17.572Z"
   },
   {
    "duration": 32,
    "start_time": "2023-08-24T07:03:17.585Z"
   },
   {
    "duration": 28,
    "start_time": "2023-08-24T07:03:17.619Z"
   },
   {
    "duration": 23,
    "start_time": "2023-08-24T07:03:17.649Z"
   },
   {
    "duration": 282,
    "start_time": "2023-08-24T07:03:17.675Z"
   },
   {
    "duration": 175,
    "start_time": "2023-08-24T07:03:17.959Z"
   },
   {
    "duration": 261,
    "start_time": "2023-08-24T07:03:18.136Z"
   },
   {
    "duration": 379,
    "start_time": "2023-08-24T07:03:18.399Z"
   },
   {
    "duration": 43,
    "start_time": "2023-08-24T07:03:18.782Z"
   },
   {
    "duration": 35,
    "start_time": "2023-08-24T07:03:18.827Z"
   },
   {
    "duration": 51,
    "start_time": "2023-08-24T07:03:18.864Z"
   },
   {
    "duration": 5,
    "start_time": "2023-08-24T07:03:18.917Z"
   },
   {
    "duration": 26,
    "start_time": "2023-08-24T07:03:18.924Z"
   },
   {
    "duration": 25,
    "start_time": "2023-08-24T07:03:18.952Z"
   },
   {
    "duration": 30,
    "start_time": "2023-08-24T07:03:18.979Z"
   },
   {
    "duration": 19,
    "start_time": "2023-08-24T07:03:19.011Z"
   },
   {
    "duration": 62,
    "start_time": "2023-08-24T07:03:19.032Z"
   },
   {
    "duration": 35,
    "start_time": "2023-08-24T07:03:19.096Z"
   },
   {
    "duration": 47,
    "start_time": "2023-08-24T07:03:19.133Z"
   },
   {
    "duration": 5834,
    "start_time": "2023-08-24T07:03:19.182Z"
   },
   {
    "duration": 1636,
    "start_time": "2023-08-24T07:03:51.419Z"
   },
   {
    "duration": 44,
    "start_time": "2023-08-24T07:03:53.058Z"
   },
   {
    "duration": 23,
    "start_time": "2023-08-24T07:03:53.104Z"
   },
   {
    "duration": 41,
    "start_time": "2023-08-24T07:03:53.130Z"
   },
   {
    "duration": 33,
    "start_time": "2023-08-24T07:03:53.173Z"
   },
   {
    "duration": 28,
    "start_time": "2023-08-24T07:03:53.207Z"
   },
   {
    "duration": 65,
    "start_time": "2023-08-24T07:03:53.236Z"
   },
   {
    "duration": 57,
    "start_time": "2023-08-24T07:03:53.303Z"
   },
   {
    "duration": 21,
    "start_time": "2023-08-24T07:03:53.362Z"
   },
   {
    "duration": 257,
    "start_time": "2023-08-24T07:03:53.386Z"
   },
   {
    "duration": 167,
    "start_time": "2023-08-24T07:03:53.645Z"
   },
   {
    "duration": 265,
    "start_time": "2023-08-24T07:03:53.814Z"
   },
   {
    "duration": 357,
    "start_time": "2023-08-24T07:03:54.081Z"
   },
   {
    "duration": 30,
    "start_time": "2023-08-24T07:03:54.441Z"
   },
   {
    "duration": 60,
    "start_time": "2023-08-24T07:03:54.473Z"
   },
   {
    "duration": 28,
    "start_time": "2023-08-24T07:03:54.535Z"
   },
   {
    "duration": 6,
    "start_time": "2023-08-24T07:03:54.565Z"
   },
   {
    "duration": 39,
    "start_time": "2023-08-24T07:03:54.573Z"
   },
   {
    "duration": 12,
    "start_time": "2023-08-24T07:03:54.614Z"
   },
   {
    "duration": 26,
    "start_time": "2023-08-24T07:03:54.628Z"
   },
   {
    "duration": 33,
    "start_time": "2023-08-24T07:03:54.656Z"
   },
   {
    "duration": 27,
    "start_time": "2023-08-24T07:03:54.691Z"
   },
   {
    "duration": 30,
    "start_time": "2023-08-24T07:03:54.720Z"
   },
   {
    "duration": 25,
    "start_time": "2023-08-24T07:03:54.752Z"
   },
   {
    "duration": 4038,
    "start_time": "2023-08-24T07:03:54.779Z"
   },
   {
    "duration": 1784,
    "start_time": "2023-08-24T07:39:06.033Z"
   },
   {
    "duration": 47,
    "start_time": "2023-08-24T07:39:07.819Z"
   },
   {
    "duration": 23,
    "start_time": "2023-08-24T07:39:07.868Z"
   },
   {
    "duration": 42,
    "start_time": "2023-08-24T07:39:07.893Z"
   },
   {
    "duration": 12,
    "start_time": "2023-08-24T07:39:07.937Z"
   },
   {
    "duration": 33,
    "start_time": "2023-08-24T07:39:07.952Z"
   },
   {
    "duration": 45,
    "start_time": "2023-08-24T07:39:07.987Z"
   },
   {
    "duration": 32,
    "start_time": "2023-08-24T07:39:08.034Z"
   },
   {
    "duration": 15,
    "start_time": "2023-08-24T07:39:08.068Z"
   },
   {
    "duration": 346,
    "start_time": "2023-08-24T07:39:08.087Z"
   },
   {
    "duration": 179,
    "start_time": "2023-08-24T07:39:08.436Z"
   },
   {
    "duration": 277,
    "start_time": "2023-08-24T07:39:08.624Z"
   },
   {
    "duration": 531,
    "start_time": "2023-08-24T07:39:08.910Z"
   },
   {
    "duration": 32,
    "start_time": "2023-08-24T07:39:09.443Z"
   },
   {
    "duration": 67,
    "start_time": "2023-08-24T07:39:09.477Z"
   },
   {
    "duration": 43,
    "start_time": "2023-08-24T07:39:09.547Z"
   },
   {
    "duration": 11,
    "start_time": "2023-08-24T07:39:09.591Z"
   },
   {
    "duration": 33,
    "start_time": "2023-08-24T07:39:09.604Z"
   },
   {
    "duration": 21,
    "start_time": "2023-08-24T07:39:09.639Z"
   },
   {
    "duration": 29,
    "start_time": "2023-08-24T07:39:09.662Z"
   },
   {
    "duration": 65,
    "start_time": "2023-08-24T07:39:09.693Z"
   },
   {
    "duration": 27,
    "start_time": "2023-08-24T07:39:09.760Z"
   },
   {
    "duration": 36,
    "start_time": "2023-08-24T07:39:09.790Z"
   },
   {
    "duration": 22,
    "start_time": "2023-08-24T07:39:09.829Z"
   },
   {
    "duration": 5857,
    "start_time": "2023-08-24T07:39:09.854Z"
   },
   {
    "duration": 2228,
    "start_time": "2023-08-24T12:05:01.449Z"
   },
   {
    "duration": 170,
    "start_time": "2023-08-24T12:05:03.679Z"
   },
   {
    "duration": 32,
    "start_time": "2023-08-24T12:05:03.851Z"
   },
   {
    "duration": 59,
    "start_time": "2023-08-24T12:05:03.885Z"
   },
   {
    "duration": 47,
    "start_time": "2023-08-24T12:05:03.947Z"
   },
   {
    "duration": 31,
    "start_time": "2023-08-24T12:05:03.997Z"
   },
   {
    "duration": 47,
    "start_time": "2023-08-24T12:05:04.031Z"
   },
   {
    "duration": 30,
    "start_time": "2023-08-24T12:05:04.080Z"
   },
   {
    "duration": 21,
    "start_time": "2023-08-24T12:05:04.113Z"
   },
   {
    "duration": 325,
    "start_time": "2023-08-24T12:05:04.136Z"
   },
   {
    "duration": 219,
    "start_time": "2023-08-24T12:05:04.464Z"
   },
   {
    "duration": 420,
    "start_time": "2023-08-24T12:05:04.691Z"
   },
   {
    "duration": 395,
    "start_time": "2023-08-24T12:05:05.113Z"
   },
   {
    "duration": 24,
    "start_time": "2023-08-24T12:05:05.513Z"
   },
   {
    "duration": 59,
    "start_time": "2023-08-24T12:05:05.540Z"
   },
   {
    "duration": 37,
    "start_time": "2023-08-24T12:05:05.601Z"
   },
   {
    "duration": 25,
    "start_time": "2023-08-24T12:05:05.640Z"
   },
   {
    "duration": 44,
    "start_time": "2023-08-24T12:05:05.667Z"
   },
   {
    "duration": 23,
    "start_time": "2023-08-24T12:05:05.713Z"
   },
   {
    "duration": 44,
    "start_time": "2023-08-24T12:05:05.738Z"
   },
   {
    "duration": 23,
    "start_time": "2023-08-24T12:05:05.784Z"
   },
   {
    "duration": 43,
    "start_time": "2023-08-24T12:05:05.810Z"
   },
   {
    "duration": 63,
    "start_time": "2023-08-24T12:05:05.855Z"
   },
   {
    "duration": 116,
    "start_time": "2023-08-24T12:05:05.920Z"
   },
   {
    "duration": 13269,
    "start_time": "2023-08-24T12:05:06.038Z"
   },
   {
    "duration": 2198513,
    "start_time": "2023-08-24T12:05:19.367Z"
   },
   {
    "duration": 53476,
    "start_time": "2023-08-24T12:41:57.882Z"
   },
   {
    "duration": 4,
    "start_time": "2023-08-24T12:42:51.360Z"
   },
   {
    "duration": 32,
    "start_time": "2023-08-24T12:42:51.365Z"
   },
   {
    "duration": 88,
    "start_time": "2023-08-24T12:42:51.399Z"
   },
   {
    "duration": 83,
    "start_time": "2023-08-24T12:42:51.489Z"
   },
   {
    "duration": 8,
    "start_time": "2023-08-24T12:42:51.577Z"
   },
   {
    "duration": 112,
    "start_time": "2023-08-24T12:42:51.589Z"
   },
   {
    "duration": 3,
    "start_time": "2023-08-24T13:14:40.482Z"
   },
   {
    "duration": 669,
    "start_time": "2023-08-24T13:14:42.302Z"
   },
   {
    "duration": 22,
    "start_time": "2023-08-24T13:14:46.667Z"
   },
   {
    "duration": 6,
    "start_time": "2023-08-24T13:14:48.185Z"
   },
   {
    "duration": 5,
    "start_time": "2023-08-24T13:14:55.077Z"
   },
   {
    "duration": 5,
    "start_time": "2023-08-24T13:14:56.888Z"
   },
   {
    "duration": 1754,
    "start_time": "2023-08-24T13:15:59.236Z"
   },
   {
    "duration": 45,
    "start_time": "2023-08-24T13:16:00.992Z"
   },
   {
    "duration": 41,
    "start_time": "2023-08-24T13:16:01.039Z"
   },
   {
    "duration": 72,
    "start_time": "2023-08-24T13:16:01.082Z"
   },
   {
    "duration": 62,
    "start_time": "2023-08-24T13:16:01.157Z"
   },
   {
    "duration": 69,
    "start_time": "2023-08-24T13:16:01.221Z"
   },
   {
    "duration": 93,
    "start_time": "2023-08-24T13:16:01.292Z"
   },
   {
    "duration": 51,
    "start_time": "2023-08-24T13:16:01.387Z"
   },
   {
    "duration": 71,
    "start_time": "2023-08-24T13:16:01.440Z"
   },
   {
    "duration": 300,
    "start_time": "2023-08-24T13:16:01.513Z"
   },
   {
    "duration": 183,
    "start_time": "2023-08-24T13:16:01.815Z"
   },
   {
    "duration": 281,
    "start_time": "2023-08-24T13:16:02.000Z"
   },
   {
    "duration": 431,
    "start_time": "2023-08-24T13:16:02.284Z"
   },
   {
    "duration": 24,
    "start_time": "2023-08-24T13:16:02.719Z"
   },
   {
    "duration": 39,
    "start_time": "2023-08-24T13:16:02.745Z"
   },
   {
    "duration": 26,
    "start_time": "2023-08-24T13:16:02.786Z"
   },
   {
    "duration": 6,
    "start_time": "2023-08-24T13:16:02.813Z"
   },
   {
    "duration": 27,
    "start_time": "2023-08-24T13:16:02.820Z"
   },
   {
    "duration": 22,
    "start_time": "2023-08-24T13:16:02.850Z"
   },
   {
    "duration": 11,
    "start_time": "2023-08-24T13:16:02.874Z"
   },
   {
    "duration": 19,
    "start_time": "2023-08-24T13:16:02.887Z"
   },
   {
    "duration": 22,
    "start_time": "2023-08-24T13:16:02.909Z"
   },
   {
    "duration": 17,
    "start_time": "2023-08-24T13:16:02.933Z"
   },
   {
    "duration": 10,
    "start_time": "2023-08-24T13:16:02.952Z"
   },
   {
    "duration": 4814,
    "start_time": "2023-08-24T13:16:02.963Z"
   },
   {
    "duration": 81207,
    "start_time": "2023-08-24T13:16:07.867Z"
   },
   {
    "duration": 50597,
    "start_time": "2023-08-24T13:17:29.076Z"
   },
   {
    "duration": 2,
    "start_time": "2023-08-24T13:18:19.675Z"
   },
   {
    "duration": 1089,
    "start_time": "2023-08-24T13:18:19.679Z"
   },
   {
    "duration": 9,
    "start_time": "2023-08-24T13:18:20.769Z"
   },
   {
    "duration": 25,
    "start_time": "2023-08-24T13:18:20.780Z"
   },
   {
    "duration": 15,
    "start_time": "2023-08-24T13:18:20.807Z"
   },
   {
    "duration": 27,
    "start_time": "2023-08-24T13:18:20.823Z"
   },
   {
    "duration": 6804,
    "start_time": "2023-08-24T14:51:09.671Z"
   },
   {
    "duration": 300,
    "start_time": "2023-08-24T14:51:16.481Z"
   },
   {
    "duration": 109,
    "start_time": "2023-08-24T14:51:16.869Z"
   },
   {
    "duration": 193,
    "start_time": "2023-08-24T14:51:16.989Z"
   },
   {
    "duration": 382,
    "start_time": "2023-08-24T14:51:17.192Z"
   },
   {
    "duration": 96,
    "start_time": "2023-08-24T14:51:17.577Z"
   },
   {
    "duration": 100,
    "start_time": "2023-08-24T14:51:17.678Z"
   },
   {
    "duration": 94,
    "start_time": "2023-08-24T14:51:17.781Z"
   },
   {
    "duration": 99,
    "start_time": "2023-08-24T14:51:17.877Z"
   },
   {
    "duration": 1812,
    "start_time": "2023-08-24T14:51:17.979Z"
   },
   {
    "duration": 984,
    "start_time": "2023-08-24T14:51:19.794Z"
   },
   {
    "duration": 1590,
    "start_time": "2023-08-24T14:51:20.784Z"
   },
   {
    "duration": 2107,
    "start_time": "2023-08-24T14:51:22.380Z"
   },
   {
    "duration": 179,
    "start_time": "2023-08-24T14:51:24.492Z"
   },
   {
    "duration": 195,
    "start_time": "2023-08-24T14:51:24.673Z"
   },
   {
    "duration": 213,
    "start_time": "2023-08-24T14:51:24.871Z"
   },
   {
    "duration": 11,
    "start_time": "2023-08-24T14:51:25.172Z"
   },
   {
    "duration": 11,
    "start_time": "2023-08-24T14:51:25.268Z"
   },
   {
    "duration": 194,
    "start_time": "2023-08-24T14:51:25.283Z"
   },
   {
    "duration": 192,
    "start_time": "2023-08-24T14:51:25.479Z"
   },
   {
    "duration": 95,
    "start_time": "2023-08-24T14:51:25.673Z"
   },
   {
    "duration": 100,
    "start_time": "2023-08-24T14:51:25.770Z"
   },
   {
    "duration": 102,
    "start_time": "2023-08-24T14:51:25.872Z"
   },
   {
    "duration": 95,
    "start_time": "2023-08-24T14:51:25.977Z"
   },
   {
    "duration": 13295,
    "start_time": "2023-08-24T14:51:26.074Z"
   }
  ],
  "kernelspec": {
   "display_name": "Python 3 (ipykernel)",
   "language": "python",
   "name": "python3"
  },
  "language_info": {
   "codemirror_mode": {
    "name": "ipython",
    "version": 3
   },
   "file_extension": ".py",
   "mimetype": "text/x-python",
   "name": "python",
   "nbconvert_exporter": "python",
   "pygments_lexer": "ipython3",
   "version": "3.9.16"
  },
  "toc": {
   "base_numbering": 1,
   "nav_menu": {
    "height": "161px",
    "width": "230px"
   },
   "number_sections": true,
   "sideBar": true,
   "skip_h1_title": true,
   "title_cell": "Содержание",
   "title_sidebar": "Contents",
   "toc_cell": true,
   "toc_position": {},
   "toc_section_display": true,
   "toc_window_display": true
  }
 },
 "nbformat": 4,
 "nbformat_minor": 2
}
