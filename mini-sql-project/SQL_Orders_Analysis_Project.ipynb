{
 "cells": [
  {
   "cell_type": "markdown",
   "id": "0a35528d",
   "metadata": {},
   "source": [
    "# 📊 Мини-проект: Анализ заказов с помощью SQLite и Pandas"
   ]
  },
  {
   "cell_type": "code",
   "execution_count": 1,
   "id": "2272c038",
   "metadata": {},
   "outputs": [],
   "source": [
    "\n",
    "import sqlite3\n",
    "import pandas as pd\n",
    "import numpy as np\n",
    "import matplotlib.pyplot as plt\n",
    "from IPython.display import display\n"
   ]
  },
  {
   "cell_type": "markdown",
   "id": "ea9b9d84",
   "metadata": {},
   "source": [
    "## Создание базы данных и таблицы"
   ]
  },
  {
   "cell_type": "code",
   "execution_count": 2,
   "id": "e34f81b8",
   "metadata": {},
   "outputs": [],
   "source": [
    "\n",
    "conn = sqlite3.connect(':memory:')\n",
    "cursor = conn.cursor()\n"
   ]
  },
  {
   "cell_type": "code",
   "execution_count": 3,
   "id": "a32beba8",
   "metadata": {},
   "outputs": [
    {
     "data": {
      "text/plain": [
       "<sqlite3.Cursor at 0x23bf0f96a40>"
      ]
     },
     "execution_count": 3,
     "metadata": {},
     "output_type": "execute_result"
    }
   ],
   "source": [
    "# Создаем таблицу orders\n",
    "cursor.execute('''\n",
    "CREATE TABLE orders (\n",
    "    id INTEGER PRIMARY KEY AUTOINCREMENT,\n",
    "    user_id INTEGER,\n",
    "    item TEXT,\n",
    "    quantity INTEGER,\n",
    "    price REAL,\n",
    "    order_date TEXT\n",
    ")\n",
    "''')"
   ]
  },
  {
   "cell_type": "code",
   "execution_count": 4,
   "id": "c907592e",
   "metadata": {},
   "outputs": [
    {
     "data": {
      "text/plain": [
       "<sqlite3.Cursor at 0x23bf0f96a40>"
      ]
     },
     "execution_count": 4,
     "metadata": {},
     "output_type": "execute_result"
    }
   ],
   "source": [
    "cursor.execute('''\n",
    "CREATE TABLE users (\n",
    "    user_id INTEGER PRIMARY KEY AUTOINCREMENT,\n",
    "    user_name TEXT,\n",
    "    registration_date TEXT\n",
    ")\n",
    "''')"
   ]
  },
  {
   "cell_type": "code",
   "execution_count": 5,
   "id": "45877138",
   "metadata": {},
   "outputs": [
    {
     "name": "stdout",
     "output_type": "stream",
     "text": [
      "[('orders',), ('sqlite_sequence',), ('users',)]\n"
     ]
    }
   ],
   "source": [
    "# Проверим, созданы ли таблицы\n",
    "cursor.execute(\"SELECT name FROM sqlite_master WHERE type='table';\")\n",
    "tables = cursor.fetchall()\n",
    "print(tables)  # Выведет список всех таблиц в базе данных"
   ]
  },
  {
   "cell_type": "markdown",
   "id": "032a178f",
   "metadata": {},
   "source": [
    "## Генерация фиктивных данных и вставка в таблицу"
   ]
  },
  {
   "cell_type": "code",
   "execution_count": 6,
   "id": "9881cd74",
   "metadata": {},
   "outputs": [],
   "source": [
    "# Добавление пользователей\n",
    "cursor.executemany('''\n",
    "INSERT INTO users (user_name, registration_date)\n",
    "VALUES (?, ?)\n",
    "''', [\n",
    "    ('John Doe', '2023-01-15'),\n",
    "    ('Jane Smith', '2023-02-01')\n",
    "])\n",
    "\n",
    "# Добавление заказов\n",
    "cursor.executemany('''\n",
    "INSERT INTO orders (user_id, item, quantity, price, order_date)\n",
    "VALUES (?, ?, ?, ?, ?)\n",
    "''', [\n",
    "    (1, 'Book', 2, 20.5, '2023-02-01'),\n",
    "    (2, 'Laptop', 1, 500.0, '2023-02-05'),\n",
    "    (1, 'Pen', 5, 1.5, '2023-02-07')\n",
    "])\n",
    "\n",
    "conn.commit()\n"
   ]
  },
  {
   "cell_type": "code",
   "execution_count": 7,
   "id": "f1f52777",
   "metadata": {},
   "outputs": [
    {
     "name": "stdout",
     "output_type": "stream",
     "text": [
      "('John Doe', 'Book', 2, 20.5, '2023-02-01')\n",
      "('Jane Smith', 'Laptop', 1, 500.0, '2023-02-05')\n",
      "('John Doe', 'Pen', 5, 1.5, '2023-02-07')\n"
     ]
    }
   ],
   "source": [
    "# Получаем информацию о заказах с именем пользователя\n",
    "cursor.execute('''\n",
    "SELECT u.user_name, o.item, o.quantity, o.price, o.order_date\n",
    "FROM users u\n",
    "JOIN orders o ON u.user_id = o.user_id\n",
    "''')\n",
    "\n",
    "# Выводим результаты\n",
    "for row in cursor.fetchall():\n",
    "    print(row)"
   ]
  },
  {
   "cell_type": "markdown",
   "id": "8d01382a",
   "metadata": {},
   "source": [
    "## Выполнение SQL-запросов"
   ]
  },
  {
   "cell_type": "code",
   "execution_count": 8,
   "id": "4d785505",
   "metadata": {},
   "outputs": [
    {
     "name": "stdout",
     "output_type": "stream",
     "text": [
      "--- Общее количество заказов ---\n"
     ]
    },
    {
     "data": {
      "text/html": [
       "<div>\n",
       "<style scoped>\n",
       "    .dataframe tbody tr th:only-of-type {\n",
       "        vertical-align: middle;\n",
       "    }\n",
       "\n",
       "    .dataframe tbody tr th {\n",
       "        vertical-align: top;\n",
       "    }\n",
       "\n",
       "    .dataframe thead th {\n",
       "        text-align: right;\n",
       "    }\n",
       "</style>\n",
       "<table border=\"1\" class=\"dataframe\">\n",
       "  <thead>\n",
       "    <tr style=\"text-align: right;\">\n",
       "      <th></th>\n",
       "      <th>COUNT(*)</th>\n",
       "    </tr>\n",
       "  </thead>\n",
       "  <tbody>\n",
       "    <tr>\n",
       "      <th>0</th>\n",
       "      <td>3</td>\n",
       "    </tr>\n",
       "  </tbody>\n",
       "</table>\n",
       "</div>"
      ],
      "text/plain": [
       "   COUNT(*)\n",
       "0         3"
      ]
     },
     "metadata": {},
     "output_type": "display_data"
    },
    {
     "name": "stdout",
     "output_type": "stream",
     "text": [
      "--- Общий доход ---\n"
     ]
    },
    {
     "data": {
      "text/html": [
       "<div>\n",
       "<style scoped>\n",
       "    .dataframe tbody tr th:only-of-type {\n",
       "        vertical-align: middle;\n",
       "    }\n",
       "\n",
       "    .dataframe tbody tr th {\n",
       "        vertical-align: top;\n",
       "    }\n",
       "\n",
       "    .dataframe thead th {\n",
       "        text-align: right;\n",
       "    }\n",
       "</style>\n",
       "<table border=\"1\" class=\"dataframe\">\n",
       "  <thead>\n",
       "    <tr style=\"text-align: right;\">\n",
       "      <th></th>\n",
       "      <th>revenue</th>\n",
       "    </tr>\n",
       "  </thead>\n",
       "  <tbody>\n",
       "    <tr>\n",
       "      <th>0</th>\n",
       "      <td>548.5</td>\n",
       "    </tr>\n",
       "  </tbody>\n",
       "</table>\n",
       "</div>"
      ],
      "text/plain": [
       "   revenue\n",
       "0    548.5"
      ]
     },
     "metadata": {},
     "output_type": "display_data"
    },
    {
     "name": "stdout",
     "output_type": "stream",
     "text": [
      "--- Средний чек ---\n"
     ]
    },
    {
     "data": {
      "text/html": [
       "<div>\n",
       "<style scoped>\n",
       "    .dataframe tbody tr th:only-of-type {\n",
       "        vertical-align: middle;\n",
       "    }\n",
       "\n",
       "    .dataframe tbody tr th {\n",
       "        vertical-align: top;\n",
       "    }\n",
       "\n",
       "    .dataframe thead th {\n",
       "        text-align: right;\n",
       "    }\n",
       "</style>\n",
       "<table border=\"1\" class=\"dataframe\">\n",
       "  <thead>\n",
       "    <tr style=\"text-align: right;\">\n",
       "      <th></th>\n",
       "      <th>avg_order</th>\n",
       "    </tr>\n",
       "  </thead>\n",
       "  <tbody>\n",
       "    <tr>\n",
       "      <th>0</th>\n",
       "      <td>182.83</td>\n",
       "    </tr>\n",
       "  </tbody>\n",
       "</table>\n",
       "</div>"
      ],
      "text/plain": [
       "   avg_order\n",
       "0     182.83"
      ]
     },
     "metadata": {},
     "output_type": "display_data"
    },
    {
     "name": "stdout",
     "output_type": "stream",
     "text": [
      "--- Самый популярный товар ---\n"
     ]
    },
    {
     "data": {
      "text/html": [
       "<div>\n",
       "<style scoped>\n",
       "    .dataframe tbody tr th:only-of-type {\n",
       "        vertical-align: middle;\n",
       "    }\n",
       "\n",
       "    .dataframe tbody tr th {\n",
       "        vertical-align: top;\n",
       "    }\n",
       "\n",
       "    .dataframe thead th {\n",
       "        text-align: right;\n",
       "    }\n",
       "</style>\n",
       "<table border=\"1\" class=\"dataframe\">\n",
       "  <thead>\n",
       "    <tr style=\"text-align: right;\">\n",
       "      <th></th>\n",
       "      <th>item</th>\n",
       "      <th>freq</th>\n",
       "    </tr>\n",
       "  </thead>\n",
       "  <tbody>\n",
       "    <tr>\n",
       "      <th>0</th>\n",
       "      <td>Pen</td>\n",
       "      <td>1</td>\n",
       "    </tr>\n",
       "  </tbody>\n",
       "</table>\n",
       "</div>"
      ],
      "text/plain": [
       "  item  freq\n",
       "0  Pen     1"
      ]
     },
     "metadata": {},
     "output_type": "display_data"
    },
    {
     "name": "stdout",
     "output_type": "stream",
     "text": [
      "--- Доход по дням ---\n"
     ]
    },
    {
     "data": {
      "text/html": [
       "<div>\n",
       "<style scoped>\n",
       "    .dataframe tbody tr th:only-of-type {\n",
       "        vertical-align: middle;\n",
       "    }\n",
       "\n",
       "    .dataframe tbody tr th {\n",
       "        vertical-align: top;\n",
       "    }\n",
       "\n",
       "    .dataframe thead th {\n",
       "        text-align: right;\n",
       "    }\n",
       "</style>\n",
       "<table border=\"1\" class=\"dataframe\">\n",
       "  <thead>\n",
       "    <tr style=\"text-align: right;\">\n",
       "      <th></th>\n",
       "      <th>order_date</th>\n",
       "      <th>daily_revenue</th>\n",
       "    </tr>\n",
       "  </thead>\n",
       "  <tbody>\n",
       "    <tr>\n",
       "      <th>0</th>\n",
       "      <td>2023-02-01</td>\n",
       "      <td>41.0</td>\n",
       "    </tr>\n",
       "    <tr>\n",
       "      <th>1</th>\n",
       "      <td>2023-02-05</td>\n",
       "      <td>500.0</td>\n",
       "    </tr>\n",
       "    <tr>\n",
       "      <th>2</th>\n",
       "      <td>2023-02-07</td>\n",
       "      <td>7.5</td>\n",
       "    </tr>\n",
       "  </tbody>\n",
       "</table>\n",
       "</div>"
      ],
      "text/plain": [
       "   order_date  daily_revenue\n",
       "0  2023-02-01           41.0\n",
       "1  2023-02-05          500.0\n",
       "2  2023-02-07            7.5"
      ]
     },
     "metadata": {},
     "output_type": "display_data"
    }
   ],
   "source": [
    "\n",
    "queries = {\n",
    "    \"Общее количество заказов\": \"SELECT COUNT(*) FROM orders\",\n",
    "    \"Общий доход\": \"SELECT ROUND(SUM(quantity * price), 2) AS revenue FROM orders\",\n",
    "    \"Средний чек\": \"SELECT ROUND(AVG(quantity * price), 2) AS avg_order FROM orders\",\n",
    "    \"Самый популярный товар\": \"SELECT item, COUNT(*) AS freq FROM orders GROUP BY item ORDER BY freq DESC LIMIT 1\",\n",
    "    \"Доход по дням\": '''\n",
    "        SELECT order_date, ROUND(SUM(quantity * price), 2) as daily_revenue \n",
    "        FROM orders GROUP BY order_date ORDER BY order_date\n",
    "    '''\n",
    "}\n",
    "\n",
    "results = {}\n",
    "for title, q in queries.items():\n",
    "    results[title] = pd.read_sql_query(q, conn)\n",
    "    print(f\"--- {title} ---\")\n",
    "    display(results[title])\n"
   ]
  },
  {
   "cell_type": "code",
   "execution_count": 9,
   "id": "9b40c551",
   "metadata": {},
   "outputs": [
    {
     "data": {
      "text/plain": [
       "<sqlite3.Cursor at 0x23bf0f96a40>"
      ]
     },
     "execution_count": 9,
     "metadata": {},
     "output_type": "execute_result"
    }
   ],
   "source": [
    "#Подсчитаем выручку по пользователям, но только для пользователей с более чем 5 заказами\n",
    "cursor.execute('''\n",
    "SELECT user_name, total_revenue \n",
    "FROM (\n",
    "    SELECT u.user_name, SUM(o.price * o.quantity) AS total_revenue\n",
    "    FROM users u\n",
    "    LEFT JOIN orders o ON u.user_id = o.user_id\n",
    "    GROUP BY u.user_name\n",
    "    HAVING COUNT(o.id) > 5\n",
    ") AS revenue;\n",
    "''')"
   ]
  },
  {
   "cell_type": "code",
   "execution_count": 10,
   "id": "e9dbfa6e",
   "metadata": {},
   "outputs": [
    {
     "data": {
      "text/plain": [
       "<sqlite3.Cursor at 0x23bf0f96a40>"
      ]
     },
     "execution_count": 10,
     "metadata": {},
     "output_type": "execute_result"
    }
   ],
   "source": [
    "#Пример запроса для анализа дохода по дням:\n",
    "cursor.execute('''\n",
    "SELECT order_date, ROUND(SUM(price * quantity), 2) AS daily_revenue\n",
    "FROM orders\n",
    "GROUP BY order_date\n",
    "ORDER BY order_date;\n",
    "''')"
   ]
  },
  {
   "cell_type": "code",
   "execution_count": 11,
   "id": "6599b581",
   "metadata": {},
   "outputs": [
    {
     "data": {
      "text/plain": [
       "<sqlite3.Cursor at 0x23bf0f96a40>"
      ]
     },
     "execution_count": 11,
     "metadata": {},
     "output_type": "execute_result"
    }
   ],
   "source": [
    "cursor.execute('''\n",
    "SELECT * FROM orders\n",
    "LIMIT 10 OFFSET 20;\n",
    "''')"
   ]
  },
  {
   "cell_type": "markdown",
   "id": "2ba704bc",
   "metadata": {},
   "source": [
    "## Визуализация данных по выручке"
   ]
  },
  {
   "cell_type": "code",
   "execution_count": 12,
   "id": "82a6fa3c",
   "metadata": {},
   "outputs": [],
   "source": [
    "# Загрузка данных из базы данных\n",
    "daily_revenue = pd.read_sql_query('''\n",
    "    SELECT order_date, ROUND(SUM(price * quantity), 2) AS daily_revenue\n",
    "    FROM orders\n",
    "    GROUP BY order_date\n",
    "    ORDER BY order_date;\n",
    "''', conn)"
   ]
  },
  {
   "cell_type": "code",
   "execution_count": 13,
   "id": "ba943291",
   "metadata": {},
   "outputs": [],
   "source": [
    "# Преобразуем колонку с датой в формат datetime\n",
    "daily_revenue['order_date'] = pd.to_datetime(daily_revenue['order_date'])"
   ]
  },
  {
   "cell_type": "code",
   "execution_count": 14,
   "id": "5a8a2f33",
   "metadata": {},
   "outputs": [
    {
     "data": {
      "image/png": "[encoded data removed]",
      "text/plain": [
       "<Figure size 1200x600 with 1 Axes>"
      ]
     },
     "metadata": {},
     "output_type": "display_data"
    }
   ],
   "source": [
    "# Визуализация данных\n",
    "plt.figure(figsize=(12, 6))\n",
    "plt.plot(daily_revenue['order_date'], daily_revenue['daily_revenue'], marker='o')\n",
    "plt.title('Доход по дням')\n",
    "plt.xlabel('Дата')\n",
    "plt.ylabel('Доход')\n",
    "plt.grid(True)\n",
    "plt.tight_layout()\n",
    "plt.show()"
   ]
  },
  {
   "cell_type": "markdown",
   "id": "5db5f8fb",
   "metadata": {},
   "source": [
    "## Закрытие соединения с БД"
   ]
  },
  {
   "cell_type": "code",
   "execution_count": 15,
   "id": "cadd2dbb",
   "metadata": {},
   "outputs": [],
   "source": [
    "conn.close()"
   ]
  }
 ],
 "metadata": {
  "kernelspec": {
   "display_name": "Python (newenv)",
   "language": "python",
   "name": "newenv"
  },
  "language_info": {
   "codemirror_mode": {
    "name": "ipython",
    "version": 3
   },
   "file_extension": ".py",
   "mimetype": "text/x-python",
   "name": "python",
   "nbconvert_exporter": "python",
   "pygments_lexer": "ipython3",
   "version": "3.8.20"
  },
  "toc": {
   "base_numbering": 1,
   "nav_menu": {},
   "number_sections": true,
   "sideBar": true,
   "skip_h1_title": false,
   "title_cell": "Table of Contents",
   "title_sidebar": "Contents",
   "toc_cell": false,
   "toc_position": {},
   "toc_section_display": true,
   "toc_window_display": false
  }
 },
 "nbformat": 4,
 "nbformat_minor": 5
}
