{
 "cells": [
  {
   "cell_type": "code",
   "execution_count": 3,
   "id": "28e4bce4",
   "metadata": {},
   "outputs": [
    {
     "name": "stdout",
     "output_type": "stream",
     "text": [
      "Overwriting app.py\n"
     ]
    }
   ],
   "source": [
    "%%writefile app.py\n",
    "from fastapi import FastAPI\n",
    "import pandas as pd\n",
    "import numpy as np\n",
    "\n",
    "app = FastAPI()\n",
    "\n",
    "# Генерация данных для рейсов\n",
    "def generate_flight_data():\n",
    "    np.random.seed(42)\n",
    "    flight_ids = ['AA101', 'BB202', 'CC303', 'DD404', 'EE505']\n",
    "    destinations = ['New York', 'Los Angeles', 'Chicago', 'San Francisco', 'Miami']\n",
    "    departure_times = pd.date_range('2023-01-01', periods=5, freq='12H')\n",
    "    arrival_times = departure_times + pd.to_timedelta(np.random.randint(60, 180, size=5), unit='m')\n",
    "\n",
    "    data = {\n",
    "        'Flight': flight_ids,\n",
    "        'Departure': departure_times,\n",
    "        'Arrival': arrival_times,\n",
    "        'Destination': destinations,\n",
    "    }\n",
    "    return pd.DataFrame(data)\n",
    "\n",
    "@app.get(\"/flights\")\n",
    "async def get_flights():\n",
    "    df = generate_flight_data()\n",
    "    return df.to_dict(orient=\"records\")\n",
    "\n",
    "# Запуск FastAPI на порту 8001\n",
    "if __name__ == \"__main__\":\n",
    "    import uvicorn\n",
    "    uvicorn.run(app, host=\"127.0.0.1\", port=8001)"
   ]
  }
 ],
 "metadata": {
  "kernelspec": {
   "display_name": "Python (newenv)",
   "language": "python",
   "name": "newenv"
  },
  "language_info": {
   "codemirror_mode": {
    "name": "ipython",
    "version": 3
   },
   "file_extension": ".py",
   "mimetype": "text/x-python",
   "name": "python",
   "nbconvert_exporter": "python",
   "pygments_lexer": "ipython3",
   "version": "3.8.20"
  },
  "toc": {
   "base_numbering": 1,
   "nav_menu": {},
   "number_sections": true,
   "sideBar": true,
   "skip_h1_title": false,
   "title_cell": "Table of Contents",
   "title_sidebar": "Contents",
   "toc_cell": false,
   "toc_position": {},
   "toc_section_display": true,
   "toc_window_display": false
  }
 },
 "nbformat": 4,
 "nbformat_minor": 5
}
