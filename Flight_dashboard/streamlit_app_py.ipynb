{
 "cells": [
  {
   "cell_type": "code",
   "execution_count": 3,
   "id": "3b4b5607",
   "metadata": {},
   "outputs": [
    {
     "name": "stdout",
     "output_type": "stream",
     "text": [
      "Overwriting streamlit_app.py\n"
     ]
    }
   ],
   "source": [
    "%%writefile streamlit_app.py\n",
    "import streamlit as st\n",
    "import pandas as pd\n",
    "import requests\n",
    "\n",
    "# Заголовок для Streamlit\n",
    "st.title(\"Flight Dashboard\")\n",
    "st.write(\"This dashboard shows information about flight departures and arrivals.\")\n",
    "\n",
    "# Получаем данные от FastAPI\n",
    "response = requests.get(\"http://127.0.0.1:8001/flights\")\n",
    "data = response.json()  # Получаем данные в формате JSON\n",
    "\n",
    "# Преобразуем в DataFrame для отображения\n",
    "df = pd.DataFrame(data)\n",
    "\n",
    "# Отображаем DataFrame\n",
    "st.write(\"Flight Data:\", df)\n",
    "\n",
    "# Расчет метрик\n",
    "total_flights = len(df)\n",
    "earliest_departure = df['Departure'].min()\n",
    "latest_arrival = df['Arrival'].max()\n",
    "\n",
    "# Вывод метрик\n",
    "st.write(f\"Total number of flights: {total_flights}\")\n",
    "st.write(f\"Earliest departure time: {earliest_departure}\")\n",
    "st.write(f\"Latest arrival time: {latest_arrival}\")\n",
    "\n",
    "# Визуализация данных\n",
    "st.write(\"Flight departure and arrival times:\")\n",
    "st.line_chart(df[['Departure', 'Arrival']])"
   ]
  }
 ],
 "metadata": {
  "kernelspec": {
   "display_name": "Python (newenv)",
   "language": "python",
   "name": "newenv"
  },
  "language_info": {
   "codemirror_mode": {
    "name": "ipython",
    "version": 3
   },
   "file_extension": ".py",
   "mimetype": "text/x-python",
   "name": "python",
   "nbconvert_exporter": "python",
   "pygments_lexer": "ipython3",
   "version": "3.8.20"
  },
  "toc": {
   "base_numbering": 1,
   "nav_menu": {},
   "number_sections": true,
   "sideBar": true,
   "skip_h1_title": false,
   "title_cell": "Table of Contents",
   "title_sidebar": "Contents",
   "toc_cell": false,
   "toc_position": {},
   "toc_section_display": true,
   "toc_window_display": false
  }
 },
 "nbformat": 4,
 "nbformat_minor": 5
}
